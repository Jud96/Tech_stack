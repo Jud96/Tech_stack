{
 "cells": [
  {
   "cell_type": "markdown",
   "metadata": {},
   "source": [
    "## understanding the data \n",
    "| column name | description |\n",
    "| --- | --- |\n",
    "|manufacturer | the manufacturer of the car |\n",
    "|mpg | miles per gallon |\n",
    "|cyl| number of cylinders |\n",
    "|disp | displacement |\n",
    "|hp | horsepower |\n",
    "|drat | rear axle ratio |\n",
    "|wt | weight |\n",
    "|qsec | 1/4 mile time |\n",
    "|vs | V/S |\n",
    "|am | transmission |\n",
    "|gear | number of forward gears |\n",
    "|carb | number of carburetors |\n",
    "\n",
    "## Downloading the data"
   ]
  },
  {
   "cell_type": "code",
   "execution_count": null,
   "metadata": {},
   "outputs": [],
   "source": [
    "%%bash \n",
    "# get mtcars data and save it in tmp folder\n",
    "wget https://raw.githubusercontent.com/plotly/datasets/master/mtcars.csv -O tmp/mtcars.csv"
   ]
  },
  {
   "cell_type": "markdown",
   "metadata": {},
   "source": [
    "## Initializations"
   ]
  },
  {
   "cell_type": "code",
   "execution_count": 46,
   "metadata": {},
   "outputs": [],
   "source": [
    "#!pip install pyspark\n",
    "#!pip install numpy\n",
    "#!pip install pandas"
   ]
  },
  {
   "cell_type": "code",
   "execution_count": 22,
   "metadata": {},
   "outputs": [],
   "source": [
    "from pyspark.sql import SparkSession\n",
    "from pyspark.ml.regression import LinearRegression\n",
    "from pyspark.mllib.evaluation import RegressionMetrics\n",
    "\n",
    "from pyspark.ml.tuning import ParamGridBuilder, CrossValidator, CrossValidatorModel\n",
    "from pyspark.ml.feature import VectorAssembler, StandardScaler\n",
    "from pyspark.ml.evaluation import RegressionEvaluator\n",
    "\n",
    "spark = SparkSession.builder.appName(\"ML\").getOrCreate()"
   ]
  },
  {
   "cell_type": "markdown",
   "metadata": {},
   "source": [
    "**Linear Regression** is a statistical method that models the relationship between a dependent variable and one or more independent variables by fitting a linear equation to observed data. One of the most common methods used in machine learning.\n",
    "**train test split** is a method used to split the data into two parts, one for training and the other for testing. The training data is used to train the model and the testing data is used to evaluate the model.\n",
    "**mean squared error** is a method used to evaluate the performance of a model. It is the average of the squared differences between the predicted values and the actual values.\n",
    "**feature scaling** is a method used to standardize the range of independent variables or features of data. It is used to normalize the data so that the model can learn the patterns in the data more effectively.\n",
    "**feature engineering** is a method used to create new features from the existing features in the data. It is used to improve the performance of the model by providing more information to the model."
   ]
  },
  {
   "cell_type": "code",
   "execution_count": 35,
   "metadata": {},
   "outputs": [],
   "source": [
    "mtcars_df = spark.read.csv('tmp/mtcars.csv', header=True, inferSchema=True)"
   ]
  },
  {
   "cell_type": "code",
   "execution_count": 6,
   "metadata": {},
   "outputs": [
    {
     "name": "stdout",
     "output_type": "stream",
     "text": [
      "+-----------------+----+---+-----+---+----+-----+-----+---+---+----+----+\n",
      "|     manufacturer| mpg|cyl| disp| hp|drat|   wt| qsec| vs| am|gear|carb|\n",
      "+-----------------+----+---+-----+---+----+-----+-----+---+---+----+----+\n",
      "|        Mazda RX4|21.0|  6|160.0|110| 3.9| 2.62|16.46|  0|  1|   4|   4|\n",
      "|    Mazda RX4 Wag|21.0|  6|160.0|110| 3.9|2.875|17.02|  0|  1|   4|   4|\n",
      "|       Datsun 710|22.8|  4|108.0| 93|3.85| 2.32|18.61|  1|  1|   4|   1|\n",
      "|   Hornet 4 Drive|21.4|  6|258.0|110|3.08|3.215|19.44|  1|  0|   3|   1|\n",
      "|Hornet Sportabout|18.7|  8|360.0|175|3.15| 3.44|17.02|  0|  0|   3|   2|\n",
      "+-----------------+----+---+-----+---+----+-----+-----+---+---+----+----+\n",
      "only showing top 5 rows\n",
      "\n"
     ]
    }
   ],
   "source": [
    "mtcars_df.show(5)"
   ]
  },
  {
   "cell_type": "code",
   "execution_count": 7,
   "metadata": {},
   "outputs": [
    {
     "name": "stdout",
     "output_type": "stream",
     "text": [
      "root\n",
      " |-- manufacturer: string (nullable = true)\n",
      " |-- mpg: double (nullable = true)\n",
      " |-- cyl: integer (nullable = true)\n",
      " |-- disp: double (nullable = true)\n",
      " |-- hp: integer (nullable = true)\n",
      " |-- drat: double (nullable = true)\n",
      " |-- wt: double (nullable = true)\n",
      " |-- qsec: double (nullable = true)\n",
      " |-- vs: integer (nullable = true)\n",
      " |-- am: integer (nullable = true)\n",
      " |-- gear: integer (nullable = true)\n",
      " |-- carb: integer (nullable = true)\n",
      "\n"
     ]
    }
   ],
   "source": [
    "mtcars_df.printSchema()"
   ]
  },
  {
   "cell_type": "code",
   "execution_count": 11,
   "metadata": {},
   "outputs": [
    {
     "data": {
      "text/plain": [
       "32"
      ]
     },
     "execution_count": 11,
     "metadata": {},
     "output_type": "execute_result"
    }
   ],
   "source": [
    "mtcars_df.count()"
   ]
  },
  {
   "cell_type": "code",
   "execution_count": 12,
   "metadata": {},
   "outputs": [
    {
     "data": {
      "text/plain": [
       "['manufacturer',\n",
       " 'mpg',\n",
       " 'cyl',\n",
       " 'disp',\n",
       " 'hp',\n",
       " 'drat',\n",
       " 'wt',\n",
       " 'qsec',\n",
       " 'vs',\n",
       " 'am',\n",
       " 'gear',\n",
       " 'carb']"
      ]
     },
     "execution_count": 12,
     "metadata": {},
     "output_type": "execute_result"
    }
   ],
   "source": [
    "mtcars_df.columns "
   ]
  },
  {
   "cell_type": "code",
   "execution_count": 13,
   "metadata": {},
   "outputs": [
    {
     "name": "stderr",
     "output_type": "stream",
     "text": [
      "[Stage 7:>                                                          (0 + 1) / 1]\r"
     ]
    },
    {
     "name": "stdout",
     "output_type": "stream",
     "text": [
      "+-------+------------+------------------+------------------+------------------+-----------------+------------------+------------------+------------------+------------------+-------------------+------------------+------------------+\n",
      "|summary|manufacturer|               mpg|               cyl|              disp|               hp|              drat|                wt|              qsec|                vs|                 am|              gear|              carb|\n",
      "+-------+------------+------------------+------------------+------------------+-----------------+------------------+------------------+------------------+------------------+-------------------+------------------+------------------+\n",
      "|  count|          32|                32|                32|                32|               32|                32|                32|                32|                32|                 32|                32|                32|\n",
      "|   mean|        null|20.090624999999996|            6.1875|230.72187500000004|         146.6875|3.5965625000000006|3.2172499999999995|17.848750000000003|            0.4375|            0.40625|            3.6875|            2.8125|\n",
      "| stddev|        null| 6.026948052089103|1.7859216469465444|123.93869383138195|68.56286848932059|0.5346787360709716|0.9784574429896968|1.7869432360968436|0.5040161287741853|0.49899091723584604|0.7378040652569471|1.6151999776318522|\n",
      "|    min| AMC Javelin|              10.4|                 4|              71.1|               52|              2.76|             1.513|              14.5|                 0|                  0|                 3|                 1|\n",
      "|    max|  Volvo 142E|              33.9|                 8|             472.0|              335|              4.93|             5.424|              22.9|                 1|                  1|                 5|                 8|\n",
      "+-------+------------+------------------+------------------+------------------+-----------------+------------------+------------------+------------------+------------------+-------------------+------------------+------------------+\n",
      "\n"
     ]
    },
    {
     "name": "stderr",
     "output_type": "stream",
     "text": [
      "                                                                                \r"
     ]
    }
   ],
   "source": [
    "mtcars_df.describe().show()"
   ]
  },
  {
   "cell_type": "code",
   "execution_count": 36,
   "metadata": {},
   "outputs": [],
   "source": [
    "## stamdardize mpg column : preprocessing\n",
    "from pyspark.sql.functions import col\n",
    "max_mpg = mtcars_df.agg({\"mpg\": \"max\"}).collect()[0][0]\n",
    "min_mpg = mtcars_df.agg({\"mpg\": \"min\"}).collect()[0][0]\n",
    "mtcars_df = mtcars_df.withColumn(\"mpg\", col(\"mpg\") / (max_mpg - min_mpg))"
   ]
  },
  {
   "cell_type": "code",
   "execution_count": 27,
   "metadata": {},
   "outputs": [
    {
     "name": "stdout",
     "output_type": "stream",
     "text": [
      "+-----------------+------------------+---+-----+---+----+-----+-----+---+---+----+----+\n",
      "|     manufacturer|               mpg|cyl| disp| hp|drat|   wt| qsec| vs| am|gear|carb|\n",
      "+-----------------+------------------+---+-----+---+----+-----+-----+---+---+----+----+\n",
      "|        Mazda RX4|0.8936170212765957|  6|160.0|110| 3.9| 2.62|16.46|  0|  1|   4|   4|\n",
      "|    Mazda RX4 Wag|0.8936170212765957|  6|160.0|110| 3.9|2.875|17.02|  0|  1|   4|   4|\n",
      "|       Datsun 710|0.9702127659574469|  4|108.0| 93|3.85| 2.32|18.61|  1|  1|   4|   1|\n",
      "|   Hornet 4 Drive|0.9106382978723404|  6|258.0|110|3.08|3.215|19.44|  1|  0|   3|   1|\n",
      "|Hornet Sportabout|0.7957446808510638|  8|360.0|175|3.15| 3.44|17.02|  0|  0|   3|   2|\n",
      "+-----------------+------------------+---+-----+---+----+-----+-----+---+---+----+----+\n",
      "only showing top 5 rows\n",
      "\n"
     ]
    }
   ],
   "source": [
    "mtcars_df.show(5)"
   ]
  },
  {
   "cell_type": "code",
   "execution_count": 8,
   "metadata": {},
   "outputs": [],
   "source": [
    "# spilt the data into training and testing\n",
    "train, test = mtcars_df.randomSplit([0.7, 0.3], seed=1111)"
   ]
  },
  {
   "cell_type": "code",
   "execution_count": 31,
   "metadata": {},
   "outputs": [],
   "source": [
    "## feature engineering\n",
    "features_col = ['cyl', 'disp', 'hp', 'drat', 'wt', 'qsec', 'vs', 'am', 'gear', 'carb']\n",
    "target_col = 'mpg'"
   ]
  },
  {
   "cell_type": "code",
   "execution_count": 37,
   "metadata": {},
   "outputs": [],
   "source": [
    "# vector assembler is used to combine all features into a single vector column \n",
    "assembler = VectorAssembler(inputCols=features_col, outputCol=\"features\")\n",
    "assembled_df = assembler.transform(mtcars_df)"
   ]
  },
  {
   "cell_type": "code",
   "execution_count": 38,
   "metadata": {},
   "outputs": [
    {
     "name": "stdout",
     "output_type": "stream",
     "text": [
      "+-----------------+------------------+---+-----+---+----+-----+-----+---+---+----+----+--------------------+\n",
      "|     manufacturer|               mpg|cyl| disp| hp|drat|   wt| qsec| vs| am|gear|carb|            features|\n",
      "+-----------------+------------------+---+-----+---+----+-----+-----+---+---+----+----+--------------------+\n",
      "|        Mazda RX4|0.8936170212765957|  6|160.0|110| 3.9| 2.62|16.46|  0|  1|   4|   4|[6.0,160.0,110.0,...|\n",
      "|    Mazda RX4 Wag|0.8936170212765957|  6|160.0|110| 3.9|2.875|17.02|  0|  1|   4|   4|[6.0,160.0,110.0,...|\n",
      "|       Datsun 710|0.9702127659574469|  4|108.0| 93|3.85| 2.32|18.61|  1|  1|   4|   1|[4.0,108.0,93.0,3...|\n",
      "|   Hornet 4 Drive|0.9106382978723404|  6|258.0|110|3.08|3.215|19.44|  1|  0|   3|   1|[6.0,258.0,110.0,...|\n",
      "|Hornet Sportabout|0.7957446808510638|  8|360.0|175|3.15| 3.44|17.02|  0|  0|   3|   2|[8.0,360.0,175.0,...|\n",
      "+-----------------+------------------+---+-----+---+----+-----+-----+---+---+----+----+--------------------+\n",
      "only showing top 5 rows\n",
      "\n"
     ]
    }
   ],
   "source": [
    "# show sample of the training data\n",
    "assembled_df.show(5)"
   ]
  },
  {
   "cell_type": "code",
   "execution_count": 39,
   "metadata": {},
   "outputs": [
    {
     "name": "stdout",
     "output_type": "stream",
     "text": [
      "+-----------------+------------------+---+-----+---+----+-----+-----+---+---+----+----+--------------------+--------------------+\n",
      "|     manufacturer|               mpg|cyl| disp| hp|drat|   wt| qsec| vs| am|gear|carb|            features|     scaled_features|\n",
      "+-----------------+------------------+---+-----+---+----+-----+-----+---+---+----+----+--------------------+--------------------+\n",
      "|        Mazda RX4|0.8936170212765957|  6|160.0|110| 3.9| 2.62|16.46|  0|  1|   4|   4|[6.0,160.0,110.0,...|[3.35960987440765...|\n",
      "|    Mazda RX4 Wag|0.8936170212765957|  6|160.0|110| 3.9|2.875|17.02|  0|  1|   4|   4|[6.0,160.0,110.0,...|[3.35960987440765...|\n",
      "|       Datsun 710|0.9702127659574469|  4|108.0| 93|3.85| 2.32|18.61|  1|  1|   4|   1|[4.0,108.0,93.0,3...|[2.23973991627177...|\n",
      "|   Hornet 4 Drive|0.9106382978723404|  6|258.0|110|3.08|3.215|19.44|  1|  0|   3|   1|[6.0,258.0,110.0,...|[3.35960987440765...|\n",
      "|Hornet Sportabout|0.7957446808510638|  8|360.0|175|3.15| 3.44|17.02|  0|  0|   3|   2|[8.0,360.0,175.0,...|[4.47947983254354...|\n",
      "+-----------------+------------------+---+-----+---+----+-----+-----+---+---+----+----+--------------------+--------------------+\n",
      "only showing top 5 rows\n",
      "\n"
     ]
    }
   ],
   "source": [
    "## standardize the features\n",
    "# standard scaler is used to standardize the features using the mean and standard deviation\n",
    "# using the standard scaler, the features will have a mean of 0 and a standard deviation of 1\n",
    "scaler = StandardScaler(inputCol=\"features\", outputCol=\"scaled_features\")\n",
    "scaler_model = scaler.fit(assembled_df)\n",
    "scaled_df = scaler_model.transform(assembled_df)\n",
    "scaled_df.show(5)"
   ]
  },
  {
   "cell_type": "markdown",
   "metadata": {},
   "source": [
    "## Building A Machine Learning Model With Spark ML"
   ]
  },
  {
   "cell_type": "code",
   "execution_count": 40,
   "metadata": {},
   "outputs": [],
   "source": [
    "train_data, test_data = scaled_df.randomSplit([.8,.2], seed=123)"
   ]
  },
  {
   "cell_type": "code",
   "execution_count": 55,
   "metadata": {},
   "outputs": [],
   "source": [
    "# create a linear regression model\n",
    "lr = LinearRegression(featuresCol = 'scaled_features',\n",
    "                       labelCol='mpg',\n",
    "                       maxIter=10,\n",
    "                       regParam=0.3,\n",
    "                       elasticNetParam=0.01,\n",
    "                       standardization=False,\n",
    "                       predictionCol='mpg_pred')\n"
   ]
  },
  {
   "cell_type": "code",
   "execution_count": 56,
   "metadata": {},
   "outputs": [],
   "source": [
    "# Fit the data to the model\n",
    "linearModel = lr.fit(train_data)"
   ]
  },
  {
   "cell_type": "code",
   "execution_count": 57,
   "metadata": {},
   "outputs": [
    {
     "name": "stdout",
     "output_type": "stream",
     "text": [
      "Coefficients: [-0.031761725720689075,-0.03121534111809282,-0.029250429781173887,0.023076416262198418,-0.044528198406411104,0.011014346311797568,0.020445354653571845,0.02681427368069747,0.011503827526204179,-0.03008937701326752]\n",
      "Intercept: 0.9296455474427316\n"
     ]
    }
   ],
   "source": [
    "# find the coefficients and intercept for the linear regression model\n",
    "print(\"Coefficients: \" + str(linearModel.coefficients))\n",
    "print(\"Intercept: \" + str(linearModel.intercept))"
   ]
  },
  {
   "cell_type": "code",
   "execution_count": 58,
   "metadata": {},
   "outputs": [],
   "source": [
    "import pandas as pd\n",
    "import numpy as np\n",
    "coeff_df = pd.DataFrame({\"Feature\": [\"Intercept\"] + features_col, \"Co-efficients\": np.insert(linearModel.coefficients.toArray(), 0, linearModel.intercept)})\n",
    "coeff_df = coeff_df[[\"Feature\", \"Co-efficients\"]]"
   ]
  },
  {
   "cell_type": "code",
   "execution_count": 59,
   "metadata": {},
   "outputs": [
    {
     "data": {
      "text/html": [
       "<div>\n",
       "<style scoped>\n",
       "    .dataframe tbody tr th:only-of-type {\n",
       "        vertical-align: middle;\n",
       "    }\n",
       "\n",
       "    .dataframe tbody tr th {\n",
       "        vertical-align: top;\n",
       "    }\n",
       "\n",
       "    .dataframe thead th {\n",
       "        text-align: right;\n",
       "    }\n",
       "</style>\n",
       "<table border=\"1\" class=\"dataframe\">\n",
       "  <thead>\n",
       "    <tr style=\"text-align: right;\">\n",
       "      <th></th>\n",
       "      <th>Feature</th>\n",
       "      <th>Co-efficients</th>\n",
       "    </tr>\n",
       "  </thead>\n",
       "  <tbody>\n",
       "    <tr>\n",
       "      <th>0</th>\n",
       "      <td>Intercept</td>\n",
       "      <td>0.929646</td>\n",
       "    </tr>\n",
       "    <tr>\n",
       "      <th>1</th>\n",
       "      <td>cyl</td>\n",
       "      <td>-0.031762</td>\n",
       "    </tr>\n",
       "    <tr>\n",
       "      <th>2</th>\n",
       "      <td>disp</td>\n",
       "      <td>-0.031215</td>\n",
       "    </tr>\n",
       "    <tr>\n",
       "      <th>3</th>\n",
       "      <td>hp</td>\n",
       "      <td>-0.029250</td>\n",
       "    </tr>\n",
       "    <tr>\n",
       "      <th>4</th>\n",
       "      <td>drat</td>\n",
       "      <td>0.023076</td>\n",
       "    </tr>\n",
       "    <tr>\n",
       "      <th>5</th>\n",
       "      <td>wt</td>\n",
       "      <td>-0.044528</td>\n",
       "    </tr>\n",
       "    <tr>\n",
       "      <th>6</th>\n",
       "      <td>qsec</td>\n",
       "      <td>0.011014</td>\n",
       "    </tr>\n",
       "    <tr>\n",
       "      <th>7</th>\n",
       "      <td>vs</td>\n",
       "      <td>0.020445</td>\n",
       "    </tr>\n",
       "    <tr>\n",
       "      <th>8</th>\n",
       "      <td>am</td>\n",
       "      <td>0.026814</td>\n",
       "    </tr>\n",
       "    <tr>\n",
       "      <th>9</th>\n",
       "      <td>gear</td>\n",
       "      <td>0.011504</td>\n",
       "    </tr>\n",
       "    <tr>\n",
       "      <th>10</th>\n",
       "      <td>carb</td>\n",
       "      <td>-0.030089</td>\n",
       "    </tr>\n",
       "  </tbody>\n",
       "</table>\n",
       "</div>"
      ],
      "text/plain": [
       "      Feature  Co-efficients\n",
       "0   Intercept       0.929646\n",
       "1         cyl      -0.031762\n",
       "2        disp      -0.031215\n",
       "3          hp      -0.029250\n",
       "4        drat       0.023076\n",
       "5          wt      -0.044528\n",
       "6        qsec       0.011014\n",
       "7          vs       0.020445\n",
       "8          am       0.026814\n",
       "9        gear       0.011504\n",
       "10       carb      -0.030089"
      ]
     },
     "execution_count": 59,
     "metadata": {},
     "output_type": "execute_result"
    }
   ],
   "source": [
    "coeff_df"
   ]
  },
  {
   "cell_type": "code",
   "execution_count": 60,
   "metadata": {},
   "outputs": [],
   "source": [
    "# Generate predictions\n",
    "predictions = linearModel.transform(test_data)"
   ]
  },
  {
   "cell_type": "code",
   "execution_count": 61,
   "metadata": {},
   "outputs": [],
   "source": [
    "predandlabels = predictions.select(\"mpg_pred\", \"mpg\")"
   ]
  },
  {
   "cell_type": "code",
   "execution_count": 62,
   "metadata": {},
   "outputs": [
    {
     "name": "stdout",
     "output_type": "stream",
     "text": [
      "+------------------+------------------+\n",
      "|          mpg_pred|               mpg|\n",
      "+------------------+------------------+\n",
      "|0.6481718499182795|0.5659574468085107|\n",
      "|0.6381480920022511|0.6085106382978723|\n",
      "|0.8861869159704069|0.9106382978723404|\n",
      "|0.7158692308691824|0.7957446808510638|\n",
      "|0.9196939955526666|0.8936170212765957|\n",
      "+------------------+------------------+\n",
      "only showing top 5 rows\n",
      "\n"
     ]
    }
   ],
   "source": [
    "predandlabels.show(5)"
   ]
  },
  {
   "cell_type": "code",
   "execution_count": 63,
   "metadata": {},
   "outputs": [
    {
     "name": "stderr",
     "output_type": "stream",
     "text": [
      "/home/majid/.local/lib/python3.10/site-packages/pyspark/sql/context.py:125: FutureWarning: Deprecated in 3.0.0. Use SparkSession.builder.getOrCreate() instead.\n",
      "  warnings.warn(\n",
      "                                                                                \r"
     ]
    }
   ],
   "source": [
    "## Using the RegressionMetrics from pyspark.mllib package\n",
    "# mllib is old so the methods are available in rdd\n",
    "metrics = RegressionMetrics(predandlabels.rdd)\n",
    "\n"
   ]
  },
  {
   "cell_type": "code",
   "execution_count": 64,
   "metadata": {},
   "outputs": [
    {
     "name": "stdout",
     "output_type": "stream",
     "text": [
      "RMSE: 0.06996297820988183\n"
     ]
    }
   ],
   "source": [
    "print(\"RMSE: {0}\".format(metrics.rootMeanSquaredError))"
   ]
  },
  {
   "cell_type": "code",
   "execution_count": 65,
   "metadata": {},
   "outputs": [
    {
     "name": "stdout",
     "output_type": "stream",
     "text": [
      "MAE: 0.05892555706367346\n"
     ]
    }
   ],
   "source": [
    "print(\"MAE: {0}\".format(metrics.meanAbsoluteError))"
   ]
  },
  {
   "cell_type": "code",
   "execution_count": 66,
   "metadata": {},
   "outputs": [
    {
     "name": "stdout",
     "output_type": "stream",
     "text": [
      "R2: 0.6979231047092722\n"
     ]
    }
   ],
   "source": [
    "print(\"R2: {0}\".format(metrics.r2))"
   ]
  },
  {
   "cell_type": "code",
   "execution_count": 67,
   "metadata": {},
   "outputs": [],
   "source": [
    "spark.stop()"
   ]
  },
  {
   "cell_type": "code",
   "execution_count": null,
   "metadata": {},
   "outputs": [],
   "source": []
  }
 ],
 "metadata": {
  "kernelspec": {
   "display_name": "Python 3",
   "language": "python",
   "name": "python3"
  },
  "language_info": {
   "codemirror_mode": {
    "name": "ipython",
    "version": 3
   },
   "file_extension": ".py",
   "mimetype": "text/x-python",
   "name": "python",
   "nbconvert_exporter": "python",
   "pygments_lexer": "ipython3",
   "version": "3.10.12"
  }
 },
 "nbformat": 4,
 "nbformat_minor": 2
}
