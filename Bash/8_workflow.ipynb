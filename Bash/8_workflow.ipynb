{
 "cells": [
  {
   "cell_type": "markdown",
   "metadata": {},
   "source": [
    "## Workflow "
   ]
  },
  {
   "cell_type": "code",
   "execution_count": 1,
   "metadata": {},
   "outputs": [
    {
     "name": "stdout",
     "output_type": "stream",
     "text": [
      "hello world!\n"
     ]
    }
   ],
   "source": [
    "%%bash\n",
    "python3 test/hello1.py"
   ]
  },
  {
   "cell_type": "markdown",
   "metadata": {},
   "source": [
    "$!: Get the PID of the last background command."
   ]
  },
  {
   "cell_type": "code",
   "execution_count": 2,
   "metadata": {},
   "outputs": [
    {
     "name": "stdout",
     "output_type": "stream",
     "text": [
      "hello world!\n",
      "finished first code\n",
      "hello2\n"
     ]
    }
   ],
   "source": [
    "%%bash\n",
    "python3 test/hello1.py\n",
    "echo \"finished first code\"\n",
    "python3 test/hello2.py"
   ]
  },
  {
   "cell_type": "code",
   "execution_count": 3,
   "metadata": {},
   "outputs": [
    {
     "name": "stdout",
     "output_type": "stream",
     "text": [
      "hello2\n",
      "hello world!\n"
     ]
    }
   ],
   "source": [
    "%%bash \n",
    "# run in parallel hello1 and hello2\n",
    "python3 test/hello2.py & python3 test/hello1.py"
   ]
  },
  {
   "cell_type": "code",
   "execution_count": 4,
   "metadata": {},
   "outputs": [],
   "source": [
    "%%bash \n",
    "touch test/hello3.py\n",
    "echo \"print('hello3')\" > test/hello3.py"
   ]
  },
  {
   "cell_type": "code",
   "execution_count": 5,
   "metadata": {},
   "outputs": [],
   "source": [
    "%%bash \n",
    "echo \"\"\"\n",
    "from time import sleep\n",
    "sleep(5)\n",
    "print('hello2')\n",
    "\"\"\" > test/hello2.py"
   ]
  },
  {
   "cell_type": "code",
   "execution_count": 6,
   "metadata": {},
   "outputs": [
    {
     "name": "stdout",
     "output_type": "stream",
     "text": [
      "hello2\n",
      "hello world!\n",
      "hello3\n"
     ]
    }
   ],
   "source": [
    "%%bash \n",
    "#run in parallel hello1, hello2 \n",
    "# then run hello3 when hello2 and hello1 is finished\n",
    "python3 test/hello2.py & python3 test/hello1.py && python3 test/hello3.py\n"
   ]
  },
  {
   "cell_type": "code",
   "execution_count": 7,
   "metadata": {},
   "outputs": [
    {
     "name": "stdout",
     "output_type": "stream",
     "text": [
      "hello2\n",
      "hello3\n",
      "hello world!\n"
     ]
    }
   ],
   "source": [
    "%%bash \n",
    "python3 test/hello1.py &\n",
    "\n",
    "# Run hello2.py in the foreground and wait for it to finish\n",
    "python3 test/hello2.py\n",
    "\n",
    "# Run hello3.py\n",
    "python3 test/hello3.py"
   ]
  },
  {
   "cell_type": "code",
   "execution_count": 8,
   "metadata": {},
   "outputs": [],
   "source": [
    "%%bash \n",
    "echo \"\"\"\n",
    "from time import sleep\n",
    "sleep(2)\n",
    "print('hello4')\n",
    "\"\"\" > test/hello4.py\n"
   ]
  },
  {
   "cell_type": "code",
   "execution_count": 9,
   "metadata": {},
   "outputs": [
    {
     "name": "stdout",
     "output_type": "stream",
     "text": [
      "hello2\n",
      "hello world!\n",
      "hello3\n",
      "hello4\n"
     ]
    }
   ],
   "source": [
    "%%bash\n",
    "# run in parallel hello1, hello2\n",
    "# when hello1 is finished, run hello3\n",
    "# when hello2 is finished, run hello4\n",
    "python3 test/hello1.py &\n",
    "pid_hello1=$!\n",
    "\n",
    "python3 test/hello2.py &\n",
    "pid_hello2=$!\n",
    "\n",
    "# Wait for hello1.py to finish\n",
    "wait $pid_hello1\n",
    "\n",
    "# Run hello3.py\n",
    "python3 test/hello3.py\n",
    "\n",
    "# Wait for hello2.py to finish\n",
    "wait $pid_hello2\n",
    "\n",
    "# Run hello4.py\n",
    "python3 test/hello4.py"
   ]
  },
  {
   "cell_type": "code",
   "execution_count": 10,
   "metadata": {},
   "outputs": [
    {
     "name": "stdout",
     "output_type": "stream",
     "text": [
      "hello2\n",
      "hello4\n",
      "hello world!\n",
      "hello3\n"
     ]
    }
   ],
   "source": [
    "%%bash\n",
    "# run in parallel hello1, hello2\n",
    "# when hello1 is finished, run hello3\n",
    "# when hello2 is finished, run hello4\n",
    "# if hello1 is finished, run hello3 if hello2 is finished, run hello4 \n",
    "# based on who finished first \n",
    "# if hello1 is finished first, run hello3 and then hello4 when hello2 is finished\n",
    "# if hello2 is finished first, run hello4 and then hello3 when hello1 is finished\n",
    "#!/bin/bash\n",
    "\n",
    "# Run hello1.py and hello2.py in parallel\n",
    "python3 test/hello1.py &\n",
    "pid_hello1=$!\n",
    "\n",
    "python3 test/hello2.py &\n",
    "pid_hello2=$!\n",
    "\n",
    "# Wait for either hello1.py or hello2.py to finish first\n",
    "wait -n\n",
    "\n",
    "# Check which process finished first and run the corresponding script\n",
    "if [ $? -eq $pid_hello1 ]; then\n",
    "    # hello1.py finished first, run hello3.py\n",
    "    python3 test/hello3.py\n",
    "    # Wait for hello2.py to finish\n",
    "    wait $pid_hello2\n",
    "    # Run hello4.py\n",
    "    python3 test/hello4.py\n",
    "else\n",
    "    # hello2.py finished first, run hello4.py\n",
    "    python3 test/hello4.py\n",
    "    # Wait for hello1.py to finish\n",
    "    wait $pid_hello1\n",
    "    # Run hello3.py\n",
    "    python3 test/hello3.py\n",
    "fi\n",
    "\n"
   ]
  },
  {
   "cell_type": "code",
   "execution_count": 11,
   "metadata": {},
   "outputs": [],
   "source": [
    "%%bash \n",
    "echo \"\"\"\n",
    "from time import sleep\n",
    "sleep(5)\n",
    "print('hello5')\n",
    "\"\"\" > test/hello5.py"
   ]
  },
  {
   "cell_type": "code",
   "execution_count": 12,
   "metadata": {},
   "outputs": [
    {
     "name": "stdout",
     "output_type": "stream",
     "text": [
      "hello2\n",
      "hello4\n",
      "hello world!\n",
      "hello3\n",
      "hello5\n"
     ]
    }
   ],
   "source": [
    "%%bash\n",
    "# run in parallel hello1, hello2\n",
    "# when hello1 is finished, run hello3\n",
    "# when hello2 is finished, run hello4\n",
    "# if hello1 is finished, run hello3 if hello2 is finished, run hello4 \n",
    "# based on who finished first \n",
    "# if hello1 is finished first, run hello3 and then hello4 when hello2 is finished\n",
    "# if hello2 is finished first, run hello4 and then hello3 when hello1 is finished\n",
    "# if both hello3 and hello4 are finished, run hello5\n",
    "#!/bin/bash\n",
    "\n",
    "# Run hello1.py and hello2.py in parallel\n",
    "python3 test/hello1.py &\n",
    "pid_hello1=$!\n",
    "\n",
    "python3 test/hello2.py &\n",
    "pid_hello2=$!\n",
    "\n",
    "# Wait for either hello1.py or hello2.py to finish first\n",
    "wait -n\n",
    "\n",
    "# Check which process finished first and run the corresponding script\n",
    "if [ $? -eq $pid_hello1 ]; then\n",
    "    # hello1.py finished first, run hello3.py\n",
    "    python3 test/hello3.py\n",
    "    # Wait for hello2.py to finish\n",
    "    wait $pid_hello2\n",
    "    # Run hello4.py\n",
    "    python3 test/hello4.py\n",
    "else\n",
    "    # hello2.py finished first, run hello4.py\n",
    "    python3 test/hello4.py\n",
    "    # Wait for hello1.py to finish\n",
    "    wait $pid_hello1\n",
    "    # Run hello3.py\n",
    "    python3 test/hello3.py\n",
    "fi\n",
    "\n",
    "# Wait for hello3.py and hello4.py to finish\n",
    "wait\n",
    "# Run hello5.py\n",
    "python3 test/hello5.py\n",
    "\n",
    "\n"
   ]
  },
  {
   "cell_type": "code",
   "execution_count": null,
   "metadata": {},
   "outputs": [],
   "source": []
  }
 ],
 "metadata": {
  "kernelspec": {
   "display_name": "Python 3",
   "language": "python",
   "name": "python3"
  },
  "language_info": {
   "codemirror_mode": {
    "name": "ipython",
    "version": 3
   },
   "file_extension": ".py",
   "mimetype": "text/x-python",
   "name": "python",
   "nbconvert_exporter": "python",
   "pygments_lexer": "ipython3",
   "version": "3.10.12"
  }
 },
 "nbformat": 4,
 "nbformat_minor": 2
}
