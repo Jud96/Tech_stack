{
 "cells": [
  {
   "cell_type": "markdown",
   "metadata": {},
   "source": [
    "## NAV & Files \n",
    "\n",
    "you will learn to \n",
    "* navigate to specific folder or file \n",
    "* add files and directory \n",
    "* remove files and directory \n",
    "* add content to files \n",
    "* deal with file content"
   ]
  },
  {
   "cell_type": "code",
   "execution_count": 1,
   "metadata": {},
   "outputs": [
    {
     "name": "stdout",
     "output_type": "stream",
     "text": [
      "Hello World!\n"
     ]
    }
   ],
   "source": [
    "%%bash \n",
    "echo \"Hello World!\""
   ]
  },
  {
   "cell_type": "code",
   "execution_count": 2,
   "metadata": {},
   "outputs": [
    {
     "name": "stdout",
     "output_type": "stream",
     "text": [
      "/home/majid/work/bash\n"
     ]
    }
   ],
   "source": [
    "%%bash\n",
    "# print current working directory\n",
    "pwd"
   ]
  },
  {
   "cell_type": "code",
   "execution_count": 3,
   "metadata": {},
   "outputs": [
    {
     "name": "stdout",
     "output_type": "stream",
     "text": [
      "/home/majid\n"
     ]
    }
   ],
   "source": [
    "%%bash\n",
    "# go to the user  directory and print the current working directory\n",
    "cd ~\n",
    "pwd"
   ]
  },
  {
   "cell_type": "code",
   "execution_count": 6,
   "metadata": {},
   "outputs": [],
   "source": [
    "%%bash \n",
    "# create a new directory\n",
    "mkdir test"
   ]
  },
  {
   "cell_type": "code",
   "execution_count": null,
   "metadata": {},
   "outputs": [],
   "source": [
    "%%bash \n",
    "# remove a directory\n",
    "mkdir test1\n",
    "sleep 5\n",
    "rmdir test1"
   ]
  },
  {
   "cell_type": "code",
   "execution_count": 7,
   "metadata": {},
   "outputs": [],
   "source": [
    "%%bash\n",
    "# add a file to the new directory\n",
    "touch test/testfile.txt"
   ]
  },
  {
   "cell_type": "code",
   "execution_count": 8,
   "metadata": {},
   "outputs": [],
   "source": [
    "%%bash\n",
    "# remove the file\n",
    "rm test/testfile.txt"
   ]
  },
  {
   "cell_type": "code",
   "execution_count": 9,
   "metadata": {},
   "outputs": [],
   "source": [
    "%%bash\n",
    "# add multi files to the new directory\n",
    "touch test/test1.txt test/test2.txt test/test3.txt"
   ]
  },
  {
   "cell_type": "code",
   "execution_count": null,
   "metadata": {},
   "outputs": [],
   "source": [
    "%%bash \n",
    "# move a file to a new location\n",
    "mv test/test1.txt test/test4.txt"
   ]
  },
  {
   "cell_type": "code",
   "execution_count": null,
   "metadata": {},
   "outputs": [],
   "source": [
    "%%bash \n",
    "# copy a file to a new location\n",
    "cp test/test2.txt test/test5.txt"
   ]
  },
  {
   "cell_type": "code",
   "execution_count": 10,
   "metadata": {},
   "outputs": [
    {
     "name": "stdout",
     "output_type": "stream",
     "text": [
      "/home/majid/work\n"
     ]
    }
   ],
   "source": [
    "%%bash\n",
    "# go to the parent directory and print the current working directory\n",
    "cd ..\n",
    "pwd"
   ]
  },
  {
   "cell_type": "code",
   "execution_count": 11,
   "metadata": {},
   "outputs": [
    {
     "name": "stdout",
     "output_type": "stream",
     "text": [
      "you have learned how to navigate the file system and create and remove files and directories.\n"
     ]
    }
   ],
   "source": [
    "%%bash\n",
    "echo 'you have learned how to navigate the file system and create and remove files and directories.'"
   ]
  },
  {
   "cell_type": "code",
   "execution_count": 12,
   "metadata": {},
   "outputs": [],
   "source": [
    "%%bash \n",
    "# add content to a file with new line\n",
    "# this is overwriting the file\n",
    "echo 'This is the first line' > test/test1.txt\n",
    "# this is appending to the file\n",
    "echo 'This is the second line' >> test/test1.txt"
   ]
  },
  {
   "cell_type": "code",
   "execution_count": 13,
   "metadata": {},
   "outputs": [
    {
     "name": "stdout",
     "output_type": "stream",
     "text": [
      "This is the first line\n",
      "This is the second line\n"
     ]
    }
   ],
   "source": [
    "%%bash\n",
    "# print the content of the file\n",
    "cat test/test1.txt"
   ]
  },
  {
   "cell_type": "code",
   "execution_count": 14,
   "metadata": {},
   "outputs": [],
   "source": [
    "%%bash\n",
    "# remove content from the file\n",
    "echo '' > test/test1.txt"
   ]
  },
  {
   "cell_type": "code",
   "execution_count": 21,
   "metadata": {},
   "outputs": [
    {
     "name": "stdout",
     "output_type": "stream",
     "text": [
      "echo \"Enter a number: \" \n",
      "read number\n",
      "echo \"The number is $number\""
     ]
    }
   ],
   "source": [
    "%%bash\n",
    "# input the content of the file\n",
    "cat test/test1.sh"
   ]
  }
 ],
 "metadata": {
  "kernelspec": {
   "display_name": "Python 3",
   "language": "python",
   "name": "python3"
  },
  "language_info": {
   "codemirror_mode": {
    "name": "ipython",
    "version": 3
   },
   "file_extension": ".py",
   "mimetype": "text/x-python",
   "name": "python",
   "nbconvert_exporter": "python",
   "pygments_lexer": "ipython3",
   "version": "3.10.12"
  }
 },
 "nbformat": 4,
 "nbformat_minor": 2
}
