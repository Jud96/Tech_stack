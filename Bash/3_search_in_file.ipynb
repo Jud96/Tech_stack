{
 "cells": [
  {
   "cell_type": "code",
   "execution_count": null,
   "metadata": {},
   "outputs": [],
   "source": [
    "\"\"\"grep's more common flags:----------\"\"\"\n",
    "# -c: print a count of matching lines rather than the lines themselves\n",
    "# -h: do not print the names of files when searching multiple files\n",
    "# -i: ignore case (e.g., treat \"Regression\" and \"regression\" as matches)\n",
    "# -l: print the names of files that contain matches, not the matches\n",
    "# -n: print line numbers for matching lines\n",
    "# -v: invert the match, i.e., only show lines that don't match\n",
    "\"\"\"Print the contents of all of the lines containing the word molar in seasonal/autumn.csv by running a single command while in your home directory. Don't use any flags.\"\"\"\n",
    "# $ grep molar seasonal/autumn.csv\n",
    "\"\"\"Invert the match to find all of the lines that don't contain the word molar in seasonal/spring.csv. and show their line numbers.\"\"\"\n",
    "# $ grep -n -v molar seasonal/spring.csv\n",
    "\"\"\"out |1:Date,Tooth\n",
    "2:2017-01-25,wisdom\n",
    "3:2017-02-19,canine\n",
    "4:2017-02-24,canine\n",
    "5:2017-02-28,wisdom\"\"\"\n",
    "\"\"\"Count how many lines contain the word incisor in autumn.csv and winter.csv combined. (Again, run a single command from your home directory.)\"\"\"\n",
    "# $ grep incisor -c seasonal/autumn.csv seasonal/winter.csv\n",
    "\"\"\" out | seasonal/autumn.csv:3\n",
    "          seasonal/winter.csv:6\"\"\""
   ]
  },
  {
   "cell_type": "code",
   "execution_count": 3,
   "metadata": {},
   "outputs": [
    {
     "name": "stdout",
     "output_type": "stream",
     "text": [
      "5\n",
      "15\n",
      "25\n",
      "35\n",
      "45\n"
     ]
    }
   ],
   "source": [
    "%%bash\n",
    "# find line that contain 5\n",
    "grep 5 test/test2.txt | head -n 5"
   ]
  },
  {
   "cell_type": "code",
   "execution_count": 4,
   "metadata": {},
   "outputs": [
    {
     "name": "stdout",
     "output_type": "stream",
     "text": [
      "19\n"
     ]
    }
   ],
   "source": [
    "%%bash\n",
    "# find line that contain 5\n",
    "grep  -c 5 test/test2.txt"
   ]
  },
  {
   "cell_type": "code",
   "execution_count": 5,
   "metadata": {},
   "outputs": [],
   "source": [
    "%%bash\n",
    "echo 'BooFq3456' > test/test3.txt"
   ]
  },
  {
   "cell_type": "code",
   "execution_count": 6,
   "metadata": {},
   "outputs": [
    {
     "name": "stdout",
     "output_type": "stream",
     "text": [
      "BooFq3456\n"
     ]
    }
   ],
   "source": [
    "%%bash\n",
    "\n",
    "grep o test/test3.txt"
   ]
  },
  {
   "cell_type": "code",
   "execution_count": 7,
   "metadata": {},
   "outputs": [
    {
     "name": "stdout",
     "output_type": "stream",
     "text": [
      "1\n",
      "2\n",
      "3\n",
      "4\n",
      "6\n"
     ]
    }
   ],
   "source": [
    "%%bash\n",
    "# find line that not contain 5\n",
    "grep -v 5 test/test2.txt | head -n 5"
   ]
  },
  {
   "cell_type": "code",
   "execution_count": 8,
   "metadata": {},
   "outputs": [
    {
     "name": "stdout",
     "output_type": "stream",
     "text": [
      "BooFq3456\n"
     ]
    }
   ],
   "source": [
    "%%bash\n",
    "# find line contain boo\n",
    "grep 5 test/test3.txt"
   ]
  },
  {
   "cell_type": "code",
   "execution_count": null,
   "metadata": {},
   "outputs": [],
   "source": [
    "%%bash \n",
    "# find line contain boo case insensitive\n",
    "grep -i boo test/test3.txt"
   ]
  }
 ],
 "metadata": {
  "kernelspec": {
   "display_name": "Python 3",
   "language": "python",
   "name": "python3"
  },
  "language_info": {
   "codemirror_mode": {
    "name": "ipython",
    "version": 3
   },
   "file_extension": ".py",
   "mimetype": "text/x-python",
   "name": "python",
   "nbconvert_exporter": "python",
   "pygments_lexer": "ipython3",
   "version": "3.10.12"
  }
 },
 "nbformat": 4,
 "nbformat_minor": 2
}
