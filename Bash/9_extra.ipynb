{
 "cells": [
  {
   "cell_type": "code",
   "execution_count": null,
   "metadata": {},
   "outputs": [],
   "source": [
    "%%bash\n",
    "sudo apt install net-tools\n"
   ]
  },
  {
   "cell_type": "code",
   "execution_count": 8,
   "metadata": {},
   "outputs": [],
   "source": [
    "%%bash \n",
    "# Test network connectivity.\n",
    "#ping"
   ]
  },
  {
   "cell_type": "code",
   "execution_count": 9,
   "metadata": {},
   "outputs": [
    {
     "name": "stdout",
     "output_type": "stream",
     "text": [
      "br-e543ba8ba62a: flags=4099<UP,BROADCAST,MULTICAST>  mtu 1500\n",
      "        inet 172.18.0.1  netmask 255.255.0.0  broadcast 172.18.255.255\n",
      "        ether 02:42:df:04:be:9c  txqueuelen 0  (Ethernet)\n",
      "        RX packets 0  bytes 0 (0.0 B)\n",
      "        RX errors 0  dropped 0  overruns 0  frame 0\n",
      "        TX packets 0  bytes 0 (0.0 B)\n",
      "        TX errors 0  dropped 0 overruns 0  carrier 0  collisions 0\n",
      "\n",
      "docker0: flags=4099<UP,BROADCAST,MULTICAST>  mtu 1500\n",
      "        inet 172.17.0.1  netmask 255.255.0.0  broadcast 172.17.255.255\n",
      "        ether 02:42:70:7d:f2:16  txqueuelen 0  (Ethernet)\n",
      "        RX packets 0  bytes 0 (0.0 B)\n",
      "        RX errors 0  dropped 0  overruns 0  frame 0\n",
      "        TX packets 0  bytes 0 (0.0 B)\n",
      "        TX errors 0  dropped 0 overruns 0  carrier 0  collisions 0\n",
      "\n",
      "enp2s0: flags=4099<UP,BROADCAST,MULTICAST>  mtu 1500\n",
      "        ether 70:5a:0f:93:38:ee  txqueuelen 1000  (Ethernet)\n",
      "        RX packets 0  bytes 0 (0.0 B)\n",
      "        RX errors 0  dropped 0  overruns 0  frame 0\n",
      "        TX packets 0  bytes 0 (0.0 B)\n",
      "        TX errors 0  dropped 0 overruns 0  carrier 0  collisions 0\n",
      "\n",
      "lo: flags=73<UP,LOOPBACK,RUNNING>  mtu 65536\n",
      "        inet 127.0.0.1  netmask 255.0.0.0\n",
      "        inet6 ::1  prefixlen 128  scopeid 0x10<host>\n",
      "        loop  txqueuelen 1000  (Local Loopback)\n",
      "        RX packets 23790  bytes 4498811 (4.4 MB)\n",
      "        RX errors 0  dropped 0  overruns 0  frame 0\n",
      "        TX packets 23790  bytes 4498811 (4.4 MB)\n",
      "        TX errors 0  dropped 0 overruns 0  carrier 0  collisions 0\n",
      "\n",
      "wlp3s0: flags=4163<UP,BROADCAST,RUNNING,MULTICAST>  mtu 1500\n",
      "        inet 192.168.30.38  netmask 255.255.255.0  broadcast 192.168.30.255\n",
      "        inet6 2a02:3030:a06:a050:8da7:77c2:2889:9898  prefixlen 64  scopeid 0x0<global>\n",
      "        inet6 fe80::94a1:349:e6a9:9178  prefixlen 64  scopeid 0x20<link>\n",
      "        inet6 2a02:3030:a06:a050:5104:27cf:9427:6a96  prefixlen 64  scopeid 0x0<global>\n",
      "        ether 48:e2:44:e0:55:83  txqueuelen 1000  (Ethernet)\n",
      "        RX packets 109055  bytes 137002257 (137.0 MB)\n",
      "        RX errors 0  dropped 0  overruns 0  frame 30328\n",
      "        TX packets 73001  bytes 20506295 (20.5 MB)\n",
      "        TX errors 0  dropped 0 overruns 0  carrier 0  collisions 0\n",
      "        device interrupt 17  \n",
      "\n"
     ]
    }
   ],
   "source": [
    "%%bash\n",
    "#ifconfig: Display or configure network interfaces\n",
    "ifconfig"
   ]
  },
  {
   "cell_type": "code",
   "execution_count": null,
   "metadata": {},
   "outputs": [],
   "source": [
    "%%bash \n",
    "# ifconfig eth0 up/down: Enable or disable network interfaces\n"
   ]
  },
  {
   "cell_type": "code",
   "execution_count": null,
   "metadata": {},
   "outputs": [],
   "source": [
    "%%bash\n",
    "#netstat: Network statistics.\n",
    "netstat"
   ]
  },
  {
   "cell_type": "code",
   "execution_count": null,
   "metadata": {},
   "outputs": [],
   "source": [
    "%%bash \n",
    "# netstat -tuln: List listening ports.\n",
    "netstat -tuln | head -n 4\n"
   ]
  },
  {
   "cell_type": "markdown",
   "metadata": {},
   "source": [
    "# tcp : Transmission Control Protocol \n",
    "tcp is a connection-oriented protocol, \n",
    "it requires a connection to be established between the \n",
    "two parties before they start exchanging data.\n",
    "\n",
    "# udp : User Datagram Protocol\n",
    "udp is a connectionless protocol,\n",
    "it does not require a connection to be established\n",
    "between the two parties before they start exchanging data."
   ]
  },
  {
   "cell_type": "code",
   "execution_count": null,
   "metadata": {},
   "outputs": [],
   "source": [
    "%%bash \n",
    "# Show or set system hostname\n",
    "hostname"
   ]
  },
  {
   "cell_type": "code",
   "execution_count": null,
   "metadata": {},
   "outputs": [],
   "source": [
    "%%bash \n",
    "#who: Display who is logged in.\n",
    "who "
   ]
  },
  {
   "cell_type": "code",
   "execution_count": null,
   "metadata": {},
   "outputs": [],
   "source": [
    "%%bash \n",
    "# users: List users currently logged in.\n",
    "users"
   ]
  },
  {
   "cell_type": "code",
   "execution_count": null,
   "metadata": {},
   "outputs": [],
   "source": [
    "%%bash \n",
    "# groups: List user groups.\n",
    "groups"
   ]
  },
  {
   "cell_type": "code",
   "execution_count": 18,
   "metadata": {},
   "outputs": [],
   "source": [
    "%%bash\n",
    "# passwd: Change user password.\n",
    "# passwd"
   ]
  },
  {
   "cell_type": "code",
   "execution_count": null,
   "metadata": {},
   "outputs": [],
   "source": [
    "%%bash \n",
    "#exit: Exit the shell or log out.\n",
    "# !: Repeat previous command.\\\n",
    "# source: Execute a script in the current shell"
   ]
  },
  {
   "cell_type": "code",
   "execution_count": 19,
   "metadata": {},
   "outputs": [],
   "source": [
    "%%bash\n",
    "echo \"\"\"\n",
    "number1=15\n",
    "number2=20\n",
    "\"\"\" > sources.sh"
   ]
  },
  {
   "cell_type": "code",
   "execution_count": 21,
   "metadata": {},
   "outputs": [
    {
     "name": "stdout",
     "output_type": "stream",
     "text": [
      "35\n"
     ]
    }
   ],
   "source": [
    "%%bash \n",
    "source sources.sh\n",
    "echo $(( number1 + number2))\n",
    "rm sources.sh"
   ]
  },
  {
   "cell_type": "code",
   "execution_count": 22,
   "metadata": {},
   "outputs": [
    {
     "name": "stdout",
     "output_type": "stream",
     "text": [
      "false\n"
     ]
    }
   ],
   "source": [
    "%%bash \n",
    "# test: Evaluate conditions.\n",
    "test 10 -eq 20 && echo \"true\" || echo \"false\""
   ]
  },
  {
   "cell_type": "code",
   "execution_count": 29,
   "metadata": {},
   "outputs": [
    {
     "name": "stdout",
     "output_type": "stream",
     "text": [
      "false\n",
      "1\n"
     ]
    }
   ],
   "source": [
    "%%bash \n",
    "# testing \n",
    "[ 10 -eq 20 ] && echo \"true\" || echo \"false\"\n",
    "[ 10 -eq 20 ] && echo $? || echo $?"
   ]
  },
  {
   "cell_type": "code",
   "execution_count": 24,
   "metadata": {},
   "outputs": [
    {
     "name": "stdout",
     "output_type": "stream",
     "text": [
      "true\n"
     ]
    }
   ],
   "source": [
    "%%bash \n",
    "# Check if the string is not empty\n",
    "[ -n \"hello\" ] && echo \"true\" || echo \"false\""
   ]
  },
  {
   "cell_type": "code",
   "execution_count": 25,
   "metadata": {},
   "outputs": [
    {
     "name": "stdout",
     "output_type": "stream",
     "text": [
      "true\n"
     ]
    }
   ],
   "source": [
    "%%bash \n",
    "# Check if the string is empty\n",
    "[ -z \"\" ] && echo \"true\" || echo \"false\""
   ]
  },
  {
   "cell_type": "code",
   "execution_count": 28,
   "metadata": {},
   "outputs": [
    {
     "name": "stdout",
     "output_type": "stream",
     "text": [
      "false\n",
      "0\n"
     ]
    }
   ],
   "source": [
    "%%bash \n",
    "# Check if strings are equals\n",
    "[ \"Hello\" = \"hello\" ] && echo \"true\" || echo \"false\"\n",
    "[ \"abc\" != \"ABC\" ] && echo $? || echo $?"
   ]
  },
  {
   "cell_type": "code",
   "execution_count": 30,
   "metadata": {},
   "outputs": [
    {
     "name": "stdout",
     "output_type": "stream",
     "text": [
      "true\n",
      "false\n"
     ]
    }
   ],
   "source": [
    "%%bash \n",
    "# | Command | Description              |\n",
    "# |---------|--------------------------|\n",
    "# | -e      | File/directory exists    |\n",
    "# | -f      | is a file                |\n",
    "# | -d      | is a directory           |\n",
    "# | -s      | File size greater than 0 |\n",
    "# | -L      | is a link                |\n",
    "# | -S      | is a socket              |\n",
    "# File and directory Operations with test\n",
    "[ -f /etc/passwd ] && echo \"true\" || echo \"false\"\n",
    "[ -d /etc/passwd ] && echo \"true\" || echo \"false\"\n",
    "# [ ]: Another form of the test command.\n",
    "# (( )): Arithmetic evaluation."
   ]
  },
  {
   "cell_type": "code",
   "execution_count": 35,
   "metadata": {},
   "outputs": [
    {
     "name": "stdout",
     "output_type": "stream",
     "text": [
      "Hello\n",
      "1+1\n"
     ]
    }
   ],
   "source": [
    "%%bash\n",
    "# eval: Evaluate and execute commands dynamically.\n",
    "eval \"echo Hello\"\n",
    "eval \"expr 1+1\""
   ]
  }
 ],
 "metadata": {
  "kernelspec": {
   "display_name": "Python 3",
   "language": "python",
   "name": "python3"
  },
  "language_info": {
   "codemirror_mode": {
    "name": "ipython",
    "version": 3
   },
   "file_extension": ".py",
   "mimetype": "text/x-python",
   "name": "python",
   "nbconvert_exporter": "python",
   "pygments_lexer": "ipython3",
   "version": "3.10.12"
  }
 },
 "nbformat": 4,
 "nbformat_minor": 2
}
