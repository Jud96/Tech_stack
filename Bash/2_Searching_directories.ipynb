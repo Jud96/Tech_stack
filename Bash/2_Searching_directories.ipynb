{
 "cells": [
  {
   "cell_type": "markdown",
   "metadata": {},
   "source": []
  },
  {
   "cell_type": "code",
   "execution_count": 1,
   "metadata": {},
   "outputs": [
    {
     "name": "stdout",
     "output_type": "stream",
     "text": [
      "test1.sh\n",
      "test1.txt\n",
      "test2.txt\n",
      "test3.txt\n"
     ]
    }
   ],
   "source": [
    "%%bash \n",
    "# list the files in the directory\n",
    "ls test/"
   ]
  },
  {
   "cell_type": "code",
   "execution_count": 2,
   "metadata": {},
   "outputs": [
    {
     "name": "stdout",
     "output_type": "stream",
     "text": [
      "total 8\n",
      "-rw-rw-r-- 1 majid majid 65 Feb 26 20:44 test1.sh\n",
      "-rw-rw-r-- 1 majid majid 28 Feb 26 19:04 test1.txt\n",
      "-rw-rw-r-- 1 majid majid  0 Feb 26 18:59 test2.txt\n",
      "-rw-rw-r-- 1 majid majid  0 Feb 26 18:59 test3.txt\n"
     ]
    }
   ],
   "source": [
    "%%bash \n",
    "# list the files in the directory with more details\n",
    "ls -l test/"
   ]
  },
  {
   "cell_type": "code",
   "execution_count": 3,
   "metadata": {},
   "outputs": [
    {
     "name": "stdout",
     "output_type": "stream",
     "text": [
      "total 8\n",
      "-rw-rw-r-- 1 majid majid 65 Feb 26 20:44 test1.sh\n",
      "-rw-rw-r-- 1 majid majid 28 Feb 26 19:04 test1.txt\n",
      "-rw-rw-r-- 1 majid majid  0 Feb 26 18:59 test2.txt\n",
      "-rw-rw-r-- 1 majid majid  0 Feb 26 18:59 test3.txt\n"
     ]
    }
   ],
   "source": [
    "%%bash\n",
    "# list the files in the directory with more details and sort by size\n",
    "ls -lS test/"
   ]
  },
  {
   "cell_type": "code",
   "execution_count": 4,
   "metadata": {},
   "outputs": [
    {
     "name": "stdout",
     "output_type": "stream",
     "text": [
      "./test/test1.txt\n"
     ]
    }
   ],
   "source": [
    "%%bash \n",
    "# find the file in the directory with the name test1.txt\n",
    "find . -name test1.txt"
   ]
  },
  {
   "cell_type": "code",
   "execution_count": 5,
   "metadata": {},
   "outputs": [
    {
     "name": "stdout",
     "output_type": "stream",
     "text": [
      "./test/test2.txt\n",
      "./test/test1.txt\n",
      "./test/test3.txt\n"
     ]
    }
   ],
   "source": [
    "%%bash\n",
    "# find file that with prefix txt\n",
    "find . -name '*.txt'"
   ]
  },
  {
   "cell_type": "code",
   "execution_count": 7,
   "metadata": {},
   "outputs": [
    {
     "name": "stdout",
     "output_type": "stream",
     "text": [
      "./2_Searching_directories.ipynb\n",
      "./connecttodb.ipynb\n"
     ]
    }
   ],
   "source": [
    "%%bash\n",
    "# find files \n",
    "find . -type f | head -n 2"
   ]
  },
  {
   "cell_type": "code",
   "execution_count": 8,
   "metadata": {},
   "outputs": [
    {
     "name": "stdout",
     "output_type": "stream",
     "text": [
      ".\n",
      "./test\n"
     ]
    }
   ],
   "source": [
    "%%bash\n",
    "# find directories\n",
    "find . -type d"
   ]
  },
  {
   "cell_type": "code",
   "execution_count": 10,
   "metadata": {},
   "outputs": [
    {
     "name": "stdout",
     "output_type": "stream",
     "text": [
      ".\n",
      "./2_Searching_directories.ipynb\n"
     ]
    }
   ],
   "source": [
    "%%bash\n",
    "# find fiels with mpodified time less than 1 day\n",
    "find . -mtime -1 | head -n 2"
   ]
  },
  {
   "cell_type": "code",
   "execution_count": 12,
   "metadata": {},
   "outputs": [
    {
     "name": "stdout",
     "output_type": "stream",
     "text": [
      "./connecttodb.ipynb\n",
      "./1_navigation_and_Files.ipynb\n"
     ]
    }
   ],
   "source": [
    "%%bash\n",
    "# find files with modified time more than 5 minutes\n",
    "find . -cmin +5 | head -n 2"
   ]
  },
  {
   "cell_type": "code",
   "execution_count": 13,
   "metadata": {},
   "outputs": [
    {
     "name": "stdout",
     "output_type": "stream",
     "text": [
      "./connecttodb.ipynb\n",
      "./1_navigation_and_Files.ipynb\n",
      "./intro.ipynb\n",
      "./deal_with_files.ipynb\n",
      "./coding.ipynb\n",
      "./test\n"
     ]
    }
   ],
   "source": [
    "%%bash \n",
    "# show list of files that not modified in the last 5 min  and size more than 1k\n",
    "find . -cmin +5 -size +1k"
   ]
  },
  {
   "cell_type": "code",
   "execution_count": 14,
   "metadata": {},
   "outputs": [
    {
     "name": "stdout",
     "output_type": "stream",
     "text": [
      "total 8\n",
      "-rw-rw-r-- 1 majid majid 65 Feb 26 20:44 test1.sh\n"
     ]
    }
   ],
   "source": [
    "%%bash\n",
    "# fidn the largest file in the directory\n",
    "ls -lS test/ | head -n 2"
   ]
  },
  {
   "cell_type": "code",
   "execution_count": 1,
   "metadata": {},
   "outputs": [
    {
     "name": "stdout",
     "output_type": "stream",
     "text": [
      "test1.txt\n",
      "test2.txt\n",
      "test3_copy.txt\n",
      "test3.txt\n"
     ]
    }
   ],
   "source": [
    "%%bash \n",
    "cd test/\n",
    "ls *.txt"
   ]
  },
  {
   "cell_type": "code",
   "execution_count": 2,
   "metadata": {},
   "outputs": [
    {
     "name": "stdout",
     "output_type": "stream",
     "text": [
      "iris.data\n",
      "test1.sh\n",
      "test1.txt\n",
      "test2.txt\n",
      "test3_copy.txt\n",
      "test3.txt\n"
     ]
    }
   ],
   "source": [
    "%%bash\n",
    "cd test/  \n",
    "ls [a-zA-Z]*"
   ]
  },
  {
   "cell_type": "code",
   "execution_count": 15,
   "metadata": {},
   "outputs": [],
   "source": [
    "%%bash\n",
    "# add 1 to the file test1.txt\n",
    "echo 1 >> test/test1.txt\n",
    "echo 2 >> test/test1.txt\n",
    "echo 3 >> test/test1.txt\n"
   ]
  },
  {
   "cell_type": "code",
   "execution_count": null,
   "metadata": {},
   "outputs": [],
   "source": [
    "%%bash \n",
    "# add content to test2.txt from 1 to 100\n",
    "for i in {1..100}\n",
    "do\n",
    "  echo $i >> test/test2.txt\n",
    "done"
   ]
  },
  {
   "cell_type": "code",
   "execution_count": null,
   "metadata": {},
   "outputs": [],
   "source": [
    "%%bash \n",
    "# recommendation to delete files or compress them "
   ]
  }
 ],
 "metadata": {
  "kernelspec": {
   "display_name": "Python 3",
   "language": "python",
   "name": "python3"
  },
  "language_info": {
   "codemirror_mode": {
    "name": "ipython",
    "version": 3
   },
   "file_extension": ".py",
   "mimetype": "text/x-python",
   "name": "python",
   "nbconvert_exporter": "python",
   "pygments_lexer": "ipython3",
   "version": "3.10.12"
  }
 },
 "nbformat": 4,
 "nbformat_minor": 2
}
