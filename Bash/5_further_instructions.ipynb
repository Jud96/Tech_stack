{
 "cells": [
  {
   "cell_type": "code",
   "execution_count": 1,
   "metadata": {},
   "outputs": [],
   "source": [
    "%%bash\n",
    "# create new file hello.sh\n",
    "echo \"echo 'Hello, World!'\" > test/hello.sh"
   ]
  },
  {
   "cell_type": "code",
   "execution_count": 2,
   "metadata": {},
   "outputs": [
    {
     "name": "stdout",
     "output_type": "stream",
     "text": [
      "Hello, World!\n"
     ]
    }
   ],
   "source": [
    "%%bash\n",
    "# run a script\n",
    "bash test/hello.sh"
   ]
  },
  {
   "cell_type": "code",
   "execution_count": 32,
   "metadata": {},
   "outputs": [
    {
     "name": "stdout",
     "output_type": "stream",
     "text": [
      "/home/majid\n",
      "Desktop\n",
      "Documents\n",
      "Downloads\n",
      "Music\n",
      "Pictures\n",
      "Public\n",
      "snap\n",
      "Templates\n",
      "Videos\n",
      "work\n"
     ]
    }
   ],
   "source": [
    "%%bash \n",
    "# read a value from user and then print the fiel it\n",
    "\n",
    "read DIR\n",
    "\n",
    "cd ${DIR} \n",
    "pwd\n",
    "ls"
   ]
  },
  {
   "cell_type": "code",
   "execution_count": 40,
   "metadata": {},
   "outputs": [
    {
     "name": "stdout",
     "output_type": "stream",
     "text": [
      "“Hello John, how are you today”\n",
      " hello , how are you\n",
      " hello John\n",
      "hi echo “bash is bash”\n",
      "“Hello John, how are you today”\n",
      " hello Smith, how are you\n",
      " hello John\n",
      "hi Smith echo “bash is bash”\n"
     ]
    }
   ],
   "source": [
    "%%bash\n",
    "# define a function and pass a parameter to it\n",
    "say_hello(){\n",
    "    echo “Hello $1, how are you today”\n",
    "    echo \" hello $2, how are you\" \n",
    "    echo \" hello ${1}\" \n",
    "    shift \n",
    "    echo hi $1 echo “$0 is $0”\n",
    "}\n",
    "say_hello \"John\"\n",
    "say_hello \"John\" \"Smith\"\n",
    "\n"
   ]
  },
  {
   "cell_type": "code",
   "execution_count": null,
   "metadata": {},
   "outputs": [],
   "source": [
    "# create a new file with the following content and name it script2.sh\n",
    "# echo “Hello $1, how are you today”\n",
    "# echo \" hello $2, how are you\" \n",
    "# echo \" hello ${1}\" \n",
    "# shift \n",
    "# echo hi $1 echo “$0 is $0”\n",
    "\n"
   ]
  },
  {
   "cell_type": "code",
   "execution_count": 42,
   "metadata": {},
   "outputs": [
    {
     "name": "stdout",
     "output_type": "stream",
     "text": [
      "“Hello John, how are you today”\n",
      " hello Smith, how are you\n",
      " hello John\n",
      "hi Smith echo “test/script2.sh is test/script2.sh”\n"
     ]
    }
   ],
   "source": [
    "%%bash\n",
    "bash test/script2.sh \"John\" \"Smith\""
   ]
  },
  {
   "cell_type": "code",
   "execution_count": 6,
   "metadata": {},
   "outputs": [],
   "source": [
    "%%bash\n",
    "# export ..\texport a variable\n",
    "export name=\"John\""
   ]
  },
  {
   "cell_type": "code",
   "execution_count": 11,
   "metadata": {},
   "outputs": [
    {
     "name": "stdout",
     "output_type": "stream",
     "text": [
      "SNAP_REAL_HOME=/home/majid\n"
     ]
    }
   ],
   "source": [
    "%%bash\n",
    "# print out all variables\n",
    "env | grep SNAP_REAL_HOME"
   ]
  },
  {
   "cell_type": "code",
   "execution_count": 12,
   "metadata": {},
   "outputs": [
    {
     "name": "stdout",
     "output_type": "stream",
     "text": [
      "\n"
     ]
    }
   ],
   "source": [
    "%%bash\n",
    "# shift\tshift positional parameters\n"
   ]
  },
  {
   "cell_type": "code",
   "execution_count": 4,
   "metadata": {},
   "outputs": [
    {
     "name": "stdout",
     "output_type": "stream",
     "text": [
      "BLAH=rababarabarabarara\n",
      "* is any string\n",
      "the result of ##*ba is’ rara\n",
      "the result of #*ba is’ barabarabarara\n",
      "the result of %%ba* is’ ra\n",
      "the result of %ba* is’ rababarabara\n"
     ]
    }
   ],
   "source": [
    "%%bash\n",
    "BLAH=rababarabarabarara \n",
    "\n",
    "echo BLAH=$BLAH \n",
    "# # is the shortest match from the left \n",
    "# ## is the longest match from the left\n",
    " # % is the shortest match from the right\n",
    " # %% is the longest match from the right \n",
    "echo \"* is any string\" \n",
    "echo \"the result of ##*ba is’ ${BLAH##*ba}\"\n",
    " echo \"the result of #*ba is’ ${BLAH#*ba}\"\n",
    " echo \"the result of %%ba* is’ ${BLAH%%ba*}\"\n",
    "echo \"the result of %ba* is’ ${BLAH%ba*}\""
   ]
  },
  {
   "cell_type": "code",
   "execution_count": 14,
   "metadata": {},
   "outputs": [
    {
     "name": "stdout",
     "output_type": "stream",
     "text": [
      "test/hello.sh\n",
      "test/hello2.sh\n"
     ]
    }
   ],
   "source": [
    "%%bash \n",
    "# find the file begin with hello\n",
    "find test -name \"hello*\""
   ]
  },
  {
   "cell_type": "code",
   "execution_count": 15,
   "metadata": {},
   "outputs": [
    {
     "name": "stdout",
     "output_type": "stream",
     "text": [
      "test/hello.sh\n",
      "test/hello2.sh\n"
     ]
    }
   ],
   "source": [
    "%%bash \n",
    "# find the file with sh extension\n",
    "find test -name \"*.sh\""
   ]
  },
  {
   "cell_type": "code",
   "execution_count": 16,
   "metadata": {},
   "outputs": [
    {
     "name": "stdout",
     "output_type": "stream",
     "text": [
      "test\n",
      "test/hello.sh\n",
      "test/hello2.sh\n"
     ]
    }
   ],
   "source": [
    "%%bash\n",
    "# find files that are modified in the last 10 minutes\n",
    "find test -mmin -10"
   ]
  },
  {
   "cell_type": "code",
   "execution_count": 18,
   "metadata": {},
   "outputs": [],
   "source": [
    "%%bash \n",
    "# move iris file to be inside test folder\n",
    "mv iris.data test/iris.data"
   ]
  },
  {
   "cell_type": "code",
   "execution_count": 19,
   "metadata": {},
   "outputs": [],
   "source": [
    "%%bash \n",
    "# rename file hello2.sh to hello3.sh\n",
    "mv test/hello2.sh test/hello3.sh"
   ]
  },
  {
   "cell_type": "code",
   "execution_count": 20,
   "metadata": {},
   "outputs": [],
   "source": [
    "%%bash \n",
    "# remove file hello3.sh\n",
    "rm test/hello3.sh"
   ]
  },
  {
   "cell_type": "code",
   "execution_count": 21,
   "metadata": {},
   "outputs": [],
   "source": [
    "%%bash \n",
    "# make a new directory with test2 name\n",
    "mkdir test2"
   ]
  },
  {
   "cell_type": "code",
   "execution_count": 23,
   "metadata": {},
   "outputs": [
    {
     "name": "stdout",
     "output_type": "stream",
     "text": [
      "-rw-rw-r-- 1 majid majid 21 Feb 16 20:46 test/hello.sh\n"
     ]
    }
   ],
   "source": [
    "%%bash \n",
    "# show permission on test/herlo.sh\n",
    "ls -l test/hello.sh"
   ]
  },
  {
   "cell_type": "code",
   "execution_count": 24,
   "metadata": {},
   "outputs": [],
   "source": [
    "%%bash \n",
    "# chnage permission to executable for hello.sh\n",
    "chmod +x test/hello.sh"
   ]
  },
  {
   "cell_type": "code",
   "execution_count": 26,
   "metadata": {},
   "outputs": [
    {
     "name": "stdout",
     "output_type": "stream",
     "text": [
      "-rwxrwxr-x 1 majid majid 21 Feb 16 20:46 test/hello.sh\n"
     ]
    }
   ],
   "source": [
    "%%bash \n",
    "# show permission on test/herlo.sh\n",
    "ls -l test/hello.sh"
   ]
  },
  {
   "cell_type": "code",
   "execution_count": 27,
   "metadata": {},
   "outputs": [
    {
     "name": "stdout",
     "output_type": "stream",
     "text": [
      "Hello, World!\n"
     ]
    }
   ],
   "source": [
    "%%bash\n",
    "# run code \n",
    "test/hello.sh"
   ]
  },
  {
   "cell_type": "code",
   "execution_count": 28,
   "metadata": {},
   "outputs": [],
   "source": [
    "%%bash \n",
    "# revoke permission to executable for hello.sh\n",
    "chmod -x test/hello.sh"
   ]
  },
  {
   "cell_type": "code",
   "execution_count": 30,
   "metadata": {},
   "outputs": [],
   "source": [
    "%%bash \n",
    "#test/hello.sh this will not work"
   ]
  },
  {
   "cell_type": "code",
   "execution_count": 31,
   "metadata": {},
   "outputs": [
    {
     "name": "stderr",
     "output_type": "stream",
     "text": [
      "--2024-02-16 21:07:30--  https://archive.ics.uci.edu/ml/machine-learning-databases/iris/iris.data\n",
      "Resolving archive.ics.uci.edu (archive.ics.uci.edu)... 128.195.10.252\n",
      "Connecting to archive.ics.uci.edu (archive.ics.uci.edu)|128.195.10.252|:443... connected.\n",
      "HTTP request sent, awaiting response... 200 OK\n",
      "Length: unspecified\n",
      "Saving to: ‘iris.data’\n",
      "\n",
      "     0K ....                                                   12,0M=0s\n",
      "\n",
      "2024-02-16 21:07:32 (12,0 MB/s) - ‘iris.data’ saved [4551]\n",
      "\n"
     ]
    }
   ],
   "source": [
    "%%bash \n",
    "# download iris dataset\n",
    "wget https://archive.ics.uci.edu/ml/machine-learning-databases/iris/iris.data"
   ]
  },
  {
   "cell_type": "code",
   "execution_count": 6,
   "metadata": {},
   "outputs": [
    {
     "name": "stderr",
     "output_type": "stream",
     "text": [
      "rm: cannot remove 'iris.data': No such file or directory\n",
      "  % Total    % Received % Xferd  Average Speed   Time    Time     Time  Current\n",
      "                                 Dload  Upload   Total   Spent    Left  Speed\n"
     ]
    },
    {
     "name": "stdout",
     "output_type": "stream",
     "text": [
      "5.1,3.5,1.4,0.2,Iris-setosa\n",
      "4.9,3.0,1.4,0.2,Iris-setosa\n",
      "4.7,3.2,1.3,0.2,Iris-setosa\n",
      "4.6,3.1,1.5,0.2,Iris-setosa\n",
      "5.0,3.6,1.4,0.2,Iris-setosa\n"
     ]
    },
    {
     "name": "stderr",
     "output_type": "stream",
     "text": [
      "100  4551    0  4551    0     0   7611      0 --:--:-- --:--:-- --:--:--  7623\n",
      "curl: (23) Failed writing body\n"
     ]
    }
   ],
   "source": [
    "%%bash\n",
    "# get data using curl\n",
    "rm iris.data\n",
    "curl https://archive.ics.uci.edu/ml/machine-learning-databases/iris/iris.data | head -n 5"
   ]
  },
  {
   "cell_type": "code",
   "execution_count": 9,
   "metadata": {},
   "outputs": [
    {
     "name": "stderr",
     "output_type": "stream",
     "text": [
      "  % Total    % Received % Xferd  Average Speed   Time    Time     Time  Current\n",
      "                                 Dload  Upload   Total   Spent    Left  Speed\n"
     ]
    },
    {
     "name": "stderr",
     "output_type": "stream",
     "text": [
      "100   507  100   473  100    34   1879    135 --:--:-- --:--:-- --:--:--  2019\n"
     ]
    },
    {
     "name": "stdout",
     "output_type": "stream",
     "text": [
      "{\n",
      "  \"args\": {}, \n",
      "  \"data\": \"{\\\"key1\\\":\\\"value1\\\", \\\"key2\\\":\\\"value2\\\"}\", \n",
      "  \"files\": {}, \n",
      "  \"form\": {}, \n",
      "  \"headers\": {\n",
      "    \"Accept\": \"*/*\", \n",
      "    \"Content-Length\": \"34\", \n",
      "    \"Content-Type\": \"application/json\", \n",
      "    \"Host\": \"httpbin.org\", \n",
      "    \"User-Agent\": \"curl/7.81.0\", \n",
      "    \"X-Amzn-Trace-Id\": \"Root=1-65d12d26-72fc65011d383f500b98b65c\"\n",
      "  }, \n",
      "  \"json\": {\n",
      "    \"key1\": \"value1\", \n",
      "    \"key2\": \"value2\"\n",
      "  }, \n",
      "  \"origin\": \"95.90.175.7\", \n",
      "  \"url\": \"http://httpbin.org/post\"\n",
      "}\n"
     ]
    }
   ],
   "source": [
    "%%bash\n",
    "# post data using curl with header\n",
    "curl -X POST -H \"Content-Type: application/json\" -d '{\"key1\":\"value1\", \"key2\":\"value2\"}' \\\n",
    "     http://httpbin.org/post\n"
   ]
  },
  {
   "cell_type": "code",
   "execution_count": 51,
   "metadata": {},
   "outputs": [
    {
     "name": "stderr",
     "output_type": "stream",
     "text": [
      "  % Total    % Received % Xferd  Average Speed   Time    Time     Time  Current\n",
      "                                 Dload  Upload   Total   Spent    Left  Speed\n",
      "100 17404  100 17404    0     0  27648      0 --:--:-- --:--:-- --:--:-- 27625\n"
     ]
    },
    {
     "name": "stdout",
     "output_type": "stream",
     "text": [
      "<!DOCTYPE html><html lang=\"en-US\"><head><title>Just a moment...</title><meta http-equiv=\"Content-Type\" content=\"text/html; charset=UTF-8\"><meta http-equiv=\"X-UA-Compatible\" content=\"IE=Edge\"><meta name=\"robots\" content=\"noindex,nofollow\"><meta name=\"viewport\" content=\"width=device-width,initial-scale=1\"><style>*{box-sizing:border-box;margin:0;padding:0}html{line-height:1.15;-webkit-text-size-adjust:100%;color:#313131}button,html{font-family:system-ui,-apple-system,BlinkMacSystemFont,Segoe UI,Roboto,Helvetica Neue,Arial,Noto Sans,sans-serif,Apple Color Emoji,Segoe UI Emoji,Segoe UI Symbol,Noto Color Emoji}@media (prefers-color-scheme:dark){body{background-color:#222;color:#d9d9d9}body a{color:#fff}body a:hover{color:#ee730a;text-decoration:underline}body .lds-ring div{border-color:#999 transparent transparent}body .font-red{color:#b20f03}body .big-button,body .pow-button{background-color:#4693ff;color:#1d1d1d}body #challenge-success-text{background-image:url(data:image/svg+xml;base64,PHN2ZyB4bWxucz0iaHR0cDovL3d3dy53My5vcmcvMjAwMC9zdmciIHdpZHRoPSIzMiIgaGVpZ2h0PSIzMiIgZmlsbD0ibm9uZSIgdmlld0JveD0iMCAwIDI2IDI2Ij48cGF0aCBmaWxsPSIjZDlkOWQ5IiBkPSJNMTMgMGExMyAxMyAwIDEgMCAwIDI2IDEzIDEzIDAgMCAwIDAtMjZtMCAyNGExMSAxMSAwIDEgMSAwLTIyIDExIDExIDAgMCAxIDAgMjIiLz48cGF0aCBmaWxsPSIjZDlkOWQ5IiBkPSJtMTAuOTU1IDE2LjA1NS0zLjk1LTQuMTI1LTEuNDQ1IDEuMzg1IDUuMzcgNS42MSA5LjQ5NS05LjYtMS40Mi0xLjQwNXoiLz48L3N2Zz4=)}body #challenge-error-text{background-image:url(data:image/svg+xml;base64,PHN2ZyB4bWxucz0iaHR0cDovL3d3dy53My5vcmcvMjAwMC9zdmciIHdpZHRoPSIzMiIgaGVpZ2h0PSIzMiIgZmlsbD0ibm9uZSI+PHBhdGggZmlsbD0iI0IyMEYwMyIgZD0iTTE2IDNhMTMgMTMgMCAxIDAgMTMgMTNBMTMuMDE1IDEzLjAxNSAwIDAgMCAxNiAzbTAgMjRhMTEgMTEgMCAxIDEgMTEtMTEgMTEuMDEgMTEuMDEgMCAwIDEtMTEgMTEiLz48cGF0aCBmaWxsPSIjQjIwRjAzIiBkPSJNMTcuMDM4IDE4LjYxNUgxNC44N0wxNC41NjMgOS41aDIuNzgzem0tMS4wODQgMS40MjdxLjY2IDAgMS4wNTcuMzg4LjQwNy4zODkuNDA3Ljk5NCAwIC41OTYtLjQwNy45ODQtLjM5Ny4zOS0xLjA1Ny4zODktLjY1IDAtMS4wNTYtLjM4OS0uMzk4LS4zODktLjM5OC0uOTg0IDAtLjU5Ny4zOTgtLjk4NS40MDYtLjM5NyAxLjA1Ni0uMzk3Ii8+PC9zdmc+)}}body{display:flex;flex-direction:column;min-height:100vh}body.no-js .loading-spinner{visibility:hidden}body.no-js .challenge-running{display:none}body.dark{background-color:#222;color:#d9d9d9}body.dark a{color:#fff}body.dark a:hover{color:#ee730a;text-decoration:underline}body.dark .lds-ring div{border-color:#999 transparent transparent}body.dark .font-red{color:#b20f03}body.dark .big-button,body.dark .pow-button{background-color:#4693ff;color:#1d1d1d}body.dark #challenge-success-text{background-image:url(data:image/svg+xml;base64,PHN2ZyB4bWxucz0iaHR0cDovL3d3dy53My5vcmcvMjAwMC9zdmciIHdpZHRoPSIzMiIgaGVpZ2h0PSIzMiIgZmlsbD0ibm9uZSIgdmlld0JveD0iMCAwIDI2IDI2Ij48cGF0aCBmaWxsPSIjZDlkOWQ5IiBkPSJNMTMgMGExMyAxMyAwIDEgMCAwIDI2IDEzIDEzIDAgMCAwIDAtMjZtMCAyNGExMSAxMSAwIDEgMSAwLTIyIDExIDExIDAgMCAxIDAgMjIiLz48cGF0aCBmaWxsPSIjZDlkOWQ5IiBkPSJtMTAuOTU1IDE2LjA1NS0zLjk1LTQuMTI1LTEuNDQ1IDEuMzg1IDUuMzcgNS42MSA5LjQ5NS05LjYtMS40Mi0xLjQwNXoiLz48L3N2Zz4=)}body.dark #challenge-error-text{background-image:url(data:image/svg+xml;base64,PHN2ZyB4bWxucz0iaHR0cDovL3d3dy53My5vcmcvMjAwMC9zdmciIHdpZHRoPSIzMiIgaGVpZ2h0PSIzMiIgZmlsbD0ibm9uZSI+PHBhdGggZmlsbD0iI0IyMEYwMyIgZD0iTTE2IDNhMTMgMTMgMCAxIDAgMTMgMTNBMTMuMDE1IDEzLjAxNSAwIDAgMCAxNiAzbTAgMjRhMTEgMTEgMCAxIDEgMTEtMTEgMTEuMDEgMTEuMDEgMCAwIDEtMTEgMTEiLz48cGF0aCBmaWxsPSIjQjIwRjAzIiBkPSJNMTcuMDM4IDE4LjYxNUgxNC44N0wxNC41NjMgOS41aDIuNzgzem0tMS4wODQgMS40MjdxLjY2IDAgMS4wNTcuMzg4LjQwNy4zODkuNDA3Ljk5NCAwIC41OTYtLjQwNy45ODQtLjM5Ny4zOS0xLjA1Ny4zODktLjY1IDAtMS4wNTYtLjM4OS0uMzk4LS4zODktLjM5OC0uOTg0IDAtLjU5Ny4zOTgtLjk4NS40MDYtLjM5NyAxLjA1Ni0uMzk3Ii8+PC9zdmc+)}body.light{background-color:transparent;color:#313131}body.light a{color:#0051c3}body.light a:hover{color:#ee730a;text-decoration:underline}body.light .lds-ring div{border-color:#595959 transparent transparent}body.light .font-red{color:#fc574a}body.light .big-button,body.light .pow-button{background-color:#003681;border-color:#003681;color:#fff}body.light #challenge-success-text{background-image:url(data:image/svg+xml;base64,PHN2ZyB4bWxucz0iaHR0cDovL3d3dy53My5vcmcvMjAwMC9zdmciIHdpZHRoPSIzMiIgaGVpZ2h0PSIzMiIgZmlsbD0ibm9uZSIgdmlld0JveD0iMCAwIDI2IDI2Ij48cGF0aCBmaWxsPSIjMzEzMTMxIiBkPSJNMTMgMGExMyAxMyAwIDEgMCAwIDI2IDEzIDEzIDAgMCAwIDAtMjZtMCAyNGExMSAxMSAwIDEgMSAwLTIyIDExIDExIDAgMCAxIDAgMjIiLz48cGF0aCBmaWxsPSIjMzEzMTMxIiBkPSJtMTAuOTU1IDE2LjA1NS0zLjk1LTQuMTI1LTEuNDQ1IDEuMzg1IDUuMzcgNS42MSA5LjQ5NS05LjYtMS40Mi0xLjQwNXoiLz48L3N2Zz4=)}body.light #challenge-error-text{background-image:url(data:image/svg+xml;base64,PHN2ZyB4bWxucz0iaHR0cDovL3d3dy53My5vcmcvMjAwMC9zdmciIHdpZHRoPSIzMiIgaGVpZ2h0PSIzMiIgZmlsbD0ibm9uZSI+PHBhdGggZmlsbD0iI2ZjNTc0YSIgZD0iTTE2IDNhMTMgMTMgMCAxIDAgMTMgMTNBMTMuMDE1IDEzLjAxNSAwIDAgMCAxNiAzbTAgMjRhMTEgMTEgMCAxIDEgMTEtMTEgMTEuMDEgMTEuMDEgMCAwIDEtMTEgMTEiLz48cGF0aCBmaWxsPSIjZmM1NzRhIiBkPSJNMTcuMDM4IDE4LjYxNUgxNC44N0wxNC41NjMgOS41aDIuNzgzem0tMS4wODQgMS40MjdxLjY2IDAgMS4wNTcuMzg4LjQwNy4zODkuNDA3Ljk5NCAwIC41OTYtLjQwNy45ODQtLjM5Ny4zOS0xLjA1Ny4zODktLjY1IDAtMS4wNTYtLjM4OS0uMzk4LS4zODktLjM5OC0uOTg0IDAtLjU5Ny4zOTgtLjk4NS40MDYtLjM5NyAxLjA1Ni0uMzk3Ii8+PC9zdmc+)}a{background-color:transparent;color:#0051c3;text-decoration:none;transition:color .15s ease}a:hover{color:#ee730a;text-decoration:underline}.main-content{margin:8rem auto;max-width:60rem;width:100%}.heading-favicon{height:2rem;margin-right:.5rem;width:2rem}@media (width <= 720px){.main-content{margin-top:4rem}.heading-favicon{height:1.5rem;width:1.5rem}}.footer,.main-content{padding-left:1.5rem;padding-right:1.5rem}.main-wrapper{align-items:center;display:flex;flex:1;flex-direction:column}.font-red{color:#b20f03}.spacer{margin:2rem 0}.h1{font-size:2.5rem;font-weight:500;line-height:3.75rem}.h2{font-weight:500}.core-msg,.h2{font-size:1.5rem;line-height:2.25rem}.body-text,.core-msg{font-weight:400}.body-text{font-size:1rem;line-height:1.25rem}@media (width <= 720px){.h1{font-size:1.5rem;line-height:1.75rem}.h2{font-size:1.25rem}.core-msg,.h2{line-height:1.5rem}.core-msg{font-size:1rem}}#challenge-error-text{background-image:url(data:image/svg+xml;base64,PHN2ZyB4bWxucz0iaHR0cDovL3d3dy53My5vcmcvMjAwMC9zdmciIHdpZHRoPSIzMiIgaGVpZ2h0PSIzMiIgZmlsbD0ibm9uZSI+PHBhdGggZmlsbD0iI2ZjNTc0YSIgZD0iTTE2IDNhMTMgMTMgMCAxIDAgMTMgMTNBMTMuMDE1IDEzLjAxNSAwIDAgMCAxNiAzbTAgMjRhMTEgMTEgMCAxIDEgMTEtMTEgMTEuMDEgMTEuMDEgMCAwIDEtMTEgMTEiLz48cGF0aCBmaWxsPSIjZmM1NzRhIiBkPSJNMTcuMDM4IDE4LjYxNUgxNC44N0wxNC41NjMgOS41aDIuNzgzem0tMS4wODQgMS40MjdxLjY2IDAgMS4wNTcuMzg4LjQwNy4zODkuNDA3Ljk5NCAwIC41OTYtLjQwNy45ODQtLjM5Ny4zOS0xLjA1Ny4zODktLjY1IDAtMS4wNTYtLjM4OS0uMzk4LS4zODktLjM5OC0uOTg0IDAtLjU5Ny4zOTgtLjk4NS40MDYtLjM5NyAxLjA1Ni0uMzk3Ii8+PC9zdmc+);padding-left:34px}#challenge-error-text,#challenge-success-text{background-repeat:no-repeat;background-size:contain}#challenge-success-text{background-image:url(data:image/svg+xml;base64,PHN2ZyB4bWxucz0iaHR0cDovL3d3dy53My5vcmcvMjAwMC9zdmciIHdpZHRoPSIzMiIgaGVpZ2h0PSIzMiIgZmlsbD0ibm9uZSIgdmlld0JveD0iMCAwIDI2IDI2Ij48cGF0aCBmaWxsPSIjMzEzMTMxIiBkPSJNMTMgMGExMyAxMyAwIDEgMCAwIDI2IDEzIDEzIDAgMCAwIDAtMjZtMCAyNGExMSAxMSAwIDEgMSAwLTIyIDExIDExIDAgMCAxIDAgMjIiLz48cGF0aCBmaWxsPSIjMzEzMTMxIiBkPSJtMTAuOTU1IDE2LjA1NS0zLjk1LTQuMTI1LTEuNDQ1IDEuMzg1IDUuMzcgNS42MSA5LjQ5NS05LjYtMS40Mi0xLjQwNXoiLz48L3N2Zz4=);padding-left:42px}.text-center{text-align:center}.big-button{border:.063rem solid #0051c3;border-radius:.313rem;font-size:.875rem;line-height:1.313rem;padding:.375rem 1rem;transition-duration:.2s;transition-property:background-color,border-color,color;transition-timing-function:ease}.big-button:hover{cursor:pointer}.captcha-prompt:not(.hidden){display:flex}@media (width <= 720px){.captcha-prompt:not(.hidden){flex-wrap:wrap;justify-content:center}}.pow-button{background-color:#0051c3;color:#fff;margin:2rem 0}.pow-button:hover{background-color:#003681;border-color:#003681;color:#fff}.footer{font-size:.75rem;line-height:1.125rem;margin:0 auto;max-width:60rem;width:100%}.footer-inner{border-top:1px solid #d9d9d9;padding-bottom:1rem;padding-top:1rem}.clearfix:after{clear:both;content:\"\";display:table}.clearfix .column{float:left;padding-right:1.5rem;width:50%}.diagnostic-wrapper{margin-bottom:.5rem}.footer .ray-id{text-align:center}.footer .ray-id code{font-family:monaco,courier,monospace}.core-msg,.zone-name-title{overflow-wrap:break-word}@media (width <= 720px){.diagnostic-wrapper{display:flex;flex-wrap:wrap;justify-content:center}.clearfix:after{clear:none;content:none;display:initial;text-align:center}.column{padding-bottom:2rem}.clearfix .column{float:none;padding:0;width:auto;word-break:keep-all}.zone-name-title{margin-bottom:1rem}}.loading-spinner{height:76.391px}.lds-ring{display:inline-block;position:relative}.lds-ring,.lds-ring div{height:1.875rem;width:1.875rem}.lds-ring div{animation:lds-ring 1.2s cubic-bezier(.5,0,.5,1) infinite;border:.3rem solid transparent;border-radius:50%;border-top-color:#313131;box-sizing:border-box;display:block;position:absolute}.lds-ring div:first-child{animation-delay:-.45s}.lds-ring div:nth-child(2){animation-delay:-.3s}.lds-ring div:nth-child(3){animation-delay:-.15s}@keyframes lds-ring{0%{transform:rotate(0)}to{transform:rotate(1turn)}}@media screen and (-ms-high-contrast:active),screen and (-ms-high-contrast:none){.main-wrapper,body{display:block}}</style><meta http-equiv=\"refresh\" content=\"375\"></head><body class=\"no-js\"><div class=\"main-wrapper\" role=\"main\"><div class=\"main-content\"><noscript><div id=\"challenge-error-title\"><div class=\"h2\"><span id=\"challenge-error-text\">Enable JavaScript and cookies to continue</span></div></div></noscript></div></div><script>(function(){window._cf_chl_opt={cvId: '3',cZone: \"reqbin.com\",cType: 'managed',cNounce: '64511',cRay: '857710a609adbb83',cHash: '50140ceb413528e',cUPMDTk: \"\\/echo?__cf_chl_tk=SlwxiR6hUwETWEjcb02mDPJ0WW7zqPx97l9wJySIWfA-1708267643-0.0-3495\",cFPWv: 'b',cTTimeMs: '1000',cMTimeMs: '375000',cTplV: 5,cTplB: 'cf',cK: \"visitor-time\",fa: \"\\/echo?__cf_chl_f_tk=SlwxiR6hUwETWEjcb02mDPJ0WW7zqPx97l9wJySIWfA-1708267643-0.0-3495\",md: \"c23qOSZQ1f729OyMJAgrT1.9fooEKhyTZS6FR1s70qw-1708267643-1.1-AY7JybGvs9_kbMkolLvmK8yPBwOwdaB_9Kyy4ldYaxuRgjGrJ_xms0-xP-sk642UgTIJ9Ema_xh5I_WczwRNmpg1jxBiNt0tq-CibuEG_nGU1bGzsSnI9u59aKMkIOe4_77LhHmkaxQAh6tkSaLEnaH_o7OHhmyMjvmkn5_90JRy5jfRw40uVVqfPRlVYhZvJ_zPUVGPF4D30el3nuCJbiuEdCAnqPWI9X6uSeEAAh4ZClG8WoSHDN5bTVKFV89L7Dwr3DXEgy6iXsDoWo5cCcfSLCr8G1rQadGkRaNW65GSEmxWOgM0obieN2umkswmDj1wqYHLtavOcv4rSS5z0ItuK43OS_hSYjX39m80iSPWevEgvq7280BrDgv8Ai7y03jG96P9v7EtQFx7onXBdzO1plkCwLjeULkTLid1gw4VnTFlh3ovhTNWS7gzi9OMiC8vWBoiXMj67cXRJXwm_bmLpZIRyZg0yqLNpWd5OxdlulC4-viPDcgFecL6k5oJMye1YvMEOD2TTW9zLYLIQkGF8Kj7i1g-uGblVhvbnuMgVSaVkU62Yc6KRg1NtddoxPhgJYsZ25TdDxlexL7Ex8q1hxVIshn79BitNBbhSiI0OKgbhnUxaGD32caQPZhewlkiKpFCVmiEQvET2dfSYWpXGtM85VhfY132ddaVyA461cT7IQpMBOscfEkDDogcJPwdQEj9FURjWo1P4IjtCadX1x4Cvtb0_yHyKfi4VVb2huok_bWQr990gm9xsD7RL6wsTgVxsQSfBZdX6jtaHLZum4kyzVGvGM4n5lkju8CfLPGoZb90k1KCHs9riHBUedZaCeu1qbWy-ohnHRcRed-CDmciPyjl1ManVAeMbs8GfUvvR8R6izcbLGEI7o3jrQ47GotVgCB_DSaEJRyakNE2B8yA19uewHyDcp7RYP-rrL1RPl9vWV6FqVQgiXuH3zfGqhnrCMlRXsnbch-veZZtlIE9F91tqfMAbnElLRfii9v7L0rdggz92COdDPP77y1qRGMQTnuplexiBwaUEcuMK9quPpbByJiilP3BkYGYWBrpP0yAKmMc0wxPUOKI4X6I74mmIg-crgRiFQsP8DBjo-lTv0Jn0glqjrel0meZcDk2wGUZZqHehJY48ymgc3rmUZhNHUyxQXHsa1YAHGGTCsXb0-2iMiDcunVcc1D1OSDci_hQfAhcOWN-0iL5iu1KI7gT58EHhIbMrLXB7XFEeoHLxFsHsBnIiULqDFaKJZHftJU4ImpBG0JSyzSRGWIXe3A2BOSQDuagZDxrGarSJ4ldIby_RW0vhK9LfKI0GgCNVI_39b9ChMt0TcEQTo5Ysd939xazaWN5Yv2vw10i701Qk2y11uM_mjd87E0RGxApnhoWNd-qs2qT4HT3j8PNIYpKkcJ9ec4LgcYSBx7Mt8WN9_ldCknY4HTZgSV85pFusc3mjt7Guw4hZ73DHgjDnZbPIq0wu5hxaIhfnFF0Fh-UvDn0QaXYOvQdsJgaJFXLAoUq1afw6PSsWHeIi4JC7lwl4MJqiK_vFv2ilp6rHlB8MfN278amReCFP_EVZGUJWD_EhGyX0kIjWen__78AP3dHOqIgzKqDF0WcqJjpMjuN1SCcN-Vet0_A_9xMNjqO_pOWNEV_il4xunjp9nuOU-s7LhIsjBqbe4wDP59E5k0JJ2aFVUPsuKiyTP6TFdJPKONz5yhpVYhzAe_FzZEnd1xqgXQMiX_LTXhoNVq21SUu5HjElWcPbgdbNmbKnZXfnTEZ8VrQArTQzjDVI456MonYVd4tP8Es38rYZ-yFMASX2O63S2w3RKpHmJ9nQl6gCRVKRCWh2n-otF6dDM_qoizoHpCN9N4PjaUsmqY6iGqWc1pdnzen28CQF8mnbECLDEeRmC80nQ2wN_ncCi0kUq9_lC00ow8BPAi42aw4iNM0ovb5O7PmMWbKjNXmB5E1jwV2az_4YrkXWByGqUejaDm-Nnk3F_BDNewNIfWdgbgMXqhmWGj8nn0l0sqUvjmhXPU7k9cDGvNnY3a7gGKZ2VpedqDPwSQz-ZjGvP7gvcXTAqkLKhcC9cLEXdOIqgt7WFbfareYywGfziJlMUtbWoHZob9dXX4gx9hJkd6xzliyhRQcrqXzdSP6q2-RVwOJ4BSVaB-WzMEEYTMGVQ0hPFMlJ9FmWIaTBwadcY2QG394EP-kMbxyZ1yR_YEP8EyfoJlIClBhMQPyUMb9u4h4MwOudWyHKrIPhGVehhqE6lc54B7qbbVbAkhoRHYB7u60raaOJNN9FupTA5hJJ22H-2k7wiuKlUjvZgDurF9d32drwZssvSQFtcKcxn2Fo4V6yQyeenjQevYKJkTiF7NIrac0LN85w0dv9T5w2iKITXjvvNcUkteHfBV6HJbucdr5l9Y-vQjINVNRNsf4pM80FB2PLECv3PCIr7glCixbXMbko5FbYvKvWF-mJk9tb1EI7gj5KSUfLe8oPjJRg_OxlYW2e9KoGBiZxwQjaoAI1sCrl7jDmeyNhtU7oG03vub5OyPMmmryAx01EPa40KPhs1U8XaXZwRJXzhszPLVyeEafkPBRwIulYktcnaeU8NgT-ZyouHJMp_4ZcUvdrdCU_g1-a-v68ltzKHkYbeFb9Ba2Z67AJrTaKtLTPyXiLHj_jHEB6EkGmZ-gC7YwAWFca1TIiJhKzs4CF-1cmCjUeYEwJkProYPd06V09Eh3pvZWzNcRFpWT1n7I1kQFJ4CXpTLZIYJkQpVuPlJktEQljgPadwqBUPj0mwqDSirV71mp7lCqgnKtj4C7G5-so4gcvxvbT-KwMJ0lWxxsEQB4oAY0bKdZ6eUJoqwm39T4MrjsbnEbjRDxg6EdgALCsE6BT4l4UVZS2I3KG1sSXuMEDpmA_CfaTmcYYhDA9CVPT_PfNYtevFFVwSyhCS7jy98mTkNi6aF5IndYlkz57ogHnUPrpXPF90v27UsjwyuW1JkP6DAb2n4IeTURgnSmHpjsMc1J5NxGD1D87iKApe4wfIoRh6ouJCKog10oaBQZOsvhSH8JMJ0akSlp-J0MY3JIxpGryjN1TM8VTZ7WghrsBDPjSeXCaZa92tvjsxa3ers3kVBH7GK-_SLUFiUsdGLJPpk4ezRmZ1gMjIuPNXz7PWqdp_coL59flmZuzWqhOco-d8SRFOhIJCDMKYXKRwCCkJda0l6vxhrr5L2j4R44AYCjkuTvZiL2wzpXcilVO4jYLPp0i4jBM4hyI4-BtnjWu_fb-Kl0ROJAlQup6Sm2siXW1g7ySgPvfx6_112NOsrODXTMXnN4FHBNJOVqjudccAdrb1AjpvRzEOX2JfauM3hQxoNkcEvCsczJ_LQlBe9-tEpufH0DAJcG2W4ep6IBJ36nEQqYtIRCMixF01UPKPGUhf8PUgA6uyPtE4Nm\",mdrd: \"tIPhp8WH.9Q_B4iMNyoLTbZ.os6.rbQfDXB8SxKFxy8-1708267643-1.1-AcvjKVgLi9K2KWhyvyQchMGnuisy2hvJ_pMdQS9oSonHYyTXMZ4dQbCFJxMjS9-rcq3TeZ8yvvd8VRYVyUktJdKNM6rYDrdPuC6RWCYYBd5hKeDNGHn8iLhVEHUx6zmF4k41VicAivbWZQ-Q5qdFNmjVIf50AEMZpKjoA1sukNx4VxHQ6HM3jaucaHOyCBrgYd4tTMdLG4Ve7V8AUoRW2juycYR7w1GON_LSoVzCgWsd5hBUZvhyQq4oyN4EROvqVBbRgASxs36Oi6V7n3OSTk78Ft3fMScVIAW6dxDXXNlpOfRNMdKwyj0UmcpsXKhlace1zFrhzDqBeBqBLI0r-eGqAh3yXjxkqS4Yui3Iva-0gBJiFTfcagdYQ455iMQsO9kUqCYt6Uw9Fg7xd1xCY9cSjjL7yTCC0LmKT7X-hp41cS8uqhGcpE7qZhI8XN0YqQ7RtDS0jCMGHvRSeWLIKursO3wNV6aHfObhzFfm1xOn7OE6jKMXSF7G0EvI9WpHMRW2q7wOyIhvhHcgWazpUv9RcsadM7Xt3SMo4bnEfDsPpTMGGE0kvpiF9Ejxmw7eUgDATCqjTJC0H78qBuQNuLZI5kevHFuc6UdmH_2zDsgVJwmMKJRRFIVn_vdjrcJL11Y6rl2OMpQ3nnHAS-ADuCn4TSMK-8Pj0G0YNoks2H38jOkSS9H-hIHddqIUIQXXbVXK_St9UcuexOWEU8P2c7mA9JsjJMujbMgDOdLf1_6n-ibn3hdeYlN0mIF19GdSQ6ToG8HW47xf-TOPpqoKNEGFqIy2Evzbrqz3sU7HldoCMWNF9hEN5OixBtPf3GkXSmCJyIDDz8c4u88EmcZ-edKLT_UIQZRZzCXMslaCQS-EkFqZO1C0g_jx4Z9IBJDvjW2Q9mfwZ3SKUgitW8XcqO01w74AO5wcjnJePEr_W5JQ_a1gGJ4dQtqC7uGG0YBKmEuG6AwROcbU3BE7uGHRndg2TnMD5HmSVz4vnCIBe3gN-jH6K2sA6sXQzd6OVAbyxEYwJeBQ1eZI9MMJbSolFLC5DNGeYdyWDw-e3XWwpleqalOzjv1LQHvx0-f1QZYZwe5AeHl0-fk01Jr-4FDa9gCsjjols7953Mc6P3pK0tyb33r2Edy-S7sBlSz9NTEjw50zPsEYrm9dAA6-VUeAZR9vdSm0Cp2x1DvjZaOs0-tufBMUbzo_34ysJlGRNgL_L1-o6vRbtjh5skxcFlEIdtm8wC2aRuow8K3YJ4xBUzG7gZR8YWJQnO9p0Ty6jJKh2Aka3GYdEVyBSQILnOIOouEnbCWyosBcLJ7681JKS-1JpGn01Lr9FzmvgR8NOW05fDY5rQdLgjRJNc6gjNOh2s8Wu0Zh6gED_JsOgu0hJYJI4v3h1mF-eYRI8l5XFnLodGFPI2knoB6FoEIT_vAx62-0045YJjRB67U0CbuOYNpFq8oVsROn2rhSDJFzL3tQlxkihgHOwMOiIeowUKFYKXDc6R0LlJRwxukJ1C2x8ruXNKvX9IBjNQhj8eIcPgCSnt44bZm7bHs8VDDdY7NS1EkKnhfYL0Taxh_SSIN_xqAOvKtjZ3aW21zXZMATIOjKl1yOh-FzzYYl5hy8WNdwAEksvAYN1V7j0Mb0vK6GjhWfNai1cXHjdUdRWkMND37wHeFlw8NQQcUQNRgjIic1WlWtwLrTuMrO4mS6EnzMwmPaXLRU7mMW-Le_UhhQv7CWWpti9EaxE8oW1gn9ErlUgbeTBEmaLtnpJEW7J7pa2A_UCujV85oqNUjXnu3Pr-SY2QKLArt2xjEPIZPkY6exqu8YP9Ut4HfNyYPWJSt-ebOKqzN-i_fCE6Q8zZcdAgx7E8J3-bKayfzQn538QNB0vEgboRXUmTihBP5rtKaT5Yjr_4UerEbB3D_rCSxe3cO8eQ\",cRq: {ru: 'aHR0cHM6Ly9yZXFiaW4uY29tL2VjaG8=',ra: 'Y3VybC83LjgxLjA=',rm: 'R0VU',d: '9ITQrvYWcTw9jAmk0vlHAAhwWVqo+45UDptS3fuhi9WtocTnExqzHX5hBMqI8JKrBzB25q8pOyJgKXmDz2/Sq83oij2eKgG9cvBtLfodmiKnzR1MkE1ny6s9paoJIY6I/6ZeicP6DVKxyNq/+DTOtTYG/WWkDXFrGxXjHpHjsWTrcxDSn4Xhvut3icH7tgWZsrybKwsCgmWgn8BKR/8ep615BLExKlq9+POAhdTOAbdXu7wQ3Hw5UE/ct4BZa8WswKB4VHloKKLgcahbqW9znsZyh+3+sxfHcHzEHQf3+muFNT8TpGH4iiBipjDtvGQw4usM5nn80ihjD2kE7zqBIOXaWYw2vGHDyPE6sk/y48MOqNeq/Joq6YbHSJSdLslb09ddgMCssuVPvwgUAUZniimNIvQPr3YZ/RNuzJdVvGpLGaoMA4tMt5ROTOJjaBpcV+bWB8ZpejBQU4j4P48886+b1iwUtpZKb+ZNAfAUu4k72KTfvwXH0b4KJm5hmfOErFLVtaAsJCcsETW/Ebl3wuPT3cYPsfSZCWFS2EYHTl0Giebx5eLu+HvCpNPBaB5b4TL09v0Mf11CJjigZu585/oTqd3qPmToL3Lgsg9T63qXYPfv3FcgV5NQ6LubarIT',t: 'MTcwODI2NzY0My44NDgwMDA=',cT: Math.floor(Date.now() / 1000),m: 'VmG5Lt9phrSQY3UmP8mfLO9C52TjEscQUO6hNY5YyNk=',i1: 'CXQowe0/hAkm4SKZRVy7BA==',i2: 'oI6dw/gLt4/wLyjf2/IKrg==',zh: 'LCW3AZH/FGYMtoptFGg2LyVk23ScKwRlpKwnq4Z30Ks=',uh: 'XtPohTwN9ruoNwJrCbocmA5soW1XPnkxU/yVFmBLOQo=',hh: 'vrpRu8Ley44OIG8+ikOYvBHgHkkGD06acbUIcsoF9q0=',}};var cpo = document.createElement('script');cpo.src = '/cdn-cgi/challenge-platform/h/b/orchestrate/chl_page/v1?ray=857710a609adbb83';window._cf_chl_opt.cOgUHash = location.hash === '' && location.href.indexOf('#') !== -1 ? '#' : location.hash;window._cf_chl_opt.cOgUQuery = location.search === '' && location.href.slice(0, location.href.length - window._cf_chl_opt.cOgUHash.length).indexOf('?') !== -1 ? '?' : location.search;if (window.history && window.history.replaceState) {var ogU = location.pathname + window._cf_chl_opt.cOgUQuery + window._cf_chl_opt.cOgUHash;history.replaceState(null, null, \"\\/echo?__cf_chl_rt_tk=SlwxiR6hUwETWEjcb02mDPJ0WW7zqPx97l9wJySIWfA-1708267643-0.0-3495\" + window._cf_chl_opt.cOgUHash);cpo.onload = function() {history.replaceState(null, null, ogU);}}document.getElementsByTagName('head')[0].appendChild(cpo);}());</script></body></html>"
     ]
    }
   ],
   "source": [
    "%%bash\n",
    "curl https://reqbin.com/echo"
   ]
  },
  {
   "cell_type": "code",
   "execution_count": null,
   "metadata": {},
   "outputs": [],
   "source": [
    "%%bash\n",
    "# don't run this\n",
    "curl -d \"param1=value1&param2=value2\" -X POST http://localhost:3000/data\n",
    "\n",
    "curl -d '{\"key1\":\"value1\", \"key2\":\"value2\"}' -H \"Content-Type: application/json\" -X POST http://localhost:3000/data"
   ]
  },
  {
   "cell_type": "code",
   "execution_count": 11,
   "metadata": {},
   "outputs": [],
   "source": [
    "%%bash\n",
    "# remove directory test2\n",
    "rmdir test2"
   ]
  },
  {
   "cell_type": "code",
   "execution_count": 12,
   "metadata": {},
   "outputs": [],
   "source": [
    "%%bash\n",
    "# cp directory test to test2\n",
    "cp -r test test2"
   ]
  },
  {
   "cell_type": "code",
   "execution_count": 13,
   "metadata": {},
   "outputs": [
    {
     "name": "stdout",
     "output_type": "stream",
     "text": [
      "  adding: test2/ (stored 0%)\n",
      "  adding: test2/test2.txt (deflated 52%)\n",
      "  adding: test2/script2.sh (deflated 32%)\n",
      "  adding: test2/hello.sh (stored 0%)\n",
      "  adding: test2/test3_copy.txt (deflated 13%)\n",
      "  adding: test2/iris.data (deflated 82%)\n",
      "  adding: test2/test1.txt (deflated 28%)\n",
      "  adding: test2/test3.txt (deflated 10%)\n",
      "  adding: test2/script1.sh (stored 0%)\n"
     ]
    }
   ],
   "source": [
    "%%bash\n",
    "# zip test2 directory\n",
    "zip -r test2.zip test2"
   ]
  },
  {
   "cell_type": "code",
   "execution_count": 15,
   "metadata": {},
   "outputs": [
    {
     "name": "stdout",
     "output_type": "stream",
     "text": [
      "Archive:  test2.zip\n",
      "   creating: test3/test2/\n",
      "  inflating: test3/test2/test2.txt   \n",
      "  inflating: test3/test2/script2.sh  \n",
      " extracting: test3/test2/hello.sh    \n",
      "  inflating: test3/test2/test3_copy.txt  \n",
      "  inflating: test3/test2/iris.data   \n",
      "  inflating: test3/test2/test1.txt   \n",
      "  inflating: test3/test2/test3.txt   \n",
      " extracting: test3/test2/script1.sh  \n"
     ]
    }
   ],
   "source": [
    "%%bash\n",
    "# unzip test2.zip\n",
    "unzip test2.zip -d test3"
   ]
  },
  {
   "cell_type": "code",
   "execution_count": null,
   "metadata": {},
   "outputs": [],
   "source": [
    "%%bash\n",
    "# remove directory test3\n",
    "rm -r test3\n",
    "rm test2.zip"
   ]
  },
  {
   "cell_type": "code",
   "execution_count": 24,
   "metadata": {},
   "outputs": [
    {
     "name": "stdout",
     "output_type": "stream",
     "text": [
      "test2/\n",
      "test2/test2.txt\n",
      "test2/script2.sh\n",
      "test2/hello.sh\n",
      "test2/test3_copy.txt\n",
      "test2/iris.data\n",
      "test2/test1.txt\n",
      "test2/test3.txt\n",
      "test2/script1.sh\n"
     ]
    }
   ],
   "source": [
    "%%bash\n",
    "tar -czvf ocf.tgz test2\t # make one compressed file with everything in myDirectory"
   ]
  },
  {
   "cell_type": "code",
   "execution_count": 36,
   "metadata": {},
   "outputs": [],
   "source": [
    "%%bash\n",
    "mkdir temp "
   ]
  },
  {
   "cell_type": "code",
   "execution_count": 37,
   "metadata": {},
   "outputs": [
    {
     "name": "stdout",
     "output_type": "stream",
     "text": [
      "test2/\n",
      "test2/test2.txt\n",
      "test2/script2.sh\n",
      "test2/hello.sh\n",
      "test2/test3_copy.txt\n",
      "test2/iris.data\n",
      "test2/test1.txt\n",
      "test2/test3.txt\n",
      "test2/script1.sh\n"
     ]
    }
   ],
   "source": [
    "%%bash\n",
    "# restore everything from the file ocf.tgz to test3 directory\n",
    "#tar -xzvf ocf.tgz -C test3\n",
    "tar xvpfz ocf.tgz -C /home/majid/work/bash/temp "
   ]
  },
  {
   "cell_type": "code",
   "execution_count": 38,
   "metadata": {},
   "outputs": [],
   "source": [
    "%%bash\n",
    "touch test/newfile.txt"
   ]
  },
  {
   "cell_type": "code",
   "execution_count": 39,
   "metadata": {},
   "outputs": [
    {
     "name": "stderr",
     "output_type": "stream",
     "text": [
      "Vim: Warning: Output is not to a terminal\n",
      "Vim: Warning: Input is not from a terminal\n"
     ]
    },
    {
     "name": "stdout",
     "output_type": "stream",
     "text": [
      "Error while terminating subprocess (pid=195406): \n"
     ]
    }
   ],
   "source": [
    "%%bash\n",
    "vi test/newfile.txt # don't run this command in jupyter notebook, omly in terminal\n"
   ]
  },
  {
   "cell_type": "code",
   "execution_count": 40,
   "metadata": {},
   "outputs": [
    {
     "name": "stdout",
     "output_type": "stream",
     "text": [
      "Error while terminating subprocess (pid=195430): \n"
     ]
    },
    {
     "name": "stderr",
     "output_type": "stream",
     "text": [
      "Too many errors from stdin\n"
     ]
    },
    {
     "name": "stdout",
     "output_type": "stream",
     "text": [
      "\u001b[?1l\u001b>\u001b[?2004lo\u001b[24;17H\u001b[7m^C\u001b[m Cancel\u001b[22;80H\u001b[24;1H\u001b[2J\u001b[?47l\u001b8B\u001b[7mFile ...e.txt is being edited by majid (with VIM 8.2, PID 195408); open anyway? \u001b[23;1H Y\u001b[m Yes"
     ]
    }
   ],
   "source": [
    "%%bash\n",
    "# edit file newfile.txt\n",
    "nano test/newfile.txt # don't run this command in jupyter notebook, omly in terminal"
   ]
  },
  {
   "cell_type": "code",
   "execution_count": 42,
   "metadata": {},
   "outputs": [
    {
     "name": "stdout",
     "output_type": "stream",
     "text": [
      " 195406 ?        00:00:00 bash\n",
      " 195458 ?        00:00:00 bash\n",
      " 195461 ?        00:00:00 bash\n"
     ]
    }
   ],
   "source": [
    "%%bash\n",
    "# list processes\n",
    "ps | grep bash"
   ]
  },
  {
   "cell_type": "code",
   "execution_count": 9,
   "metadata": {},
   "outputs": [
    {
     "name": "stdout",
     "output_type": "stream",
     "text": [
      "USER         PID %CPU %MEM    VSZ   RSS TTY      STAT START   TIME COMMAND\n",
      "root           1  0.0  0.1 166888 11720 ?        Ss   16:08   0:03 /sbin/init splash\n"
     ]
    }
   ],
   "source": [
    "%%bash \n",
    "#ps aux: List detailed process information\n",
    "ps aux | head -n 2"
   ]
  },
  {
   "cell_type": "code",
   "execution_count": 2,
   "metadata": {},
   "outputs": [
    {
     "name": "stdout",
     "output_type": "stream",
     "text": [
      "\u001b[?1l\u001b>\u001b[30m\u001b[42m    PID USER      PRI  NI  VIRT   RES   SHR S \u001b[30m\u001b[46mCPU%▽\u001b[30m\u001b[42mMEM%   TIME+  Command        \u001b[10;1H\u001b[30m\u001b[46m  10978 majid      20   0 12356  5376  3456 R 55.2  0.1  0:00.26 htop           \u001b[11;4H\u001b[m\u001b[m3220 majid\u001b[6C20   0 \u001b[32m5\u001b[36m092M  318M  139M \u001b[m\u001b[mS 13.8  4.1  3:18.66 /usr/bin/gnome-\u001b[12;4H8526 majid\u001b[6C20   0 \u001b[32m33\u001b[36m.4\u001b[32mG \u001b[36m 140M  100M \u001b[m\u001b[mS 13.8  1.8  2:50.33 /usr/share/code\u001b[13;4H8778 majid\u001b[6C20   0 \u001b[31m\u001b[1m1\u001b[m\u001b[32m139G \u001b[36m 400M 96\u001b[m\u001b[m348 S 13.8  5.1  8:35.13 /usr/share/code\u001b[14;7H1 \u001b[30m\u001b[1mroot      \u001b[m\u001b[m 20   0 \u001b[36m 162M 11\u001b[m\u001b[m720 \u001b[36m 8\u001b[m\u001b[m136 S  0.0  0.1  0:03.41 /sbin/init spla\u001b[15;5H224 \u001b[30m\u001b[1mroot      \u001b[m\u001b[m 19 \u001b[31m -1 \u001b[36m 307M  129M  128M \u001b[m\u001b[mS  0.0  1.7  0:02.53 /lib/systemd/sy\u001b[16;5H284 \u001b[30m\u001b[1mroot      \u001b[m\u001b[m 20   0 \u001b[36m28\u001b[m\u001b[m064 \u001b[36m 7\u001b[m\u001b[m936 \u001b[36m 4\u001b[m\u001b[m608 S  0.0  0.1  0:02.53 /lib/systemd/sy\u001b[17;5H675 \u001b[30m\u001b[1msystemd-o \u001b[m\u001b[m 20   0 \u001b[36m14\u001b[m\u001b[m836 \u001b[36m 6\u001b[m\u001b[m784 \u001b[36m 6\u001b[m\u001b[m016 S  0.0  0.1  0:13.50 /lib/systemd/sy\u001b[18;5H676 \u001b[30m\u001b[1msystemd-r \u001b[m\u001b[m 20   0 \u001b[36m25\u001b[m\u001b[m804 \u001b[36m13\u001b[m\u001b[m768 \u001b[36m 9\u001b[m\u001b[m344 S  0.0  0.2  0:01.41 /lib/systemd/sy\u001b[19;5H677 \u001b[30m\u001b[1msystemd-t \u001b[m\u001b[m 20   0 \u001b[36m89\u001b[m\u001b[m388 \u001b[36m 7\u001b[m\u001b[m296 \u001b[36m 6\u001b[m\u001b[m528 S  0.0  0.1  0:00.24 /lib/systemd/sy\u001b[20;5H679 \u001b[30m\u001b[1msystemd-t \u001b[m\u001b[m 20   0 \u001b[36m89\u001b[m\u001b[m388 \u001b[36m 7\u001b[m\u001b[m296 \u001b[36m 6\u001b[m\u001b[m528 S  0.0  0.1  0:00.00 \u001b[32m/lib/systemd/sy\u001b[21;5H\u001b[m\u001b[m682 \u001b[30m\u001b[1mroot      \u001b[m\u001b[m 20   0 \u001b[36m 234M  7\u001b[m\u001b[m504 \u001b[36m 6\u001b[m\u001b[m864 S  0.0  0.1  0:00.47 /usr/libexec/ac\u001b[22;5H683 \u001b[30m\u001b[1mroot      \u001b[m\u001b[m 20   0 \u001b[36m 2\u001b[m\u001b[m816 \u001b[36m 1\u001b[m\u001b[m792 \u001b[36m 1\u001b[m\u001b[m792 S  0.0  0.0  0:00.21 /usr/sbin/acpid\u001b[23;5H686 \u001b[30m\u001b[1mavahi     \u001b[m\u001b[m 20   0 \u001b[36m 7\u001b[m\u001b[m716 \u001b[36m 3\u001b[m\u001b[m712 \u001b[36m 3\u001b[m\u001b[m456 S  0.0  0.0  0:00.43 avahi-daemon: r\u001b[24;1HF1\u001b[30m\u001b[46mHelp  \u001b[m\u001b[mF2\u001b[30m\u001b[46mSetup \u001b[m\u001b[mF3\u001b[30m\u001b[46mSearch\u001b[m\u001b[mF4\u001b[30m\u001b[46mFilter\u001b[m\u001b[mF5\u001b[30m\u001b[46mTree  \u001b[m\u001b[mF6\u001b[30m\u001b[46mSortBy\u001b[m\u001b[mF7\u001b[30m\u001b[46mNice -\u001b[m\u001b[mF8\u001b[30m\u001b[46mNice +\u001b[m\u001b[mF9\u001b[30m\u001b[46mKill  \u001b[m\u001b[mF10\u001b[30m\u001b[46mQui\u001b[4ht\u001b[4l\u001b[H\u001b[m\u001b[m\u001b[23B\u001b[J\u001b[?1000l\u001b[24;1H\u001b[2J\u001b[?47l\u001b8"
     ]
    }
   ],
   "source": [
    "%%bash\n",
    "# top: Display dynamic process information\n",
    "# top \n",
    "htop "
   ]
  },
  {
   "cell_type": "code",
   "execution_count": 4,
   "metadata": {},
   "outputs": [],
   "source": [
    "%%bash\n",
    "# kill process\n",
    "python3 test/hello1.py &\n",
    "pid_hello=$!\n",
    "sleep 1\n",
    "kill $pid_hello"
   ]
  },
  {
   "cell_type": "markdown",
   "metadata": {},
   "source": [
    "## deal with  Date"
   ]
  },
  {
   "cell_type": "code",
   "execution_count": 46,
   "metadata": {},
   "outputs": [
    {
     "name": "stdout",
     "output_type": "stream",
     "text": [
      "So 18. Feb 15:42:10 CET 2024\n",
      "2024-02-18 15:42:10\n",
      "2024\n"
     ]
    }
   ],
   "source": [
    "%%bash\n",
    "# print complete date\n",
    "date \n",
    "# print date in a specific format\n",
    "date +\"%Y-%m-%d %H:%M:%S\"\n",
    "#print year\n",
    "date +\"%Y\""
   ]
  },
  {
   "cell_type": "code",
   "execution_count": 47,
   "metadata": {},
   "outputs": [
    {
     "name": "stdout",
     "output_type": "stream",
     "text": [
      "majid\n"
     ]
    }
   ],
   "source": [
    "%%bash\n",
    "# print user name\n",
    "whoami"
   ]
  },
  {
   "cell_type": "code",
   "execution_count": null,
   "metadata": {},
   "outputs": [],
   "source": [
    "%%bash\n",
    "# convert to root user\n",
    "sudo su # you should run this command in terminal and add password\n",
    "# sudo\trun a command with administrative privileges"
   ]
  },
  {
   "cell_type": "code",
   "execution_count": 49,
   "metadata": {},
   "outputs": [
    {
     "name": "stdout",
     "output_type": "stream",
     "text": [
      "Filesystem     1K-blocks     Used Available Use% Mounted on\n",
      "tmpfs             802000     2180    799820   1% /run\n",
      "/dev/sda2      479079112 23934548 430735172   6% /\n",
      "tmpfs            4009992   114432   3895560   3% /dev/shm\n",
      "tmpfs               5120        4      5116   1% /run/lock\n",
      "efivarfs             100       67        29  71% /sys/firmware/efi/efivars\n",
      "/dev/sda1         523244     6220    517024   2% /boot/efi\n",
      "tmpfs            4009992        0   4009992   0% /run/qemu\n",
      "tmpfs             801996     1640    800356   1% /run/user/1000\n"
     ]
    }
   ],
   "source": [
    "%%bash\n",
    "df"
   ]
  },
  {
   "cell_type": "code",
   "execution_count": 10,
   "metadata": {},
   "outputs": [
    {
     "name": "stdout",
     "output_type": "stream",
     "text": [
      "Filesystem      Size  Used Avail Use% Mounted on\n",
      "tmpfs           784M  2,2M  782M   1% /run\n",
      "/dev/sda2       457G   28G  407G   7% /\n",
      "tmpfs           3,9G   33M  3,8G   1% /dev/shm\n",
      "tmpfs           5,0M  4,0K  5,0M   1% /run/lock\n",
      "efivarfs        100K   89K  6,4K  94% /sys/firmware/efi/efivars\n",
      "tmpfs           3,9G     0  3,9G   0% /run/qemu\n",
      "/dev/sda1       511M  6,1M  505M   2% /boot/efi\n",
      "tmpfs           784M  1,7M  782M   1% /run/user/1000\n"
     ]
    }
   ],
   "source": [
    "%%bash\n",
    "#df -h: Display disk space usage in human-readable format.\n",
    "df -h"
   ]
  },
  {
   "cell_type": "code",
   "execution_count": 5,
   "metadata": {},
   "outputs": [
    {
     "name": "stdout",
     "output_type": "stream",
     "text": [
      "76\t./test\n",
      "228\t.\n"
     ]
    }
   ],
   "source": [
    "%%bash \n",
    "#du: Estimate file and directory space usage.\n",
    "du"
   ]
  },
  {
   "cell_type": "code",
   "execution_count": 11,
   "metadata": {},
   "outputs": [
    {
     "name": "stdout",
     "output_type": "stream",
     "text": [
      "80K\t./test\n",
      "340K\t.\n"
     ]
    }
   ],
   "source": [
    "%%bash \n",
    "#du -h: Display disk usage in a more readable format.\n",
    "du -h"
   ]
  },
  {
   "cell_type": "code",
   "execution_count": 50,
   "metadata": {},
   "outputs": [],
   "source": [
    "%%bash\n",
    "history "
   ]
  },
  {
   "cell_type": "code",
   "execution_count": null,
   "metadata": {},
   "outputs": [],
   "source": [
    "%%bash \n",
    "# data stream \n",
    "# this command will direct the standard error to /dev/null\n",
    "find /etc -type f 2 > /dev/null\n"
   ]
  },
  {
   "cell_type": "code",
   "execution_count": null,
   "metadata": {},
   "outputs": [],
   "source": [
    "%%bash \n",
    "# will direct the standard output to /dev/null\n",
    "find /etc -type f  > /dev/null"
   ]
  },
  {
   "cell_type": "code",
   "execution_count": null,
   "metadata": {},
   "outputs": [],
   "source": [
    "%%bash\n",
    "# will direct the standard output and standard error to /dev/null\n",
    "find /etc -type f &> /dev/null"
   ]
  },
  {
   "cell_type": "code",
   "execution_count": null,
   "metadata": {},
   "outputs": [],
   "source": [
    "%%bash\n",
    "# will direct the standard output to standard.txt and error to error.txt\n",
    "find /etc -type f 1> standard.txt 2> error.txt"
   ]
  }
 ],
 "metadata": {
  "kernelspec": {
   "display_name": "Python 3",
   "language": "python",
   "name": "python3"
  },
  "language_info": {
   "codemirror_mode": {
    "name": "ipython",
    "version": 3
   },
   "file_extension": ".py",
   "mimetype": "text/x-python",
   "name": "python",
   "nbconvert_exporter": "python",
   "pygments_lexer": "ipython3",
   "version": "3.10.12"
  }
 },
 "nbformat": 4,
 "nbformat_minor": 2
}
