{
 "cells": [
  {
   "cell_type": "code",
   "execution_count": null,
   "metadata": {},
   "outputs": [],
   "source": [
    "%%bash\n",
    "# git init Tech_stack\n",
    "# cd Tech_stack\n",
    "# touch instruction.ipynb"
   ]
  },
  {
   "cell_type": "code",
   "execution_count": 1,
   "metadata": {},
   "outputs": [],
   "source": [
    "%%bash\n",
    "git config --global user.email \"abdbakroo@gmail.com\"\n",
    "git config --global user.name \"Abdulmajid Bakro\""
   ]
  },
  {
   "cell_type": "code",
   "execution_count": 2,
   "metadata": {},
   "outputs": [
    {
     "name": "stdout",
     "output_type": "stream",
     "text": [
      "On branch main\n",
      "Your branch is up to date with 'origin/main'.\n",
      "\n",
      "Untracked files:\n",
      "  (use \"git add <file>...\" to include in what will be committed)\n",
      "\tBasics.ipynb\n",
      "\tBranches_and_rewriting_History.ipynb\n",
      "\tRemote_repo.ipynb\n",
      "\tanalyse_data.py\n",
      "\textract_data.py\n",
      "\tremove_duplicate.py\n",
      "\n",
      "nothing added to commit but untracked files present (use \"git add\" to track)\n"
     ]
    }
   ],
   "source": [
    "%%bash \n",
    "git status"
   ]
  },
  {
   "cell_type": "code",
   "execution_count": 3,
   "metadata": {},
   "outputs": [],
   "source": [
    "%%bash \n",
    "echo \"#this is remove duplicate from database\" >> remove_duplicate.py"
   ]
  },
  {
   "cell_type": "code",
   "execution_count": 4,
   "metadata": {},
   "outputs": [],
   "source": [
    "%%bash\n",
    "git add remove_duplicate.py"
   ]
  },
  {
   "cell_type": "code",
   "execution_count": 5,
   "metadata": {},
   "outputs": [
    {
     "name": "stdout",
     "output_type": "stream",
     "text": [
      "On branch main\n",
      "Your branch is up to date with 'origin/main'.\n",
      "\n",
      "Changes to be committed:\n",
      "  (use \"git restore --staged <file>...\" to unstage)\n",
      "\tnew file:   remove_duplicate.py\n",
      "\n",
      "Untracked files:\n",
      "  (use \"git add <file>...\" to include in what will be committed)\n",
      "\tBasics.ipynb\n",
      "\tBranches_and_rewriting_History.ipynb\n",
      "\tRemote_repo.ipynb\n",
      "\tanalyse_data.py\n",
      "\textract_data.py\n",
      "\n"
     ]
    }
   ],
   "source": [
    "%%bash\n",
    "git status"
   ]
  },
  {
   "cell_type": "code",
   "execution_count": 6,
   "metadata": {},
   "outputs": [
    {
     "name": "stdout",
     "output_type": "stream",
     "text": [
      "[main 60704a9]  JIRA HS-5309 remove duplicate from database\n",
      " 1 file changed, 1 insertion(+)\n",
      " create mode 100644 git/remove_duplicate.py\n"
     ]
    }
   ],
   "source": [
    "%%bash \n",
    "git commit -m \" JIRA HS-5309 remove duplicate from database\""
   ]
  },
  {
   "cell_type": "code",
   "execution_count": 7,
   "metadata": {},
   "outputs": [
    {
     "name": "stdout",
     "output_type": "stream",
     "text": [
      "commit 60704a90f98aed60633ef931aab35c3ba90c1ef0\n",
      "Author: Abdulmajid Bakro <abdbakroo@gmail.com>\n",
      "Date:   Wed Mar 20 21:08:36 2024 +0100\n",
      "\n",
      "     JIRA HS-5309 remove duplicate from database\n",
      "\n",
      "commit 15566fdefeb94106e1565fbbdedd354b25e910e1\n",
      "Author: Abdulmajid Bakro <87785202+Jud96@users.noreply.github.com>\n",
      "Date:   Wed Mar 20 17:21:10 2024 +0100\n",
      "\n",
      "    Update README.md on github editor\n",
      "\n",
      "commit 6931d6aedd4696723e34a36cf2a57135f7f33f26\n",
      "Author: Abdulmajid Bakro <abdbakroo@gmail.com>\n",
      "Date:   Wed Mar 20 17:15:06 2024 +0100\n",
      "\n",
      "    add README.md git theory and cheat sheet\n"
     ]
    }
   ],
   "source": [
    "%%bash\n",
    "git log"
   ]
  },
  {
   "cell_type": "code",
   "execution_count": 9,
   "metadata": {},
   "outputs": [
    {
     "name": "stderr",
     "output_type": "stream",
     "text": [
      "Cloning into 'python'...\n"
     ]
    }
   ],
   "source": [
    "%%bash\n",
    "git clone https://github.com/Jud96/python.git"
   ]
  },
  {
   "cell_type": "code",
   "execution_count": 10,
   "metadata": {},
   "outputs": [],
   "source": [
    "%%bash\n",
    "rm -rf python"
   ]
  },
  {
   "cell_type": "code",
   "execution_count": 8,
   "metadata": {},
   "outputs": [],
   "source": [
    "%%bash\n",
    "echo \"#this is optimization of remove duplicate from database\" >> remove_duplicate.py"
   ]
  },
  {
   "cell_type": "code",
   "execution_count": 9,
   "metadata": {},
   "outputs": [
    {
     "name": "stdout",
     "output_type": "stream",
     "text": [
      "diff --git a/git/remove_duplicate.py b/git/remove_duplicate.py\n",
      "index 19cc0b3..5a83697 100644\n",
      "--- a/git/remove_duplicate.py\n",
      "+++ b/git/remove_duplicate.py\n",
      "@@ -1 +1,2 @@\n",
      " #this is remove duplicate from database\n",
      "+#this is optimization of remove duplicate from database\n"
     ]
    }
   ],
   "source": [
    "%%bash \n",
    "git diff remove_duplicate.py"
   ]
  },
  {
   "cell_type": "code",
   "execution_count": 10,
   "metadata": {},
   "outputs": [],
   "source": [
    "%%bash \n",
    "echo \"#this file is to extract data from database\" > extract_data.py"
   ]
  },
  {
   "cell_type": "code",
   "execution_count": 11,
   "metadata": {},
   "outputs": [
    {
     "name": "stdout",
     "output_type": "stream",
     "text": [
      "[main ad74a33] JIRA HS-5308 extract data from database\n",
      " 1 file changed, 1 insertion(+)\n",
      " create mode 100644 git/extract_data.py\n"
     ]
    }
   ],
   "source": [
    "%%bash\n",
    "git add extract_data.py\n",
    "git commit -m \"JIRA HS-5308 extract data from database\""
   ]
  },
  {
   "cell_type": "code",
   "execution_count": 12,
   "metadata": {},
   "outputs": [
    {
     "name": "stdout",
     "output_type": "stream",
     "text": [
      "ad74a33 JIRA HS-5308 extract data from database\n",
      "60704a9  JIRA HS-5309 remove duplicate from database\n",
      "15566fd Update README.md on github editor\n",
      "6931d6a add README.md git theory and cheat sheet\n"
     ]
    }
   ],
   "source": [
    "%%bash \n",
    "git log --oneline"
   ]
  },
  {
   "cell_type": "markdown",
   "metadata": {},
   "source": [
    "## undoing changes "
   ]
  },
  {
   "cell_type": "code",
   "execution_count": 13,
   "metadata": {},
   "outputs": [
    {
     "name": "stdout",
     "output_type": "stream",
     "text": [
      "[main b185641] Revert \"JIRA HS-5308 extract data from database\"\n",
      " Date: Wed Mar 20 21:11:32 2024 +0100\n",
      " 1 file changed, 1 deletion(-)\n",
      " delete mode 100644 git/extract_data.py\n"
     ]
    }
   ],
   "source": [
    "%%bash \n",
    "# undoing changes\n",
    "git revert ad74a33"
   ]
  },
  {
   "cell_type": "code",
   "execution_count": 14,
   "metadata": {},
   "outputs": [
    {
     "name": "stdout",
     "output_type": "stream",
     "text": [
      "b185641 Revert \"JIRA HS-5308 extract data from database\"\n",
      "ad74a33 JIRA HS-5308 extract data from database\n",
      "60704a9  JIRA HS-5309 remove duplicate from database\n",
      "15566fd Update README.md on github editor\n",
      "6931d6a add README.md git theory and cheat sheet\n"
     ]
    }
   ],
   "source": [
    "%%bash \n",
    "git log --oneline"
   ]
  },
  {
   "cell_type": "code",
   "execution_count": 15,
   "metadata": {},
   "outputs": [
    {
     "name": "stdout",
     "output_type": "stream",
     "text": [
      "HEAD is now at ad74a33 JIRA HS-5308 extract data from database\n"
     ]
    }
   ],
   "source": [
    "%%bash \n",
    "# move to previous commit move head\n",
    "git reset --hard HEAD^"
   ]
  },
  {
   "cell_type": "code",
   "execution_count": 16,
   "metadata": {},
   "outputs": [
    {
     "name": "stdout",
     "output_type": "stream",
     "text": [
      "ad74a33 JIRA HS-5308 extract data from database\n",
      "60704a9  JIRA HS-5309 remove duplicate from database\n",
      "15566fd Update README.md on github editor\n",
      "6931d6a add README.md git theory and cheat sheet\n"
     ]
    }
   ],
   "source": [
    "%%bash\n",
    "git log --oneline"
   ]
  },
  {
   "cell_type": "code",
   "execution_count": 17,
   "metadata": {},
   "outputs": [
    {
     "name": "stdout",
     "output_type": "stream",
     "text": [
      "Would remove Basics.ipynb\n",
      "Would remove Branches_and_rewriting_History.ipynb\n",
      "Would remove Remote_repo.ipynb\n",
      "Would remove analyse_data.py\n"
     ]
    }
   ],
   "source": [
    "%%bash \n",
    "git clean --dry-run"
   ]
  },
  {
   "cell_type": "code",
   "execution_count": 18,
   "metadata": {},
   "outputs": [
    {
     "name": "stderr",
     "output_type": "stream",
     "text": [
      "fatal: pathspec 'basics.ipynb' did not match any files\n"
     ]
    },
    {
     "name": "stdout",
     "output_type": "stream",
     "text": [
      "On branch main\n",
      "Your branch is ahead of 'origin/main' by 2 commits.\n",
      "  (use \"git push\" to publish your local commits)\n",
      "\n",
      "Untracked files:\n",
      "  (use \"git add <file>...\" to include in what will be committed)\n",
      "\tBasics.ipynb\n",
      "\tBranches_and_rewriting_History.ipynb\n",
      "\tRemote_repo.ipynb\n",
      "\tanalyse_data.py\n",
      "\tstashing.ipynb\n",
      "\n",
      "nothing added to commit but untracked files present (use \"git add\" to track)\n"
     ]
    },
    {
     "name": "stderr",
     "output_type": "stream",
     "text": [
      "To github.com:Jud96/Tech_stack.git\n",
      "   15566fd..ad74a33  main -> main\n"
     ]
    }
   ],
   "source": [
    "%%bash \n",
    "git add Basics.ipynb\n",
    "git commit -m \" add Basics.ipynb\"\n",
    "git push origin main"
   ]
  },
  {
   "cell_type": "code",
   "execution_count": null,
   "metadata": {},
   "outputs": [],
   "source": []
  }
 ],
 "metadata": {
  "kernelspec": {
   "display_name": "Python 3",
   "language": "python",
   "name": "python3"
  },
  "language_info": {
   "codemirror_mode": {
    "name": "ipython",
    "version": 3
   },
   "file_extension": ".py",
   "mimetype": "text/x-python",
   "name": "python",
   "nbconvert_exporter": "python",
   "pygments_lexer": "ipython3",
   "version": "3.10.12"
  }
 },
 "nbformat": 4,
 "nbformat_minor": 2
}
