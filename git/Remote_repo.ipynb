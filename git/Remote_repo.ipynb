{
 "cells": [
  {
   "cell_type": "code",
   "execution_count": 1,
   "metadata": {},
   "outputs": [
    {
     "name": "stdout",
     "output_type": "stream",
     "text": [
      "Generating public/private rsa key pair.\n"
     ]
    },
    {
     "name": "stderr",
     "output_type": "stream",
     "text": [
      "ssh_askpass: exec(/usr/bin/ssh-askpass): No such file or directory\n",
      "ssh_askpass: exec(/usr/bin/ssh-askpass): No such file or directory\n"
     ]
    },
    {
     "name": "stdout",
     "output_type": "stream",
     "text": [
      "Enter file in which to save the key (/home/majid/.ssh/id_rsa): Your identification has been saved in  \n",
      "Your public key has been saved in  .pub\n",
      "The key fingerprint is:\n",
      "SHA256:j2g9MlCs7MV6tZ9gIvc3qmzTaqWSB3e35LXxtmP54r8 abdbakroo@gmail.com\n",
      "The key's randomart image is:\n",
      "+---[RSA 4096]----+\n",
      "|                 |\n",
      "|     .           |\n",
      "|      o          |\n",
      "|   . +           |\n",
      "|    + o S        |\n",
      "|   ..+.+o+o o    |\n",
      "|    ++O=B+.o + . |\n",
      "|    o***.+=.. B  |\n",
      "|     =++ooo. +oE+|\n",
      "+----[SHA256]-----+\n"
     ]
    }
   ],
   "source": [
    "%%bash \n",
    "# add ssh key to github account\n",
    "cd ~/.ssh\n",
    "ssh-keygen -t rsa -b 4096 -C \"xxxx@gmail.com\""
   ]
  },
  {
   "cell_type": "markdown",
   "metadata": {},
   "source": [
    "* go to github \n",
    "* go to navigation menu\n",
    "* select settings \n",
    "* select SSH and GPG keys \n",
    "* select new SSH key \n",
    "* copy the public key and paste it in the secrets of the repository"
   ]
  },
  {
   "cell_type": "code",
   "execution_count": 1,
   "metadata": {},
   "outputs": [
    {
     "name": "stdout",
     "output_type": "stream",
     "text": [
      "[master (root-commit) 6931d6a] add README.md git theory and cheat sheet\n",
      " 1 file changed, 116 insertions(+)\n",
      " create mode 100644 git/README.md\n"
     ]
    },
    {
     "name": "stderr",
     "output_type": "stream",
     "text": [
      "To github.com:Jud96/Tech_stack.git\n",
      " * [new branch]      main -> main\n"
     ]
    },
    {
     "name": "stdout",
     "output_type": "stream",
     "text": [
      "Branch 'main' set up to track remote branch 'main' from 'origin'.\n"
     ]
    }
   ],
   "source": [
    "%%bash \n",
    "git add README.md\n",
    "git commit -m \"add README.md git theory and cheat sheet\"\n",
    "git branch -M main\n",
    "git remote add origin git@github.com:Jud96/Tech_stack.git\n",
    "git push -u origin main"
   ]
  },
  {
   "cell_type": "code",
   "execution_count": 2,
   "metadata": {},
   "outputs": [
    {
     "name": "stderr",
     "output_type": "stream",
     "text": [
      "From github.com:Jud96/Tech_stack\n",
      "   6931d6a..15566fd  main       -> origin/main\n"
     ]
    },
    {
     "name": "stdout",
     "output_type": "stream",
     "text": [
      "Updating 6931d6a..15566fd\n",
      "Fast-forward\n",
      " git/README.md | 47 ++++++++++++++++-------------------------------\n",
      " 1 file changed, 16 insertions(+), 31 deletions(-)\n"
     ]
    }
   ],
   "source": [
    "%%bash \n",
    "# edit the README.md file in the browser\n",
    "git pull"
   ]
  },
  {
   "cell_type": "code",
   "execution_count": null,
   "metadata": {},
   "outputs": [],
   "source": []
  }
 ],
 "metadata": {
  "kernelspec": {
   "display_name": "Python 3",
   "language": "python",
   "name": "python3"
  },
  "language_info": {
   "codemirror_mode": {
    "name": "ipython",
    "version": 3
   },
   "file_extension": ".py",
   "mimetype": "text/x-python",
   "name": "python",
   "nbconvert_exporter": "python",
   "pygments_lexer": "ipython3",
   "version": "3.10.12"
  }
 },
 "nbformat": 4,
 "nbformat_minor": 2
}
