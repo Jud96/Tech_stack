{
 "cells": [
  {
   "cell_type": "code",
   "execution_count": 1,
   "metadata": {},
   "outputs": [
    {
     "name": "stdout",
     "output_type": "stream",
     "text": [
      "1863d54  add Remote_repo.ipynb\n",
      "66b49b8  add Basics.ipynb\n",
      "ad74a33 JIRA HS-5308 extract data from database\n",
      "60704a9  JIRA HS-5309 remove duplicate from database\n",
      "15566fd Update README.md on github editor\n",
      "6931d6a add README.md git theory and cheat sheet\n"
     ]
    }
   ],
   "source": [
    "%%bash \n",
    "git log --oneline"
   ]
  },
  {
   "cell_type": "code",
   "execution_count": 3,
   "metadata": {},
   "outputs": [
    {
     "name": "stdout",
     "output_type": "stream",
     "text": [
      "[main 141f950] implement extract_data.py\n",
      " 1 file changed, 1 insertion(+)\n"
     ]
    }
   ],
   "source": [
    "%%bash \n",
    "echo \"#implement extract_data.py\" >> extract_data.py\n",
    "git add extract_data.py\n",
    "git commit -m \"implement extract_data.py\""
   ]
  },
  {
   "cell_type": "code",
   "execution_count": 4,
   "metadata": {},
   "outputs": [
    {
     "name": "stdout",
     "output_type": "stream",
     "text": [
      "141f950 implement extract_data.py\n",
      "1863d54  add Remote_repo.ipynb\n",
      "66b49b8  add Basics.ipynb\n",
      "ad74a33 JIRA HS-5308 extract data from database\n",
      "60704a9  JIRA HS-5309 remove duplicate from database\n",
      "15566fd Update README.md on github editor\n",
      "6931d6a add README.md git theory and cheat sheet\n"
     ]
    }
   ],
   "source": [
    "%%bash \n",
    "git log --oneline"
   ]
  },
  {
   "cell_type": "code",
   "execution_count": 5,
   "metadata": {},
   "outputs": [
    {
     "name": "stdout",
     "output_type": "stream",
     "text": [
      "[main 3e869d8] JIRA HS_503 Optimize extract_data.py\n",
      " Date: Wed Mar 20 21:36:31 2024 +0100\n",
      " 1 file changed, 2 insertions(+)\n"
     ]
    }
   ],
   "source": [
    "%%bash \n",
    "# don't want to make new commit, so we'll amend the previous commit\n",
    "echo \"#optimize extract_data.py\" >> extract_data.py\n",
    "git add extract_data.py\n",
    "git commit --amend -m \"JIRA HS_503 Optimize extract_data.py\""
   ]
  },
  {
   "cell_type": "code",
   "execution_count": 7,
   "metadata": {},
   "outputs": [
    {
     "name": "stdout",
     "output_type": "stream",
     "text": [
      "* 3e869d8 (HEAD -> main) JIRA HS_503 Optimize extract_data.py\n",
      "* 1863d54 (origin/main)  add Remote_repo.ipynb\n",
      "* 66b49b8  add Basics.ipynb\n",
      "* ad74a33 JIRA HS-5308 extract data from database\n",
      "* 60704a9  JIRA HS-5309 remove duplicate from database\n",
      "* 15566fd Update README.md on github editor\n",
      "* 6931d6a add README.md git theory and cheat sheet\n"
     ]
    }
   ],
   "source": [
    "%%bash\n",
    "git log --oneline --graph --decorate"
   ]
  },
  {
   "cell_type": "code",
   "execution_count": 8,
   "metadata": {},
   "outputs": [],
   "source": [
    "%%bash \n",
    "git config --global alias.lg \"log --oneline --graph --decorate\""
   ]
  },
  {
   "cell_type": "code",
   "execution_count": 9,
   "metadata": {},
   "outputs": [
    {
     "name": "stdout",
     "output_type": "stream",
     "text": [
      "* 3e869d8 (HEAD -> main) JIRA HS_503 Optimize extract_data.py\n",
      "* 1863d54 (origin/main)  add Remote_repo.ipynb\n",
      "* 66b49b8  add Basics.ipynb\n",
      "* ad74a33 JIRA HS-5308 extract data from database\n",
      "* 60704a9  JIRA HS-5309 remove duplicate from database\n",
      "* 15566fd Update README.md on github editor\n",
      "* 6931d6a add README.md git theory and cheat sheet\n"
     ]
    }
   ],
   "source": [
    "%%bash \n",
    "git lg"
   ]
  },
  {
   "cell_type": "markdown",
   "metadata": {},
   "source": [
    "## Branches"
   ]
  },
  {
   "cell_type": "code",
   "execution_count": 10,
   "metadata": {},
   "outputs": [],
   "source": [
    "%%bash \n",
    "git branch feature/HS-506"
   ]
  },
  {
   "cell_type": "code",
   "execution_count": 11,
   "metadata": {},
   "outputs": [
    {
     "name": "stdout",
     "output_type": "stream",
     "text": [
      "  feature/HS-506\n",
      "* main\n"
     ]
    }
   ],
   "source": [
    "%%bash \n",
    "git branch "
   ]
  },
  {
   "cell_type": "code",
   "execution_count": 13,
   "metadata": {},
   "outputs": [
    {
     "name": "stderr",
     "output_type": "stream",
     "text": [
      "Switched to branch 'feature/HS-506'\n"
     ]
    },
    {
     "name": "stdout",
     "output_type": "stream",
     "text": [
      "M\tgit/Basics.ipynb\n",
      "M\tgit/extract_data.py\n"
     ]
    }
   ],
   "source": [
    "%%bash\n",
    "git checkout feature/HS-506"
   ]
  },
  {
   "cell_type": "code",
   "execution_count": 15,
   "metadata": {},
   "outputs": [],
   "source": [
    "%%bash \n",
    "echo \"#Analyse data\" >> analyse_data.py"
   ]
  },
  {
   "cell_type": "code",
   "execution_count": 16,
   "metadata": {},
   "outputs": [
    {
     "name": "stdout",
     "output_type": "stream",
     "text": [
      "[feature/HS-506 7b740e2] JIRA HS_506 Add analyse_data.py\n",
      " 1 file changed, 1 insertion(+)\n",
      " create mode 100644 git/analyse_data.py\n"
     ]
    },
    {
     "name": "stdout",
     "output_type": "stream",
     "text": [
      "[feature/HS-506 05a06cb] JIRA HS_506 Optimize analyse_data.py\n",
      " 3 files changed, 33 insertions(+), 22 deletions(-)\n"
     ]
    }
   ],
   "source": [
    "%%bash \n",
    "git add analyse_data.py\n",
    "git commit -m \"JIRA HS_506 Add analyse_data.py\"\n",
    "echo \"Optimize analyse_data.py\" >> analyse_data.py\n",
    "git commit -am \"JIRA HS_506 Optimize analyse_data.py\""
   ]
  },
  {
   "cell_type": "code",
   "execution_count": 18,
   "metadata": {},
   "outputs": [
    {
     "name": "stdout",
     "output_type": "stream",
     "text": [
      "05a06cb JIRA HS_506 Optimize analyse_data.py\n",
      "7b740e2 JIRA HS_506 Add analyse_data.py\n",
      "3e869d8 JIRA HS_503 Optimize extract_data.py\n",
      "1863d54  add Remote_repo.ipynb\n",
      "66b49b8  add Basics.ipynb\n",
      "ad74a33 JIRA HS-5308 extract data from database\n",
      "60704a9  JIRA HS-5309 remove duplicate from database\n",
      "15566fd Update README.md on github editor\n",
      "6931d6a add README.md git theory and cheat sheet\n"
     ]
    }
   ],
   "source": [
    "%%bash \n",
    "git log --oneline "
   ]
  },
  {
   "cell_type": "code",
   "execution_count": 20,
   "metadata": {},
   "outputs": [
    {
     "name": "stderr",
     "output_type": "stream",
     "text": [
      "Switched to branch 'main'\n"
     ]
    },
    {
     "name": "stdout",
     "output_type": "stream",
     "text": [
      "Your branch is ahead of 'origin/main' by 1 commit.\n",
      "  (use \"git push\" to publish your local commits)\n"
     ]
    }
   ],
   "source": [
    "%%bash \n",
    "git checkout main"
   ]
  },
  {
   "cell_type": "code",
   "execution_count": 21,
   "metadata": {},
   "outputs": [
    {
     "name": "stderr",
     "output_type": "stream",
     "text": [
      "\u001b[KSuccessfully rebased and updated refs/heads/main.\n"
     ]
    }
   ],
   "source": [
    "%%bash \n",
    "git rebase feature/HS-506"
   ]
  },
  {
   "cell_type": "code",
   "execution_count": 19,
   "metadata": {},
   "outputs": [
    {
     "name": "stdout",
     "output_type": "stream",
     "text": [
      "ff81507 JIRA HS_506 Optimize analyse_data.py\n",
      "00424d2 JIRA HS_506 Add analyse_data.py\n",
      "a56c837 JIRA HS_503 Optimize extract_data.py\n",
      "a03c598 JIRA HS-5308 documentation of git processes\n",
      "edf1ec2  JIRA HS-5309 remove duplicate from database\n"
     ]
    }
   ],
   "source": [
    "%%bash \n",
    "git log --oneline"
   ]
  },
  {
   "cell_type": "code",
   "execution_count": 22,
   "metadata": {},
   "outputs": [],
   "source": [
    "%%bash \n",
    "git branch fixbug/HS-507"
   ]
  },
  {
   "cell_type": "code",
   "execution_count": 23,
   "metadata": {},
   "outputs": [
    {
     "name": "stdout",
     "output_type": "stream",
     "text": [
      "Deleted branch fixbug/HS-507 (was 05a06cb).\n"
     ]
    }
   ],
   "source": [
    "%%bash\n",
    "git branch -d fixbug/HS-507"
   ]
  },
  {
   "cell_type": "code",
   "execution_count": 24,
   "metadata": {},
   "outputs": [
    {
     "name": "stderr",
     "output_type": "stream",
     "text": [
      "Switched to a new branch 'fixbug/HS-507'\n"
     ]
    }
   ],
   "source": [
    "%%bash \n",
    "git checkout -b fixbug/HS-507"
   ]
  },
  {
   "cell_type": "code",
   "execution_count": 25,
   "metadata": {},
   "outputs": [],
   "source": [
    "%%bash \n",
    "echo \"#Fix bug in extract_data.py\" >> extract_data.py"
   ]
  },
  {
   "cell_type": "code",
   "execution_count": 26,
   "metadata": {},
   "outputs": [
    {
     "name": "stdout",
     "output_type": "stream",
     "text": [
      "[fixbug/HS-507 2c2e1b1] JIRA HS_507 Fix bug in extract_data.py\n",
      " 1 file changed, 1 insertion(+)\n"
     ]
    }
   ],
   "source": [
    "%%bash \n",
    "git add extract_data.py\n",
    "git commit -m \"JIRA HS_507 Fix bug in extract_data.py\""
   ]
  },
  {
   "cell_type": "code",
   "execution_count": 27,
   "metadata": {},
   "outputs": [
    {
     "name": "stdout",
     "output_type": "stream",
     "text": [
      "[fixbug/HS-507 b4ad2dc] JIRA HS_507 Fix bug to use different lib\n",
      " 1 file changed, 1 insertion(+)\n"
     ]
    }
   ],
   "source": [
    "%%bash\n",
    "# you have PR but you need to use different lib\n",
    "echo \"#Fix bug to use different lib\" >> extract_data.py\n",
    "git add extract_data.py\n",
    "git commit -m \"JIRA HS_507 Fix bug to use different lib\""
   ]
  },
  {
   "cell_type": "code",
   "execution_count": 29,
   "metadata": {},
   "outputs": [
    {
     "name": "stderr",
     "output_type": "stream",
     "text": [
      "Switched to branch 'main'\n"
     ]
    },
    {
     "name": "stdout",
     "output_type": "stream",
     "text": [
      "Your branch is ahead of 'origin/main' by 3 commits.\n",
      "  (use \"git push\" to publish your local commits)\n"
     ]
    }
   ],
   "source": [
    "%%bash \n",
    "git checkout main"
   ]
  },
  {
   "cell_type": "code",
   "execution_count": 30,
   "metadata": {},
   "outputs": [
    {
     "name": "stdout",
     "output_type": "stream",
     "text": [
      "Updating 05a06cb..b4ad2dc\n",
      "Fast-forward\n",
      " git/extract_data.py | 2 ++\n",
      " 1 file changed, 2 insertions(+)\n"
     ]
    }
   ],
   "source": [
    "%%bash \n",
    "git merge fixbug/HS-507"
   ]
  },
  {
   "cell_type": "code",
   "execution_count": 31,
   "metadata": {},
   "outputs": [
    {
     "name": "stdout",
     "output_type": "stream",
     "text": [
      "b4ad2dc JIRA HS_507 Fix bug to use different lib\n",
      "2c2e1b1 JIRA HS_507 Fix bug in extract_data.py\n",
      "05a06cb JIRA HS_506 Optimize analyse_data.py\n",
      "7b740e2 JIRA HS_506 Add analyse_data.py\n",
      "3e869d8 JIRA HS_503 Optimize extract_data.py\n",
      "1863d54  add Remote_repo.ipynb\n",
      "66b49b8  add Basics.ipynb\n",
      "ad74a33 JIRA HS-5308 extract data from database\n",
      "60704a9  JIRA HS-5309 remove duplicate from database\n",
      "15566fd Update README.md on github editor\n",
      "6931d6a add README.md git theory and cheat sheet\n"
     ]
    }
   ],
   "source": [
    "%%bash \n",
    "git log --oneline"
   ]
  },
  {
   "cell_type": "code",
   "execution_count": 32,
   "metadata": {},
   "outputs": [
    {
     "name": "stdout",
     "output_type": "stream",
     "text": [
      "b4ad2dc HEAD@{0}: merge fixbug/HS-507: Fast-forward\n",
      "05a06cb HEAD@{1}: checkout: moving from fixbug/HS-507 to main\n",
      "b4ad2dc HEAD@{2}: commit: JIRA HS_507 Fix bug to use different lib\n",
      "2c2e1b1 HEAD@{3}: commit: JIRA HS_507 Fix bug in extract_data.py\n",
      "05a06cb HEAD@{4}: checkout: moving from main to fixbug/HS-507\n",
      "05a06cb HEAD@{5}: rebase (finish): returning to refs/heads/main\n",
      "05a06cb HEAD@{6}: rebase (start): checkout feature/HS-506\n",
      "3e869d8 HEAD@{7}: checkout: moving from feature/HS-506 to main\n",
      "05a06cb HEAD@{8}: commit: JIRA HS_506 Optimize analyse_data.py\n",
      "7b740e2 HEAD@{9}: commit: JIRA HS_506 Add analyse_data.py\n",
      "3e869d8 HEAD@{10}: checkout: moving from main to feature/HS-506\n",
      "3e869d8 HEAD@{11}: checkout: moving from feature/HS-506 to main\n",
      "3e869d8 HEAD@{12}: checkout: moving from main to feature/HS-506\n",
      "3e869d8 HEAD@{13}: commit (amend): JIRA HS_503 Optimize extract_data.py\n",
      "141f950 HEAD@{14}: commit: implement extract_data.py\n",
      "1863d54 HEAD@{15}: commit: add Remote_repo.ipynb\n",
      "66b49b8 HEAD@{16}: commit: add Basics.ipynb\n",
      "ad74a33 HEAD@{17}: reset: moving to HEAD^\n",
      "b185641 HEAD@{18}: revert: Revert \"JIRA HS-5308 extract data from database\"\n",
      "ad74a33 HEAD@{19}: commit: JIRA HS-5308 extract data from database\n",
      "60704a9 HEAD@{20}: commit: JIRA HS-5309 remove duplicate from database\n",
      "15566fd HEAD@{21}: pull: Fast-forward\n",
      "6931d6a HEAD@{22}: Branch: renamed refs/heads/master to refs/heads/main\n",
      "6931d6a HEAD@{24}: commit (initial): add README.md git theory and cheat sheet\n"
     ]
    }
   ],
   "source": [
    "%%bash\n",
    "git reflog"
   ]
  }
 ],
 "metadata": {
  "kernelspec": {
   "display_name": "Python 3",
   "language": "python",
   "name": "python3"
  },
  "language_info": {
   "codemirror_mode": {
    "name": "ipython",
    "version": 3
   },
   "file_extension": ".py",
   "mimetype": "text/x-python",
   "name": "python",
   "nbconvert_exporter": "python",
   "pygments_lexer": "ipython3",
   "version": "3.10.12"
  }
 },
 "nbformat": 4,
 "nbformat_minor": 2
}
