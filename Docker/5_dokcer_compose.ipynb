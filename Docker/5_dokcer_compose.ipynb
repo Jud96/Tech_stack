{
 "cells": [
  {
   "cell_type": "markdown",
   "metadata": {},
   "source": [
    "## docker compose\n",
    "docker compose is a tool for defining and running multi-container Docker applications. With Compose, you use a YAML file to configure your application’s services. Then, with a single command, you create and start all the services from your configuration."
   ]
  },
  {
   "cell_type": "code",
   "execution_count": 2,
   "metadata": {},
   "outputs": [
    {
     "name": "stdout",
     "output_type": "stream",
     "text": [
      "6f6c71995750\n",
      "4e40260408ef\n",
      "6f6c71995750\n",
      "4e40260408ef\n"
     ]
    }
   ],
   "source": [
    "%%bash\n",
    "# clean up\n",
    "docker stop $(docker ps -a -q)\n",
    "docker rm $(docker ps -a -q)"
   ]
  },
  {
   "cell_type": "code",
   "execution_count": 3,
   "metadata": {},
   "outputs": [
    {
     "name": "stdout",
     "output_type": "stream",
     "text": [
      "REPOSITORY                      TAG       IMAGE ID       CREATED        SIZE\n",
      "webapp-color                    latest    9a6640e0c693   19 hours ago   51.9MB\n",
      "webserver                       latest    5d3bc18ff60a   4 days ago     187MB\n",
      "ubuntu                          latest    ca2b0f26964c   3 weeks ago    77.9MB\n",
      "ubuntu-sleeper1                 latest    7c71e440cc5b   3 weeks ago    77.9MB\n",
      "ubuntu-sleeper                  latest    462239ec5a47   3 weeks ago    77.9MB\n",
      "nginx                           latest    92b11f67642b   5 weeks ago    187MB\n",
      "mysql                           latest    019814493c7a   2 months ago   632MB\n",
      "redis                           latest    170a1e90f843   2 months ago   138MB\n",
      "mysql                           5.6       dd3b2a5dcb48   2 years ago    303MB\n",
      "kodekloud/simple-webapp-mysql   latest    129dd9f67367   5 years ago    96.6MB\n"
     ]
    }
   ],
   "source": [
    "%%bash \n",
    "docker images"
   ]
  },
  {
   "cell_type": "code",
   "execution_count": 4,
   "metadata": {},
   "outputs": [
    {
     "name": "stdout",
     "output_type": "stream",
     "text": [
      "dc78e40a9add226b0cc7cab2c13926885889ae76c368fdd5396dad33ebc359ef\n"
     ]
    }
   ],
   "source": [
    "%%bash \n",
    "# First create a redis database container called redis, image redis.\n",
    "# if you are unsure, check the hints section for the exact commands\n",
    "docker run -d --name redis redis"
   ]
  },
  {
   "cell_type": "code",
   "execution_count": null,
   "metadata": {},
   "outputs": [],
   "source": [
    "%%bash \n",
    "# Next, create a simple container called clickcounter \n",
    "# with the image kodekloud/click-counter, link it to the redis \n",
    "# container that we created in the previous task and then expose it on the host port 8085\n",
    "\n",
    "# The clickcounter app run on port 5000.\n",
    "# if you are unsure, check the hints section for the exact commands.\n",
    "docker run -d --name clickcounter --link redis -p 8085:5000 kodekloud/click-counter"
   ]
  },
  {
   "cell_type": "code",
   "execution_count": 6,
   "metadata": {},
   "outputs": [
    {
     "name": "stdout",
     "output_type": "stream",
     "text": [
      "CONTAINER ID   IMAGE                     COMMAND                  CREATED              STATUS              PORTS                    NAMES\n",
      "ac0acae03995   kodekloud/click-counter   \"flask run\"              18 seconds ago       Up 13 seconds       0.0.0.0:8085->5000/tcp   clickcounter\n",
      "dc78e40a9add   redis                     \"docker-entrypoint.s…\"   About a minute ago   Up About a minute   6379/tcp                 redis\n"
     ]
    }
   ],
   "source": [
    "%%bash \n",
    "docker ps"
   ]
  },
  {
   "cell_type": "code",
   "execution_count": 7,
   "metadata": {},
   "outputs": [
    {
     "name": "stdout",
     "output_type": "stream",
     "text": [
      "ac0acae03995\n",
      "dc78e40a9add\n",
      "ac0acae03995\n",
      "dc78e40a9add\n"
     ]
    }
   ],
   "source": [
    "%%bash\n",
    "# clean up\n",
    "docker stop $(docker ps -a -q)\n",
    "docker rm $(docker ps -a -q)"
   ]
  },
  {
   "cell_type": "code",
   "execution_count": 8,
   "metadata": {},
   "outputs": [],
   "source": [
    "%%bash \n",
    "echo \"\"\"\n",
    "services:\n",
    "  redis:\n",
    "    image: redis\n",
    "  clickcounter:\n",
    "    image: kodekloud/click-counter\n",
    "    ports:\n",
    "    - 8085:5000\n",
    "version: '3.0'\n",
    "\"\"\" > docker-compose.yml"
   ]
  },
  {
   "cell_type": "code",
   "execution_count": 9,
   "metadata": {},
   "outputs": [
    {
     "name": "stderr",
     "output_type": "stream",
     "text": [
      "Creating network \"docker_default\" with the default driver\n",
      "Creating docker_clickcounter_1 ... \n",
      "Creating docker_redis_1        ... \n",
      "Creating docker_clickcounter_1 ... done\n",
      "Creating docker_redis_1        ... done\n"
     ]
    }
   ],
   "source": [
    "%%bash \n",
    "docker-compose up -d"
   ]
  }
 ],
 "metadata": {
  "kernelspec": {
   "display_name": "Python 3",
   "language": "python",
   "name": "python3"
  },
  "language_info": {
   "codemirror_mode": {
    "name": "ipython",
    "version": 3
   },
   "file_extension": ".py",
   "mimetype": "text/x-python",
   "name": "python",
   "nbconvert_exporter": "python",
   "pygments_lexer": "ipython3",
   "version": "3.10.12"
  }
 },
 "nbformat": 4,
 "nbformat_minor": 2
}
