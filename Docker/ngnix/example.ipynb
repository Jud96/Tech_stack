{
 "cells": [
  {
   "cell_type": "code",
   "execution_count": 2,
   "metadata": {},
   "outputs": [],
   "source": [
    "%%bash\n",
    "echo 'Hello, world!' > /dev/null\n"
   ]
  },
  {
   "cell_type": "code",
   "execution_count": null,
   "metadata": {},
   "outputs": [],
   "source": [
    "%%bash \n",
    "docker pull nginx:latest"
   ]
  },
  {
   "cell_type": "code",
   "execution_count": null,
   "metadata": {},
   "outputs": [],
   "source": [
    "%%bash \n",
    "docker images "
   ]
  },
  {
   "cell_type": "code",
   "execution_count": null,
   "metadata": {},
   "outputs": [],
   "source": [
    "%%bash\n",
    "docker run -it --rm -d -p 8080:80 --name web nginx\n",
    "# running the container as a daemon (-d) and published port 8080 on the host network. \n",
    "# You also named the container web using the --name option.\n",
    "#  http://localhost:8080"
   ]
  },
  {
   "cell_type": "code",
   "execution_count": 20,
   "metadata": {},
   "outputs": [],
   "source": [
    "%%bash \n",
    "mkdir site-content\n",
    "#Adding Custom HTML\n",
    "echo \"\"\"\n",
    "<!doctype html>\n",
    "<html lang=\"en\">\n",
    "<head>\n",
    "  <meta charset=\"utf-8\">\n",
    "  <title>Docker Nginx</title>\n",
    "</head>\n",
    "<body>\n",
    "  <h2>Hello from Nginx container</h2>\n",
    "</body>\n",
    "</html>\n",
    "\"\"\" > site-content/index.html"
   ]
  },
  {
   "cell_type": "code",
   "execution_count": 25,
   "metadata": {},
   "outputs": [
    {
     "name": "stdout",
     "output_type": "stream",
     "text": [
      "CONTAINER ID   IMAGE     COMMAND                  CREATED         STATUS         PORTS                  NAMES\n",
      "1dbffbf961da   nginx     \"/docker-entrypoint.…\"   3 minutes ago   Up 3 minutes   0.0.0.0:8080->80/tcp   web\n"
     ]
    }
   ],
   "source": [
    "%%bash \n",
    "docker ps"
   ]
  },
  {
   "cell_type": "code",
   "execution_count": 31,
   "metadata": {},
   "outputs": [
    {
     "name": "stdout",
     "output_type": "stream",
     "text": [
      "web\n"
     ]
    }
   ],
   "source": [
    "%%bash \n",
    "docker stop web"
   ]
  },
  {
   "cell_type": "code",
   "execution_count": 8,
   "metadata": {},
   "outputs": [
    {
     "name": "stdout",
     "output_type": "stream",
     "text": [
      "/home/majid/work/Tech_stack/ngnix\n"
     ]
    }
   ],
   "source": [
    "%%bash \n",
    "pwd"
   ]
  },
  {
   "cell_type": "code",
   "execution_count": 32,
   "metadata": {},
   "outputs": [
    {
     "name": "stdout",
     "output_type": "stream",
     "text": [
      "154461025d29d023a9688e0e639cc641e11da791c569c0acbee43a593d33968b\n"
     ]
    }
   ],
   "source": [
    "%%bash \n",
    "# run nginx container with custom html\n",
    "docker run -it --rm -d -p 8080:80 -v $(pwd)/site-content:/usr/share/nginx/html --name web nginx"
   ]
  },
  {
   "cell_type": "code",
   "execution_count": 29,
   "metadata": {},
   "outputs": [
    {
     "name": "stdout",
     "output_type": "stream",
     "text": [
      "1dcc51fd8e7cc41d1815e9992a55bcc94b00c52b1d3456c248add23c819554b3\n"
     ]
    }
   ],
   "source": [
    "%%bash \n",
    "docker run -it --rm -d -p 8080:80 --name web -v site-content:/usr/share/nginx/html nginx"
   ]
  },
  {
   "cell_type": "code",
   "execution_count": 30,
   "metadata": {},
   "outputs": [
    {
     "name": "stdout",
     "output_type": "stream",
     "text": [
      "<!DOCTYPE html>\n",
      "<html>\n",
      "<head>\n",
      "<title>Welcome to nginx!</title>\n",
      "<style>\n",
      "html { color-scheme: light dark; }\n",
      "body { width: 35em; margin: 0 auto;\n",
      "font-family: Tahoma, Verdana, Arial, sans-serif; }\n",
      "</style>\n",
      "</head>\n",
      "<body>\n",
      "<h1>Welcome to nginx!</h1>\n",
      "<p>If you see this page, the nginx web server is successfully installed and\n",
      "working. Further configuration is required.</p>\n",
      "\n",
      "<p>For online documentation and support please refer to\n",
      "<a href=\"http://nginx.org/\">nginx.org</a>.<br/>\n",
      "Commercial support is available at\n",
      "<a href=\"http://nginx.com/\">nginx.com</a>.</p>\n",
      "\n",
      "<p><em>Thank you for using nginx.</em></p>\n",
      "</body>\n",
      "</html>\n"
     ]
    }
   ],
   "source": [
    "%%bash \n",
    "# show the content of the index.html file inside the container\n",
    "docker exec web cat /usr/share/nginx/html/index.html"
   ]
  },
  {
   "cell_type": "markdown",
   "metadata": {},
   "source": [
    "### Build Custom NGINX Image"
   ]
  },
  {
   "cell_type": "code",
   "execution_count": null,
   "metadata": {},
   "outputs": [],
   "source": [
    "%%bash \n",
    "# build the docker image\n",
    "# docker build – To build Docker Image from Dockerfile\n",
    "echo \"\"\" \n",
    "FROM nginx:latest\n",
    "COPY site-content/index.html /usr/share/nginx/html/index.html\n",
    "\"\"\"  > Dockerfile\n"
   ]
  },
  {
   "cell_type": "code",
   "execution_count": null,
   "metadata": {},
   "outputs": [],
   "source": [
    "%%bash \n",
    "docker build -t webserver ."
   ]
  },
  {
   "cell_type": "code",
   "execution_count": null,
   "metadata": {},
   "outputs": [],
   "source": [
    "%%bash \n",
    "docker stop web"
   ]
  },
  {
   "cell_type": "markdown",
   "metadata": {},
   "source": [
    "Setting up a reverse proxy server\n",
    "\n",
    "A very common scenario for developers, is to run their REST APIs behind a reverse proxy. There are many reasons why you would want to do this but one of the main reasons is to run your API server on a different network or IP then your front-end application is on. You can then secure this network and only allow traffic from the reverse proxy server.\n",
    "\n",
    "Here is  a simple frontend application in React.js and a simple backend API written in Node.js. Run the following command to pull the code from GitHub."
   ]
  },
  {
   "cell_type": "code",
   "execution_count": 33,
   "metadata": {},
   "outputs": [
    {
     "name": "stderr",
     "output_type": "stream",
     "text": [
      "Cloning into 'docker-nginx'...\n"
     ]
    }
   ],
   "source": [
    "%%bash \n",
    "git clone https://github.com/pmckeetx/docker-nginx.git"
   ]
  },
  {
   "cell_type": "code",
   "execution_count": 37,
   "metadata": {},
   "outputs": [],
   "source": [
    "%%bash\n",
    "rm -rf docker-nginx"
   ]
  },
  {
   "cell_type": "code",
   "execution_count": null,
   "metadata": {},
   "outputs": [],
   "source": []
  }
 ],
 "metadata": {
  "kernelspec": {
   "display_name": "Python 3",
   "language": "python",
   "name": "python3"
  },
  "language_info": {
   "codemirror_mode": {
    "name": "ipython",
    "version": 3
   },
   "file_extension": ".py",
   "mimetype": "text/x-python",
   "name": "python",
   "nbconvert_exporter": "python",
   "pygments_lexer": "ipython3",
   "version": "3.10.12"
  }
 },
 "nbformat": 4,
 "nbformat_minor": 2
}
