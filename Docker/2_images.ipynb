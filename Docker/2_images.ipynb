{
 "cells": [
  {
   "cell_type": "markdown",
   "metadata": {},
   "source": [
    "### Images"
   ]
  },
  {
   "cell_type": "code",
   "execution_count": 1,
   "metadata": {},
   "outputs": [
    {
     "name": "stdout",
     "output_type": "stream",
     "text": [
      "REPOSITORY   TAG       IMAGE ID       CREATED        SIZE\n",
      "webserver    latest    5d3bc18ff60a   3 days ago     187MB\n",
      "ubuntu       latest    ca2b0f26964c   3 weeks ago    77.9MB\n",
      "nginx        latest    92b11f67642b   5 weeks ago    187MB\n",
      "redis        latest    170a1e90f843   2 months ago   138MB\n"
     ]
    }
   ],
   "source": [
    "%%bash \n",
    "# show images \n",
    "docker images"
   ]
  },
  {
   "cell_type": "code",
   "execution_count": 2,
   "metadata": {},
   "outputs": [
    {
     "name": "stdout",
     "output_type": "stream",
     "text": [
      "5\n"
     ]
    }
   ],
   "source": [
    "%%bash \n",
    "# how many images are available on this host? -1 for header\n",
    "docker images | wc -l"
   ]
  },
  {
   "cell_type": "code",
   "execution_count": 3,
   "metadata": {},
   "outputs": [
    {
     "name": "stdout",
     "output_type": "stream",
     "text": [
      "REPOSITORY   TAG       IMAGE ID       CREATED       SIZE\n",
      "ubuntu       latest    ca2b0f26964c   3 weeks ago   77.9MB\n"
     ]
    }
   ],
   "source": [
    "%%bash \n",
    "# What is the size of the ubuntu image?\n",
    "docker images ubuntu"
   ]
  },
  {
   "cell_type": "code",
   "execution_count": null,
   "metadata": {},
   "outputs": [],
   "source": [
    "%%bash \n",
    "\n",
    "# Run an instance of kodekloud/simple-webapp \n",
    "# with a tag blue and m\n",
    "# ap port 8080 on the container to 38282 on the host.\n",
    "docker run -p 38282:8080 kodekloud/simple-webapp:blue\n",
    "#You can run this container in the background after adding the -d flag"
   ]
  },
  {
   "cell_type": "code",
   "execution_count": null,
   "metadata": {},
   "outputs": [],
   "source": [
    "%%bash \n",
    "mkdir webapp-color\n",
    "echo \"\"\"\n",
    "FROM python:3.6-alpine \n",
    "RUN pip install flask\n",
    "COPY . /opt/\n",
    "EXPOSE 8080\n",
    "WORKDIR /opt\n",
    "ENTRYPOINT [\"python\", \"app.py\"]\n",
    "\"\"\" > Dockerfile"
   ]
  },
  {
   "cell_type": "code",
   "execution_count": null,
   "metadata": {},
   "outputs": [],
   "source": [
    "%%bash \n",
    "cd webapp-color\n",
    "echo \"\"\"\n",
    "<!doctype html>\n",
    "<title>Hello from Flask</title>\n",
    "<body style=\"background: {{ color }};\"></body>\n",
    "<div style=\"color: #e4e4e4;\n",
    "    text-align:  center;\n",
    "    height: 90px;\n",
    "    vertical-align:  middle;\">\n",
    "{% if name %}\n",
    "  <h1>Hello from {{ name }}!</h1>\n",
    "{% else %}\n",
    "  <h1>Hello, World!</h1>\n",
    "{% endif %}\n",
    "\n",
    "  {% if contents %}\n",
    "  <textarea rows=\"10\" cols=\"50\">\n",
    "    {{ contents }}\n",
    "  </textarea>\n",
    "  {% endif %}\n",
    "\n",
    "</div>\n",
    "\"\"\" > hello.html"
   ]
  },
  {
   "cell_type": "code",
   "execution_count": null,
   "metadata": {},
   "outputs": [],
   "source": [
    "%%bash \n",
    "# Build a docker image using the Dockerfile and name it webapp-color. No tag to be specified.\n",
    "cd webapp-color\n",
    "docker build -t webapp-color . >> /dev/null"
   ]
  },
  {
   "cell_type": "code",
   "execution_count": 11,
   "metadata": {},
   "outputs": [
    {
     "name": "stdout",
     "output_type": "stream",
     "text": [
      "6f68baf9e22d5af6ec31fcd210a92d0e19d78cadf5a020363de666afdb8ad448\n"
     ]
    }
   ],
   "source": [
    "%%bash \n",
    "# Run an instance of the image webapp-color and \n",
    "# publish port 8080 on the container to 5000 on the host.\n",
    "docker run -d -p 5001:8080 -e APP_COLOR='blue' webapp-color"
   ]
  },
  {
   "cell_type": "markdown",
   "metadata": {},
   "source": [
    "### Cleanup"
   ]
  },
  {
   "cell_type": "code",
   "execution_count": 12,
   "metadata": {},
   "outputs": [
    {
     "name": "stdout",
     "output_type": "stream",
     "text": [
      "6f68baf9e22d\n",
      "e32ebe735e90\n",
      "bf645c857ab4\n",
      "1cd3f0a7c01d\n",
      "d54c5a0dc0ee\n",
      "efbc16138cce\n",
      "987ea1d2e440\n",
      "ea030a072722\n",
      "c75c594a4f2f\n",
      "d07c9b097363\n",
      "cab606bb94d7\n",
      "6f68baf9e22d\n",
      "e32ebe735e90\n",
      "bf645c857ab4\n",
      "1cd3f0a7c01d\n",
      "d54c5a0dc0ee\n",
      "efbc16138cce\n",
      "987ea1d2e440\n",
      "ea030a072722\n",
      "c75c594a4f2f\n",
      "d07c9b097363\n",
      "cab606bb94d7\n"
     ]
    }
   ],
   "source": [
    "%%bash \n",
    "# Delete all containers from the Docker Host.\n",
    "# Both Running and Not Running ones. \n",
    "# Remember you may have to stop containers before deleting them.\n",
    "docker stop $(docker ps -aq)\n",
    "docker rm $(docker ps -aq)"
   ]
  },
  {
   "cell_type": "code",
   "execution_count": 13,
   "metadata": {},
   "outputs": [
    {
     "name": "stdout",
     "output_type": "stream",
     "text": [
      "REPOSITORY     TAG       IMAGE ID       CREATED         SIZE\n",
      "webapp-color   latest    9a6640e0c693   7 minutes ago   51.9MB\n",
      "webserver      latest    5d3bc18ff60a   3 days ago      187MB\n",
      "ubuntu         latest    ca2b0f26964c   3 weeks ago     77.9MB\n",
      "nginx          latest    92b11f67642b   5 weeks ago     187MB\n",
      "redis          latest    170a1e90f843   2 months ago    138MB\n"
     ]
    }
   ],
   "source": [
    "%%bash \n",
    "docker images"
   ]
  },
  {
   "cell_type": "code",
   "execution_count": null,
   "metadata": {},
   "outputs": [],
   "source": [
    "%%bash \n",
    "# reduce size of image using alpine\n",
    "FROM python:3.6-alpine \n",
    "RUN pip install flask\n",
    "COPY . /opt/\n",
    "EXPOSE 8080\n",
    "WORKDIR /opt\n",
    "ENTRYPOINT [\"python\", \"app.py\"]"
   ]
  },
  {
   "cell_type": "code",
   "execution_count": null,
   "metadata": {},
   "outputs": [],
   "source": [
    "%%bash \n",
    "docker build -t webapp-color:lite ."
   ]
  }
 ],
 "metadata": {
  "kernelspec": {
   "display_name": "Python 3",
   "language": "python",
   "name": "python3"
  },
  "language_info": {
   "codemirror_mode": {
    "name": "ipython",
    "version": 3
   },
   "file_extension": ".py",
   "mimetype": "text/x-python",
   "name": "python",
   "nbconvert_exporter": "python",
   "pygments_lexer": "ipython3",
   "version": "3.10.12"
  }
 },
 "nbformat": 4,
 "nbformat_minor": 2
}
