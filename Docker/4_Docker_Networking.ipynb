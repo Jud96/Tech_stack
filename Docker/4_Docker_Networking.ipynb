{
 "cells": [
  {
   "cell_type": "markdown",
   "metadata": {},
   "source": [
    "## Docker Networking\n",
    "docker has three types of networks:\n",
    "* docker run ubuntu # creates a new container and run it on the default network bridge\n",
    "* docker run --network=host ubuntu # run the container on the host network\n",
    "* docker run --network=none ubuntu # run the container with no network\n",
    "\n",
    "**list networks**\n",
    "docker network ls\n",
    "\n",
    "**create a new network**\n",
    "docker network create mynetwork \\\n",
    "--driver bridge \\\n",
    "--subnet 182.18.0.0/16 \\\n",
    "custom-isolated-network\n",
    "\n",
    "\n",
    "**inspect a network**\n",
    "docker network inspect mynetwork\n",
    "docker run --network=mynetwork ubuntu # run the container on the custom network\n",
    "\n",
    "docker inspect container_id | grep IPAddress # get the ip address of a container\n",
    "\n",
    "**Emdeded DNS server**\n",
    "Docker has an embedded DNS server that provides DNS resolution to all containers on the same network. The DNS server is reachable at \n",
    "mysql.connect(mysqldb, user='root', password='password') # connect to mysql container using the container name"
   ]
  },
  {
   "cell_type": "code",
   "execution_count": 12,
   "metadata": {},
   "outputs": [
    {
     "name": "stdout",
     "output_type": "stream",
     "text": [
      "bc0f9914d5368276195df881045ff714e5467e4e69b39148ccf17daeab96384c\n"
     ]
    }
   ],
   "source": [
    "%%bash \n",
    "# create a new network\n",
    "docker network create  \\\n",
    "--driver bridge \\\n",
    "--subnet 182.18.0.0/16 \\\n",
    "custom-isolated-network"
   ]
  },
  {
   "cell_type": "code",
   "execution_count": 13,
   "metadata": {},
   "outputs": [
    {
     "name": "stdout",
     "output_type": "stream",
     "text": [
      "NETWORK ID     NAME                      DRIVER    SCOPE\n",
      "0cc715522748   /                         bridge    local\n",
      "a07afdee07eb   bridge                    bridge    local\n",
      "bc0f9914d536   custom-isolated-network   bridge    local\n",
      "aa04e1c37bd8   docker-nginx_backend      bridge    local\n",
      "c19ac9c377e7   docker-nginx_frontend     bridge    local\n",
      "337b85f1d2a8   host                      host      local\n",
      "dece7ad46d20   none                      null      local\n"
     ]
    }
   ],
   "source": [
    "%%bash\n",
    "# list networks\n",
    "docker network ls"
   ]
  },
  {
   "cell_type": "code",
   "execution_count": 14,
   "metadata": {},
   "outputs": [
    {
     "name": "stdout",
     "output_type": "stream",
     "text": [
      "[\n",
      "    {\n",
      "        \"Name\": \"custom-isolated-network\",\n",
      "        \"Id\": \"bc0f9914d5368276195df881045ff714e5467e4e69b39148ccf17daeab96384c\",\n",
      "        \"Created\": \"2024-03-25T12:39:11.52762276Z\",\n",
      "        \"Scope\": \"local\",\n",
      "        \"Driver\": \"bridge\",\n",
      "        \"EnableIPv6\": false,\n",
      "        \"IPAM\": {\n",
      "            \"Driver\": \"default\",\n",
      "            \"Options\": {},\n",
      "            \"Config\": [\n",
      "                {\n",
      "                    \"Subnet\": \"182.18.0.0/16\"\n",
      "                }\n",
      "            ]\n",
      "        },\n",
      "        \"Internal\": false,\n",
      "        \"Attachable\": false,\n",
      "        \"Ingress\": false,\n",
      "        \"ConfigFrom\": {\n",
      "            \"Network\": \"\"\n",
      "        },\n",
      "        \"ConfigOnly\": false,\n",
      "        \"Containers\": {},\n",
      "        \"Options\": {},\n",
      "        \"Labels\": {}\n",
      "    }\n",
      "]\n"
     ]
    }
   ],
   "source": [
    "%%bash \n",
    "docker network inspect custom-isolated-network"
   ]
  },
  {
   "cell_type": "code",
   "execution_count": 17,
   "metadata": {},
   "outputs": [
    {
     "name": "stdout",
     "output_type": "stream",
     "text": [
      "89b8bc01d5bd1a89fdca23e2c80700e92d50d1e6a384a0da52835c1daff1cf61\n"
     ]
    }
   ],
   "source": [
    "%%bash \n",
    "docker run -d -p 8080:80 --name webserver --network custom-isolated-network webapp-color"
   ]
  },
  {
   "cell_type": "code",
   "execution_count": 18,
   "metadata": {},
   "outputs": [
    {
     "name": "stdout",
     "output_type": "stream",
     "text": [
      "            \"NetworkMode\": \"custom-isolated-network\",\n"
     ]
    }
   ],
   "source": [
    "%%bash \n",
    "#We just ran a container named webserver. Identify the network it is attached to.\n",
    "docker inspect webserver | grep NetworkMode"
   ]
  },
  {
   "cell_type": "code",
   "execution_count": 19,
   "metadata": {},
   "outputs": [
    {
     "name": "stdout",
     "output_type": "stream",
     "text": [
      "                    \"Subnet\": \"182.18.0.0/16\"\n"
     ]
    }
   ],
   "source": [
    "%%bash\n",
    "# What is the subnet configured on custom-isolated-network network?\n",
    "docker network inspect custom-isolated-network | grep Subnet"
   ]
  },
  {
   "cell_type": "code",
   "execution_count": 28,
   "metadata": {},
   "outputs": [
    {
     "name": "stdout",
     "output_type": "stream",
     "text": [
      "custom-isolated-network\n"
     ]
    }
   ],
   "source": [
    "%%bash\n",
    "# remove the network \n",
    "docker network rm custom-isolated-network"
   ]
  },
  {
   "cell_type": "code",
   "execution_count": 29,
   "metadata": {},
   "outputs": [
    {
     "name": "stdout",
     "output_type": "stream",
     "text": [
      "fcb01abb846971b6d6bf4a7ee9ea800770d33f31f0b57b13fd7c99231e9f7b84\n"
     ]
    }
   ],
   "source": [
    "%%bash \n",
    "# Create a new network named wp-mysql-network using the bridge driver. \n",
    "# Allocate subnet 182.18.0.1/24. Configure Gateway 182.18.0.1\n",
    "docker network create --driver bridge --subnet 182.18.0.1/24 --gateway 182.18.0.1 wp-mysql-network"
   ]
  },
  {
   "cell_type": "code",
   "execution_count": 31,
   "metadata": {},
   "outputs": [
    {
     "name": "stdout",
     "output_type": "stream",
     "text": [
      "52016684c4202561c9c7c6a4812611d32bcd8c3d1d5faa5d8b7d6f0caf459bb4\n"
     ]
    }
   ],
   "source": [
    "%%bash \n",
    "# Deploy a mysql database using the mysql:5.6 image\n",
    "#  and name it mysql-db.\n",
    "#  Attach it to the newly created network wp-mysql-network\n",
    "#Set the database password to use db_pass123. The environment variable to set is MYSQL_ROOT_PASSWORD.\n",
    "docker run -d -e MYSQL_ROOT_PASSWORD=db_pass123 --name mysql-db --network wp-mysql-network mysql:5.6"
   ]
  },
  {
   "cell_type": "code",
   "execution_count": 44,
   "metadata": {},
   "outputs": [
    {
     "name": "stdout",
     "output_type": "stream",
     "text": [
      "6f6c71995750bc33c4fcfb3cf1a23427f45100e3e9d205f9e80f89735b237df5\n"
     ]
    }
   ],
   "source": [
    "%%bash \n",
    "#Deploy a web application named webapp using the kodekloud/simple-webapp-mysql image.\n",
    "#  Expose the port to 38080 on the host.\n",
    "\n",
    "#The application makes use of two environment variable:\n",
    "#1: DB_Host with the value mysql-db.\n",
    "#2: DB_Password with the value db_pass123.\n",
    "#Make sure to attach it to the newly created network called wp-mysql-network.\n",
    "#Also make sure to link the MySQL and the webapp container.\n",
    "docker run --network=wp-mysql-network -e DB_Host=mysql-db \\\n",
    "           -e DB_Password=db_pass123  -p 38080:8080 --name webapp \\\n",
    "           --link mysql-db:mysql-db -d kodekloud/simple-webapp-mysql"
   ]
  }
 ],
 "metadata": {
  "kernelspec": {
   "display_name": "Python 3",
   "language": "python",
   "name": "python3"
  },
  "language_info": {
   "codemirror_mode": {
    "name": "ipython",
    "version": 3
   },
   "file_extension": ".py",
   "mimetype": "text/x-python",
   "name": "python",
   "nbconvert_exporter": "python",
   "pygments_lexer": "ipython3",
   "version": "3.10.12"
  }
 },
 "nbformat": 4,
 "nbformat_minor": 2
}
