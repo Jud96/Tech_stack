{
 "cells": [
  {
   "cell_type": "markdown",
   "metadata": {},
   "source": [
    "## environment variables\n",
    "environment variables in docker are a way to pass configuration to the container. They are key-value pairs that are set in the shell and are accessible"
   ]
  },
  {
   "cell_type": "code",
   "execution_count": 2,
   "metadata": {},
   "outputs": [
    {
     "name": "stdout",
     "output_type": "stream",
     "text": [
      "CONTAINER ID   IMAGE     COMMAND   CREATED   STATUS    PORTS     NAMES\n"
     ]
    }
   ],
   "source": [
    "%%bash \n",
    "docker ps -a"
   ]
  },
  {
   "cell_type": "code",
   "execution_count": 3,
   "metadata": {},
   "outputs": [
    {
     "name": "stdout",
     "output_type": "stream",
     "text": [
      "REPOSITORY     TAG       IMAGE ID       CREATED        SIZE\n",
      "webapp-color   latest    9a6640e0c693   14 hours ago   51.9MB\n",
      "webserver      latest    5d3bc18ff60a   3 days ago     187MB\n",
      "ubuntu         latest    ca2b0f26964c   3 weeks ago    77.9MB\n",
      "nginx          latest    92b11f67642b   5 weeks ago    187MB\n",
      "redis          latest    170a1e90f843   2 months ago   138MB\n"
     ]
    }
   ],
   "source": [
    "%%bash \n",
    "docker images"
   ]
  },
  {
   "cell_type": "code",
   "execution_count": 17,
   "metadata": {},
   "outputs": [
    {
     "name": "stdout",
     "output_type": "stream",
     "text": [
      "ed4ebdb276347d3a77850c909227ab8287b9d89b13c27d00f06a50e883ea84c5\n"
     ]
    }
   ],
   "source": [
    "%%bash \n",
    "docker run -d -p 5001:8080 -e APP_COLOR='blue' --name webapp-color webapp-color "
   ]
  },
  {
   "cell_type": "code",
   "execution_count": 18,
   "metadata": {},
   "outputs": [
    {
     "name": "stdout",
     "output_type": "stream",
     "text": [
      "CONTAINER ID   IMAGE          COMMAND           CREATED         STATUS         PORTS                    NAMES\n",
      "ed4ebdb27634   webapp-color   \"python app.py\"   6 seconds ago   Up 3 seconds   0.0.0.0:5001->8080/tcp   webapp-color\n"
     ]
    }
   ],
   "source": [
    "%%bash \n",
    "docker ps"
   ]
  },
  {
   "cell_type": "code",
   "execution_count": 19,
   "metadata": {},
   "outputs": [
    {
     "name": "stdout",
     "output_type": "stream",
     "text": [
      "webapp-color\n",
      "webapp-color\n"
     ]
    }
   ],
   "source": [
    "%%bash \n",
    "docker stop webapp-color\n",
    "docker rm webapp-color"
   ]
  },
  {
   "cell_type": "code",
   "execution_count": 9,
   "metadata": {},
   "outputs": [
    {
     "name": "stdout",
     "output_type": "stream",
     "text": [
      "CONTAINER ID   IMAGE          COMMAND           CREATED              STATUS          PORTS                            NAMES\n",
      "dd0a8ee44218   webapp-color   \"python app.py\"   About a minute ago   Up 57 seconds   8080/tcp, 0.0.0.0:8080->80/tcp   webapp\n",
      "extract the value of APP_COLOR from the running container\n",
      "                \"APP_COLOR=blue\",\n"
     ]
    }
   ],
   "source": [
    "%%bash\n",
    "# Inspect the environment variables set on the running container \n",
    "# and identify the value set to the APP_COLOR variable.\n",
    "docker ps\n",
    "echo \"extract the value of APP_COLOR from the running container\"\n",
    "docker inspect webapp | grep APP_COLOR\n"
   ]
  },
  {
   "cell_type": "code",
   "execution_count": null,
   "metadata": {},
   "outputs": [],
   "source": [
    "%%bash \n",
    "#Run a container named blue-app using image kodekloud/simple-webapp and set the environment variable APP_COLOR to blue. Make the application available o\n",
    "# n port 38282 on the host. The application listens on port 8080.\n",
    "docker run -d -e APP_COLOR=blue --name blue-app -p 38282:8080 kodekloud/simple-webapp"
   ]
  },
  {
   "cell_type": "code",
   "execution_count": 23,
   "metadata": {},
   "outputs": [
    {
     "name": "stdout",
     "output_type": "stream",
     "text": [
      "52695d86ad0523edb0fea18aec19fb32420dcad1a8465f237405316d3e2b0e1e\n"
     ]
    }
   ],
   "source": [
    "%%bash \n",
    "#Deploy a mysql database using the mysql image and name it mysql-db.\n",
    "#Set the database password to use db_pass123. \n",
    "# Lookup the mysql image on Docker Hub and identify \n",
    "# the correct environment variable to use for setting the root password.\n",
    "docker run -d -e MYSQL_ROOT_PASSWORD=db_pass123 --name mysql-db mysql\n",
    "\n"
   ]
  },
  {
   "cell_type": "code",
   "execution_count": null,
   "metadata": {},
   "outputs": [],
   "source": [
    "%%bash \n",
    "#To know the env field from within a mysql-db container, run  it in terminal \n",
    "docker exec -it mysql-db env"
   ]
  },
  {
   "cell_type": "code",
   "execution_count": null,
   "metadata": {},
   "outputs": [],
   "source": [
    "%%bash \n",
    "# run command to show all databases in mysql-db container\n",
    "# run it in terminal\n",
    "docker exec -it mysql-db mysql -u root -pdb_pass123 -e 'show databases;'"
   ]
  },
  {
   "cell_type": "markdown",
   "metadata": {},
   "source": [
    "## CMD vs ENTRYPOINT\n",
    "cmd is used to provide defaults for an executing container. There can be only one CMD instruction in a Dockerfile. If you list more than one CMD then only the last CMD will take effect. <br/>\n",
    "entrypoint allows you to configure a container that will run as an executable."
   ]
  },
  {
   "cell_type": "code",
   "execution_count": 30,
   "metadata": {},
   "outputs": [],
   "source": [
    "%%bash \n",
    "echo \"\"\" \n",
    "FROM ubuntu\n",
    "CMD [\\\"sleep\\\" , \\\"5\\\"] # or CMD sleep 5\n",
    "\"\"\" > Dockerfile"
   ]
  },
  {
   "cell_type": "code",
   "execution_count": 32,
   "metadata": {},
   "outputs": [
    {
     "name": "stderr",
     "output_type": "stream",
     "text": [
      "#0 building with \"desktop-linux\" instance using docker driver\n",
      "\n",
      "#1 [internal] load build definition from Dockerfile\n",
      "#1 transferring dockerfile: 29B 0.0s\n",
      "#1 transferring dockerfile: 31B 0.1s done\n",
      "#1 DONE 0.8s\n",
      "\n",
      "#2 [internal] load .dockerignore\n",
      "#2 transferring context: 2B 0.1s done\n",
      "#2 DONE 1.1s\n",
      "\n",
      "#3 [internal] load metadata for docker.io/library/ubuntu:latest\n",
      "#3 DONE 0.0s\n",
      "\n",
      "#4 [1/1] FROM docker.io/library/ubuntu\n",
      "#4 CACHED\n",
      "\n",
      "#5 exporting to image\n",
      "#5 exporting layers done\n",
      "#5 writing image sha256:462239ec5a47a469d8270a4a9e007253cabae2ee9921c2f48a3633263cf0edca 0.0s done\n",
      "#5 naming to docker.io/library/ubuntu-sleeper done\n",
      "#5 DONE 0.0s\n"
     ]
    },
    {
     "name": "stdout",
     "output_type": "stream",
     "text": [
      "The container should sleep for 5 seconds and then exit\n"
     ]
    }
   ],
   "source": [
    "%%bash \n",
    "docker build -t ubuntu-sleeper . > /dev/null\n",
    "docker run ubuntu-sleeper\n",
    "echo \"The container should sleep for 5 seconds and then exit\""
   ]
  },
  {
   "cell_type": "code",
   "execution_count": null,
   "metadata": {},
   "outputs": [],
   "source": [
    "%%bash\n",
    "# what if you want to run the container for 10 seconds?\n",
    "# \n",
    "#Dockerfile\n",
    "# FROM ubuntu\n",
    "# CMD [\"sleep\", \"10\"] # but that hardcodes the time"
   ]
  },
  {
   "cell_type": "code",
   "execution_count": 34,
   "metadata": {},
   "outputs": [],
   "source": [
    "%%bash \n",
    "echo \"\"\"\n",
    "# Dockerfile\n",
    "FROM ubuntu\n",
    "ENTRYPOINT [\\\"sleep\\\"] #  this will allow you to pass the time as an argument\n",
    "CMD [\\\"5\\\"] # default time\n",
    "\"\"\" > Dockerfile1"
   ]
  },
  {
   "cell_type": "code",
   "execution_count": 36,
   "metadata": {},
   "outputs": [
    {
     "name": "stderr",
     "output_type": "stream",
     "text": [
      "#0 building with \"desktop-linux\" instance using docker driver\n",
      "\n",
      "#1 [internal] load build definition from Dockerfile1\n",
      "#1 transferring dockerfile: 31B 0.0s\n",
      "#1 transferring dockerfile: 168B 0.1s done\n",
      "#1 DONE 0.7s\n",
      "\n",
      "#2 [internal] load .dockerignore\n",
      "#2 transferring context: 2B 0.1s done\n",
      "#2 DONE 0.8s\n",
      "\n",
      "#3 [internal] load metadata for docker.io/library/ubuntu:latest\n",
      "#3 DONE 0.0s\n",
      "\n",
      "#4 [1/1] FROM docker.io/library/ubuntu\n",
      "#4 CACHED\n",
      "\n",
      "#5 exporting to image\n",
      "#5 exporting layers done\n",
      "#5 writing image sha256:7c71e440cc5bb4566a4a1d2aaa8a3ed3bfeafc41cf525412e39f536b5162a95f 0.0s done\n",
      "#5 naming to docker.io/library/ubuntu-sleeper1 0.0s done\n",
      "#5 DONE 0.1s\n"
     ]
    }
   ],
   "source": [
    "%%bash\n",
    "# build Dockerfile1\n",
    "docker build -f Dockerfile1 -t ubuntu-sleeper1 . > /dev/null"
   ]
  },
  {
   "cell_type": "code",
   "execution_count": 45,
   "metadata": {},
   "outputs": [
    {
     "name": "stdout",
     "output_type": "stream",
     "text": [
      "REPOSITORY        TAG       IMAGE ID       CREATED        SIZE\n",
      "webapp-color      latest    9a6640e0c693   15 hours ago   51.9MB\n",
      "webserver         latest    5d3bc18ff60a   3 days ago     187MB\n",
      "ubuntu-sleeper    latest    462239ec5a47   3 weeks ago    77.9MB\n",
      "ubuntu            latest    ca2b0f26964c   3 weeks ago    77.9MB\n",
      "ubuntu-sleeper1   latest    7c71e440cc5b   3 weeks ago    77.9MB\n",
      "nginx             latest    92b11f67642b   5 weeks ago    187MB\n",
      "mysql             latest    019814493c7a   2 months ago   632MB\n",
      "redis             latest    170a1e90f843   2 months ago   138MB\n"
     ]
    }
   ],
   "source": [
    "%%bash \n",
    "docker  images"
   ]
  },
  {
   "cell_type": "code",
   "execution_count": 46,
   "metadata": {},
   "outputs": [
    {
     "name": "stdout",
     "output_type": "stream",
     "text": [
      "The container should sleep for 10 seconds and then exit\n"
     ]
    }
   ],
   "source": [
    "%%bash \n",
    "docker  run ubuntu-sleeper1 10\n",
    "echo \"The container should sleep for 10 seconds and then exit\""
   ]
  },
  {
   "cell_type": "code",
   "execution_count": 50,
   "metadata": {},
   "outputs": [
    {
     "name": "stdout",
     "output_type": "stream",
     "text": [
      "hello world\n"
     ]
    }
   ],
   "source": [
    "%%bash \n",
    "# override the entrypoint\n",
    "docker run --entrypoint echo ubuntu-sleeper1  \"hello world\""
   ]
  },
  {
   "cell_type": "code",
   "execution_count": null,
   "metadata": {},
   "outputs": [],
   "source": [
    "%%bash \n",
    "# What is the ENTRYPOINT configured on the mysql image?\n",
    "cat Dockerfile_mysql\n",
    "#ENTRYPOINT [\"docker-entrypoint.sh\"]\n",
    "#EXPOSE 3306 33060\n",
    "#CMD [\"mysqld\"]"
   ]
  },
  {
   "cell_type": "code",
   "execution_count": null,
   "metadata": {},
   "outputs": [],
   "source": [
    "%%bash \n",
    "# What is the CMD configured on the wordpress image?\n",
    "cat Dockerfile_wordpress | grep CMD\n",
    "# CMD [\"apache2-foreground\"]"
   ]
  },
  {
   "cell_type": "code",
   "execution_count": null,
   "metadata": {},
   "outputs": [],
   "source": [
    "%%bash\n",
    "# What is the final command run at startup when the wordpress image is run.\n",
    "# Consider both ENTRYPOINT and CMD instructions\n",
    "cat Dockerfile_wordpress | grep 'CMD\\|ENTRYPOINT'\n",
    "#ENTRYPOINT [\"docker-entrypoint.sh\"]\n",
    "#CMD [\"apache2-foreground\"]\n",
    "# Answer: docker-entrypoint.sh apache2-foreground"
   ]
  },
  {
   "cell_type": "code",
   "execution_count": null,
   "metadata": {},
   "outputs": [],
   "source": [
    "%%bash \n",
    "# What is the command run at startup when the ubuntu image is run?\n",
    "cat Dockerfile_ubuntu | grep CMD\n",
    "# CMD [\"bash\"]"
   ]
  },
  {
   "cell_type": "code",
   "execution_count": null,
   "metadata": {},
   "outputs": [],
   "source": [
    "%%bash \n",
    "# Run an instance of the ubuntu image to run the sleep 1000 command at startup.\n",
    "#Run it in detached mode.\n",
    "docker run -d ubuntu sleep 1000"
   ]
  }
 ],
 "metadata": {
  "kernelspec": {
   "display_name": "Python 3",
   "language": "python",
   "name": "python3"
  },
  "language_info": {
   "codemirror_mode": {
    "name": "ipython",
    "version": 3
   },
   "file_extension": ".py",
   "mimetype": "text/x-python",
   "name": "python",
   "nbconvert_exporter": "python",
   "pygments_lexer": "ipython3",
   "version": "3.10.12"
  }
 },
 "nbformat": 4,
 "nbformat_minor": 2
}
