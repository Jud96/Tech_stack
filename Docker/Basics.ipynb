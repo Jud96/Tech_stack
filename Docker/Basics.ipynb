{
 "cells": [
  {
   "cell_type": "code",
   "execution_count": 1,
   "metadata": {},
   "outputs": [],
   "source": [
    "%%bash \n",
    "# don't run this cell in jupyter notebook\n",
    "# run this cell in terminal\n",
    "# to show all docker commands \n",
    "\n",
    "#docker "
   ]
  },
  {
   "cell_type": "code",
   "execution_count": 3,
   "metadata": {},
   "outputs": [],
   "source": [
    "%%bash \n",
    "#check if docker is installed (show Docker version)\n",
    "echo \"****** docker version ******\" >> docker.log\n",
    "docker version >> docker.log\n",
    "echo \"****** docker version ******\" >> docker.log"
   ]
  },
  {
   "cell_type": "code",
   "execution_count": 4,
   "metadata": {},
   "outputs": [],
   "source": [
    "%%bash \n",
    "#  Displays system wide information\n",
    "# Number of containers\n",
    "# Number of images\n",
    "# The storage driver used by Docker\n",
    "# The root directory used by Docker\n",
    "# The execution driver used by Docker\n",
    "echo \"****** docker info ******\" >> docker.log\n",
    "docker info >> docker.log\n",
    "echo \"****** docker info ******\" >> docker.log"
   ]
  },
  {
   "cell_type": "code",
   "execution_count": 11,
   "metadata": {},
   "outputs": [],
   "source": [
    "%%bash \n",
    "# pull the docker Images from DockerHub Repository\n",
    "# docker pull whalesay \n",
    "echo \"****** docker pull  ******\" >> docker.log\n",
    "docker pull docker/whalesay >> docker.log\n",
    "docker pull ubuntu:latest >> docker.log\n",
    "docker pull nginx:latest >> docker.log\n",
    "docker pull redis >> docker.log \n",
    "echo \"****** docker pull  ******\" >> docker.log"
   ]
  },
  {
   "cell_type": "code",
   "execution_count": null,
   "metadata": {},
   "outputs": [],
   "source": [
    "%%bash \n",
    "# docker run – Run a container from a docker image\n",
    "# run this in terminal \n",
    "docker run docker/whalesay cowsay Hello-World "
   ]
  },
  {
   "cell_type": "code",
   "execution_count": 13,
   "metadata": {},
   "outputs": [
    {
     "name": "stdout",
     "output_type": "stream",
     "text": [
      "DISTRIB_DESCRIPTION=\"Ubuntu 22.04.4 LTS\"\n"
     ]
    }
   ],
   "source": [
    "%%bash \n",
    "docker run ubuntu cat /etc/lsb-release | grep DISTRIB_DESCRIPTION"
   ]
  },
  {
   "cell_type": "code",
   "execution_count": 16,
   "metadata": {},
   "outputs": [
    {
     "name": "stdout",
     "output_type": "stream",
     "text": [
      "d07c9b097363d86c4478e3f95799545ab495f1a007cbf097bca7802656c78068\n"
     ]
    }
   ],
   "source": [
    "%%bash\n",
    "# -d: Run the container in the background.\n",
    "# -p 8080:80: Publish port 80 in the container to port 8080 on the host network.\n",
    "# -i : Keep STDIN open even if not attached. (interactive)\n",
    "# -t : Allocate a pseudo-TTY.\n",
    "docker run -it --rm -d -p 8080:80 --name web nginx\n",
    "# running the container as a daemon (-d) and published port 8080 on the host network. \n",
    "# You also named the container web using the --name option.\n",
    "#  http://localhost:8080"
   ]
  },
  {
   "cell_type": "code",
   "execution_count": null,
   "metadata": {},
   "outputs": [],
   "source": [
    "%%bash \n",
    "# you can app on different port\n",
    "docker run -it --rm -d -p 8081:80 --name web nginx\n",
    "#  http://localhost:8081\n"
   ]
  },
  {
   "cell_type": "code",
   "execution_count": 17,
   "metadata": {},
   "outputs": [
    {
     "name": "stdout",
     "output_type": "stream",
     "text": [
      "CONTAINER ID   IMAGE     COMMAND                  CREATED              STATUS          PORTS                  NAMES\n",
      "d07c9b097363   nginx     \"/docker-entrypoint.…\"   About a minute ago   Up 59 seconds   0.0.0.0:8080->80/tcp   nginx\n"
     ]
    }
   ],
   "source": [
    "%%bash \n",
    "# docker ps – List all running containers\n",
    "docker ps "
   ]
  },
  {
   "cell_type": "code",
   "execution_count": 18,
   "metadata": {},
   "outputs": [
    {
     "name": "stdout",
     "output_type": "stream",
     "text": [
      "CONTAINER ID   IMAGE             COMMAND                  CREATED              STATUS                          PORTS                  NAMES\n",
      "d07c9b097363   nginx             \"/docker-entrypoint.…\"   About a minute ago   Up About a minute               0.0.0.0:8080->80/tcp   nginx\n",
      "cab606bb94d7   ubuntu            \"cat /etc/lsb-release\"   2 minutes ago        Exited (0) About a minute ago                          boring_roentgen\n",
      "3ed4025c4dde   docker/whalesay   \"cowsay Hello-World\"     3 minutes ago        Exited (0) 2 minutes ago                               musing_boyd\n",
      "07f17d2318f1   docker/whalesay   \"cowsay Hello-World\"     5 minutes ago        Exited (0) 2 minutes ago                               eager_ride\n"
     ]
    }
   ],
   "source": [
    "%%bash \n",
    "# docker ps -a – List all containers\n",
    "docker ps -a \n"
   ]
  },
  {
   "cell_type": "code",
   "execution_count": 23,
   "metadata": {},
   "outputs": [
    {
     "name": "stdout",
     "output_type": "stream",
     "text": [
      "REPOSITORY        TAG       IMAGE ID       CREATED        SIZE\n",
      "ubuntu            latest    ca2b0f26964c   3 weeks ago    77.9MB\n",
      "nginx             latest    92b11f67642b   5 weeks ago    187MB\n",
      "redis             latest    170a1e90f843   2 months ago   138MB\n",
      "docker/whalesay   latest    6b362a9f73eb   8 years ago    247MB\n"
     ]
    }
   ],
   "source": [
    "%%bash \n",
    "docker images "
   ]
  },
  {
   "cell_type": "code",
   "execution_count": 20,
   "metadata": {},
   "outputs": [
    {
     "name": "stdout",
     "output_type": "stream",
     "text": [
      "nginx\n"
     ]
    }
   ],
   "source": [
    "%%bash \n",
    "# start ngnix container\n",
    "docker stop nginx"
   ]
  },
  {
   "cell_type": "code",
   "execution_count": 21,
   "metadata": {},
   "outputs": [
    {
     "name": "stdout",
     "output_type": "stream",
     "text": [
      "CONTAINER ID   IMAGE             COMMAND                  CREATED         STATUS                      PORTS     NAMES\n",
      "d07c9b097363   nginx             \"/docker-entrypoint.…\"   3 minutes ago   Exited (0) 10 seconds ago             nginx\n",
      "cab606bb94d7   ubuntu            \"cat /etc/lsb-release\"   4 minutes ago   Exited (0) 4 minutes ago              boring_roentgen\n",
      "3ed4025c4dde   docker/whalesay   \"cowsay Hello-World\"     5 minutes ago   Exited (0) 4 minutes ago              musing_boyd\n",
      "07f17d2318f1   docker/whalesay   \"cowsay Hello-World\"     7 minutes ago   Exited (0) 4 minutes ago              eager_ride\n"
     ]
    }
   ],
   "source": [
    "%%bash \n",
    "docker ps -a"
   ]
  },
  {
   "cell_type": "code",
   "execution_count": 50,
   "metadata": {},
   "outputs": [
    {
     "name": "stdout",
     "output_type": "stream",
     "text": [
      "794300f4f04b0d26c4d8f94bf7769d3c0a66bda5b821d3c564a399ede6310c55\n"
     ]
    }
   ],
   "source": [
    "%%bash \n",
    "# run nginx container with custom html\n",
    "# -v to add volume \n",
    "docker run -it --rm -d -p 8080:80 -v $(pwd)/site-content:/usr/share/nginx/html --name web nginx"
   ]
  },
  {
   "cell_type": "code",
   "execution_count": 1,
   "metadata": {},
   "outputs": [
    {
     "name": "stdout",
     "output_type": "stream",
     "text": [
      "*** inspect container ***\n"
     ]
    },
    {
     "name": "stderr",
     "output_type": "stream",
     "text": [
      "Error: No such object: web\n"
     ]
    },
    {
     "name": "stdout",
     "output_type": "stream",
     "text": [
      "*************************\n"
     ]
    }
   ],
   "source": [
    "%%bash\n",
    "echo \"*** inspect container ***\"\n",
    "docker inspect web >> docker.log \n",
    "echo \"*************************\""
   ]
  },
  {
   "cell_type": "code",
   "execution_count": 26,
   "metadata": {},
   "outputs": [
    {
     "name": "stdout",
     "output_type": "stream",
     "text": [
      "1:C 24 Mar 2024 20:30:06.051 * oO0OoO0OoO0Oo Redis is starting oO0OoO0OoO0Oo\n",
      "1:C 24 Mar 2024 20:30:06.052 * Redis version=7.2.4, bits=64, commit=00000000, modified=0, pid=1, just started\n",
      "1:C 24 Mar 2024 20:30:06.052 # Warning: no config file specified, using the default config. In order to specify a config file use redis-server /path/to/redis.conf\n",
      "1:M 24 Mar 2024 20:30:06.055 * monotonic clock: POSIX clock_gettime\n",
      "1:M 24 Mar 2024 20:30:06.058 * Running mode=standalone, port=6379.\n",
      "1:M 24 Mar 2024 20:30:06.060 * Server initialized\n",
      "1:M 24 Mar 2024 20:30:06.061 * Ready to accept connections tcp\n",
      "Error while terminating subprocess (pid=753183): \n"
     ]
    }
   ],
   "source": [
    "%%bash \n",
    "docker run redis "
   ]
  },
  {
   "cell_type": "code",
   "execution_count": 27,
   "metadata": {},
   "outputs": [
    {
     "name": "stdout",
     "output_type": "stream",
     "text": [
      "CONTAINER ID   IMAGE     COMMAND                  CREATED          STATUS          PORTS      NAMES\n",
      "ea030a072722   redis     \"docker-entrypoint.s…\"   44 seconds ago   Up 39 seconds   6379/tcp   vigorous_goodall\n",
      "c75c594a4f2f   redis     \"docker-entrypoint.s…\"   3 hours ago      Up 3 hours      6379/tcp   vibrant_carver\n"
     ]
    }
   ],
   "source": [
    "%%bash \n",
    "docker ps"
   ]
  },
  {
   "cell_type": "code",
   "execution_count": 29,
   "metadata": {},
   "outputs": [
    {
     "name": "stdout",
     "output_type": "stream",
     "text": [
      "1:signal-handler (1711312281) Received SIGTERM scheduling shutdown...\n",
      "1:M 24 Mar 2024 20:31:21.269 * User requested shutdown...\n",
      "1:M 24 Mar 2024 20:31:21.270 * Saving the final RDB snapshot before exiting.\n",
      "1:M 24 Mar 2024 20:31:21.601 * DB saved on disk\n",
      "1:M 24 Mar 2024 20:31:21.601 # Redis is now ready to exit, bye bye...\n"
     ]
    }
   ],
   "source": [
    "%%bash \n",
    "docker stop $(docker ps -aq) >> docker.log"
   ]
  },
  {
   "cell_type": "code",
   "execution_count": 5,
   "metadata": {},
   "outputs": [
    {
     "name": "stdout",
     "output_type": "stream",
     "text": [
      "CONTAINER ID   IMAGE             COMMAND                  CREATED          STATUS                      PORTS     NAMES\n",
      "ea030a072722   redis             \"docker-entrypoint.s…\"   13 minutes ago   Exited (0) 12 minutes ago             vigorous_goodall\n",
      "c75c594a4f2f   redis             \"docker-entrypoint.s…\"   3 hours ago      Exited (0) 12 minutes ago             vibrant_carver\n",
      "d07c9b097363   nginx             \"/docker-entrypoint.…\"   3 hours ago      Exited (0) 3 hours ago                nginx\n",
      "cab606bb94d7   ubuntu            \"cat /etc/lsb-release\"   3 hours ago      Exited (0) 3 hours ago                boring_roentgen\n",
      "3ed4025c4dde   docker/whalesay   \"cowsay Hello-World\"     4 hours ago      Exited (0) 3 hours ago                musing_boyd\n",
      "07f17d2318f1   docker/whalesay   \"cowsay Hello-World\"     4 hours ago      Exited (0) 3 hours ago                eager_ride\n"
     ]
    }
   ],
   "source": [
    "%%bash \n",
    "docker ps -a"
   ]
  },
  {
   "cell_type": "code",
   "execution_count": 7,
   "metadata": {},
   "outputs": [
    {
     "name": "stdout",
     "output_type": "stream",
     "text": [
      "musing_boyd\n",
      "eager_ride\n"
     ]
    }
   ],
   "source": [
    "%%bash \n",
    "# remove the container\n",
    "docker rm  musing_boyd\n",
    "docker rm  eager_ride"
   ]
  },
  {
   "cell_type": "code",
   "execution_count": 8,
   "metadata": {},
   "outputs": [
    {
     "name": "stdout",
     "output_type": "stream",
     "text": [
      "CONTAINER ID   IMAGE     COMMAND                  CREATED          STATUS                      PORTS     NAMES\n",
      "ea030a072722   redis     \"docker-entrypoint.s…\"   14 minutes ago   Exited (0) 13 minutes ago             vigorous_goodall\n",
      "c75c594a4f2f   redis     \"docker-entrypoint.s…\"   3 hours ago      Exited (0) 13 minutes ago             vibrant_carver\n",
      "d07c9b097363   nginx     \"/docker-entrypoint.…\"   3 hours ago      Exited (0) 3 hours ago                nginx\n",
      "cab606bb94d7   ubuntu    \"cat /etc/lsb-release\"   3 hours ago      Exited (0) 3 hours ago                boring_roentgen\n"
     ]
    }
   ],
   "source": [
    "%%bash \n",
    "docker ps -a"
   ]
  },
  {
   "cell_type": "code",
   "execution_count": 9,
   "metadata": {},
   "outputs": [
    {
     "name": "stdout",
     "output_type": "stream",
     "text": [
      "Untagged: docker/whalesay:latest\n",
      "Untagged: docker/whalesay@sha256:178598e51a26abbc958b8a2e48825c90bc22e641de3d31e18aaf55f3258ba93b\n",
      "Deleted: sha256:6b362a9f73eb8c33b48c95f4fcce1b6637fc25646728cf7fb0679b2da273c3f4\n",
      "Deleted: sha256:34dd66b3cb4467517d0c5c7dbe320b84539fbb58bc21702d2f749a5c932b3a38\n",
      "Deleted: sha256:52f57e48814ed1bb08a651ef7f91f191db3680212a96b7f318bff0904fed2e65\n",
      "Deleted: sha256:72915b616c0db6345e52a2c536de38e29208d945889eecef01d0fef0ed207ce8\n",
      "Deleted: sha256:4ee0c1e90444c9b56880381aff6455f149c92c9a29c3774919632ded4f728d6b\n",
      "Deleted: sha256:86ac1c0970bf5ea1bf482edb0ba83dbc88fefb1ac431d3020f134691d749d9a6\n",
      "Deleted: sha256:5c4ac45a28f91f851b66af332a452cba25bd74a811f7e3884ed8723570ad6bc8\n",
      "Deleted: sha256:088f9eb16f16713e449903f7edb4016084de8234d73a45b1882cf29b1f753a5a\n",
      "Deleted: sha256:799115b9fdd1511e8af8a8a3c8b450d81aa842bbf3c9f88e9126d264b232c598\n",
      "Deleted: sha256:3549adbf614379d5c33ef0c5c6486a0d3f577ba3341f573be91b4ba1d8c60ce4\n",
      "Deleted: sha256:1154ba695078d29ea6c4e1adb55c463959cd77509adf09710e2315827d66271a\n"
     ]
    }
   ],
   "source": [
    "%%bash \n",
    "# remove the image\n",
    "docker rmi docker/whalesay"
   ]
  },
  {
   "cell_type": "code",
   "execution_count": 10,
   "metadata": {},
   "outputs": [],
   "source": [
    "%%bash \n",
    "# build the docker image\n",
    "# docker build – To build Docker Image from Dockerfile\n",
    "echo \"\"\" \n",
    "FROM nginx\n",
    "COPY site-content/index.html /usr/share/nginx/html/index.html\n",
    "\"\"\"  > Dockerfile\n"
   ]
  },
  {
   "cell_type": "code",
   "execution_count": 12,
   "metadata": {},
   "outputs": [
    {
     "name": "stderr",
     "output_type": "stream",
     "text": [
      "#0 building with \"desktop-linux\" instance using docker driver\n",
      "\n",
      "#1 [internal] load build definition from Dockerfile\n",
      "#1 transferring dockerfile: 29B 0.0s\n",
      "#1 transferring dockerfile: 113B 0.2s done\n",
      "#1 DONE 0.8s\n",
      "\n",
      "#2 [internal] load .dockerignore\n",
      "#2 transferring context: 2B 0.1s done\n",
      "#2 DONE 0.9s\n",
      "\n",
      "#3 [internal] load metadata for docker.io/library/nginx:latest\n",
      "#3 DONE 0.0s\n",
      "\n",
      "#4 [1/2] FROM docker.io/library/nginx\n",
      "#4 DONE 0.0s\n",
      "\n",
      "#5 [internal] load build context\n",
      "#5 transferring context: 77B 0.1s done\n",
      "#5 DONE 0.3s\n",
      "\n",
      "#6 [2/2] COPY site-content/index.html /usr/share/nginx/html/index.html\n",
      "#6 CACHED\n",
      "\n",
      "#7 exporting to image\n",
      "#7 exporting layers done\n",
      "#7 writing image sha256:5d3bc18ff60a73370cb4c06c0d52a007a3ba2917ac03cad8cc7e3cefb534ac37\n",
      "#7 writing image sha256:5d3bc18ff60a73370cb4c06c0d52a007a3ba2917ac03cad8cc7e3cefb534ac37 0.1s done\n",
      "#7 naming to docker.io/library/webserver\n",
      "#7 naming to docker.io/library/webserver 0.1s done\n",
      "#7 DONE 0.6s\n"
     ]
    }
   ],
   "source": [
    "%%bash \n",
    "# build Dockerfile\n",
    "docker build  -t webserver .\n"
   ]
  },
  {
   "cell_type": "code",
   "execution_count": 13,
   "metadata": {},
   "outputs": [
    {
     "name": "stdout",
     "output_type": "stream",
     "text": [
      "REPOSITORY   TAG       IMAGE ID       CREATED        SIZE\n",
      "webserver    latest    5d3bc18ff60a   3 days ago     187MB\n",
      "ubuntu       latest    ca2b0f26964c   3 weeks ago    77.9MB\n",
      "nginx        latest    92b11f67642b   5 weeks ago    187MB\n",
      "redis        latest    170a1e90f843   2 months ago   138MB\n"
     ]
    }
   ],
   "source": [
    "%%bash \n",
    "docker images"
   ]
  },
  {
   "cell_type": "code",
   "execution_count": 21,
   "metadata": {},
   "outputs": [
    {
     "name": "stdout",
     "output_type": "stream",
     "text": [
      "09d89b4f739057ea950456ce17f7378a5780d5e7d5f2a87ead30400db40bd249\n"
     ]
    }
   ],
   "source": [
    "%%bash \n",
    "# run the docker image\n",
    "docker run -it --rm -d -p 8080:80 --name web webserver"
   ]
  },
  {
   "cell_type": "code",
   "execution_count": 22,
   "metadata": {},
   "outputs": [
    {
     "name": "stdout",
     "output_type": "stream",
     "text": [
      "/docker-entrypoint.sh: /docker-entrypoint.d/ is not empty, will attempt to perform configuration\n",
      "/docker-entrypoint.sh: Looking for shell scripts in /docker-entrypoint.d/\n",
      "/docker-entrypoint.sh: Launching /docker-entrypoint.d/10-listen-on-ipv6-by-default.sh\n",
      "10-listen-on-ipv6-by-default.sh: info: Getting the checksum of /etc/nginx/conf.d/default.conf\n",
      "10-listen-on-ipv6-by-default.sh: info: Enabled listen on IPv6 in /etc/nginx/conf.d/default.conf\n",
      "/docker-entrypoint.sh: Sourcing /docker-entrypoint.d/15-local-resolvers.envsh\n",
      "/docker-entrypoint.sh: Launching /docker-entrypoint.d/20-envsubst-on-templates.sh\n",
      "/docker-entrypoint.sh: Launching /docker-entrypoint.d/30-tune-worker-processes.sh\n",
      "/docker-entrypoint.sh: Configuration complete; ready for start up\n",
      "2024/03/24 20:52:15 [notice] 1#1: using the \"epoll\" event method\n",
      "2024/03/24 20:52:15 [notice] 1#1: nginx/1.25.4\n",
      "2024/03/24 20:52:15 [notice] 1#1: built by gcc 12.2.0 (Debian 12.2.0-14) \n",
      "2024/03/24 20:52:15 [notice] 1#1: OS: Linux 5.15.49-linuxkit\n",
      "2024/03/24 20:52:15 [notice] 1#1: getrlimit(RLIMIT_NOFILE): 1048576:1048576\n",
      "2024/03/24 20:52:15 [notice] 1#1: start worker processes\n",
      "2024/03/24 20:52:15 [notice] 1#1: start worker process 29\n"
     ]
    }
   ],
   "source": [
    "%%bash \n",
    "# docker logs -To view Logs for a Docker Container\n",
    "docker logs web"
   ]
  },
  {
   "cell_type": "code",
   "execution_count": 23,
   "metadata": {},
   "outputs": [],
   "source": [
    "%%bash \n",
    "docker rename web webserver"
   ]
  },
  {
   "cell_type": "code",
   "execution_count": 24,
   "metadata": {},
   "outputs": [
    {
     "name": "stdout",
     "output_type": "stream",
     "text": [
      "webserver\n"
     ]
    }
   ],
   "source": [
    "%%bash \n",
    "docker stop webserver"
   ]
  }
 ],
 "metadata": {
  "kernelspec": {
   "display_name": "Python 3",
   "language": "python",
   "name": "python3"
  },
  "language_info": {
   "codemirror_mode": {
    "name": "ipython",
    "version": 3
   },
   "file_extension": ".py",
   "mimetype": "text/x-python",
   "name": "python",
   "nbconvert_exporter": "python",
   "pygments_lexer": "ipython3",
   "version": "3.10.12"
  }
 },
 "nbformat": 4,
 "nbformat_minor": 2
}
